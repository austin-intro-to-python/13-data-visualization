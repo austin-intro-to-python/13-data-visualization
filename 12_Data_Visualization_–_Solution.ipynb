{
  "cells": [
    {
      "cell_type": "code",
      "execution_count": null,
      "metadata": {
        "id": "1aPf7jODly9G"
      },
      "outputs": [],
      "source": [
        "import pandas as pd\n",
        "import numpy as np\n",
        "import matplotlib.pyplot as plt\n",
        "\n",
        "# set the plots to display in the Jupyter notebook\n",
        "%matplotlib inline"
      ]
    },
    {
      "cell_type": "code",
      "execution_count": null,
      "metadata": {
        "id": "SlPVby9fly9I"
      },
      "outputs": [],
      "source": [
        "# 9.1 Line Plot\n",
        "\n",
        "# A. Make a dataframe called foot using the \"./international_football_results.csv\" file\n",
        "#    Perform a few exploratory data analysis operations before working with the data set\n",
        "foot = pd.read_csv(\"./international_football_results.csv\")\n",
        "# We'll use the .to_datetime method and .dt.year property to set the \"year\" column from a string to an integer\n",
        "foot['year'] = pd.to_datetime(foot['date']).dt.year"
      ]
    },
    {
      "cell_type": "code",
      "execution_count": null,
      "metadata": {
        "id": "0WGuikrOly9K"
      },
      "outputs": [],
      "source": [
        "# B. Let's chart how many games occured in each year:\n",
        "foot['year'].value_counts()"
      ]
    },
    {
      "cell_type": "code",
      "execution_count": null,
      "metadata": {
        "id": "5LDjjMnEly9M"
      },
      "outputs": [],
      "source": [
        "# The years are out of order! Fortunately, we can sort our column by its index with sort_index()\n",
        "foot['year'].value_counts().sort_index()"
      ]
    },
    {
      "cell_type": "code",
      "execution_count": null,
      "metadata": {
        "id": "SgnNee-jly9N"
      },
      "outputs": [],
      "source": [
        "# Finally, we're ready to plot the change over time with .plot()\n",
        "foot['year'].value_counts().sort_index().plot()"
      ]
    },
    {
      "cell_type": "code",
      "execution_count": null,
      "metadata": {
        "id": "SVHKY4oSly9N"
      },
      "outputs": [],
      "source": [
        "# 9.2 Bar Charts\n",
        "# A. Let's see how many games each country played, represented as a bar chart\n",
        "foot['country'].value_counts().head().plot(kind=\"bar\")"
      ]
    },
    {
      "cell_type": "code",
      "execution_count": null,
      "metadata": {
        "id": "4S5xCUmtly9O"
      },
      "outputs": [],
      "source": [
        "# B. Now let's plot the occurence of specific scores for the home team\n",
        "foot['home_score'].value_counts().head().plot(kind=\"bar\")"
      ]
    },
    {
      "cell_type": "code",
      "execution_count": null,
      "metadata": {
        "id": "gzOvZ-Lgly9O"
      },
      "outputs": [],
      "source": [
        "# C. Instead of sorting from highest to lowest value, let's sort the x axis in ascending order\n",
        "foot['home_score'].value_counts().sort_index().head().plot(kind=\"bar\")"
      ]
    },
    {
      "cell_type": "code",
      "execution_count": null,
      "metadata": {
        "id": "jRWjjhytly9P"
      },
      "outputs": [],
      "source": [
        "# BONUS: Compare the home_score and away_score value counts to analyze home field advantage\n",
        "# You will need to use the .apply method to use value_counts on each column of a dataframe\n",
        "foot[['home_score', 'away_score']].apply(pd.Series.value_counts).head().plot(kind=\"bar\")"
      ]
    },
    {
      "cell_type": "code",
      "execution_count": null,
      "metadata": {
        "id": "GMQOBB9Ely9Q"
      },
      "outputs": [],
      "source": [
        "# 9.3 Histograms\n",
        "# A. Let's start with a new dataset. Create a dataframe called choc from the './chocolate_reviews.csv' file\n",
        "#    Inspect the data using some exploratory data analysis methods\n",
        "choc = pd.read_csv('./datasets/chocolate_ratings.csv')\n",
        "choc.columns\n",
        "pd.DataFrame(choc.dtypes, columns=[\"DataType\"])"
      ]
    },
    {
      "cell_type": "code",
      "execution_count": null,
      "metadata": {
        "id": "KMkhf4rkly9R"
      },
      "outputs": [],
      "source": [
        "# B. Now, let's explore the distribution of ratings\n",
        "#    i. Start by plotting the Rating column in a histogram\n",
        "choc['Rating'].plot(kind=\"hist\")"
      ]
    },
    {
      "cell_type": "code",
      "execution_count": null,
      "metadata": {
        "id": "Va9XSp4dly9S"
      },
      "outputs": [],
      "source": [
        "#    ii. Looking good! Let's see how granular we can get\n",
        "#        Modify the number of bins to change how ranges are distributed\n",
        "choc['Rating'].plot(kind=\"hist\", bins=3)\n",
        "choc['Rating'].plot(kind=\"hist\", bins=20)"
      ]
    },
    {
      "cell_type": "code",
      "execution_count": null,
      "metadata": {
        "id": "Jsra7GMnly9S"
      },
      "outputs": [],
      "source": [
        "#    iii. Now, let's add some descriptive labels to our chart using matplotlib\n",
        "choc['Rating'].plot(kind='hist', bins=20)\n",
        "plt.ylabel('Number of Ratings')\n",
        "plt.xlabel('Chocolate Rating')\n",
        "plt.title('Distribution of Chocolate Ratings');"
      ]
    },
    {
      "cell_type": "code",
      "execution_count": null,
      "metadata": {
        "scrolled": false,
        "id": "BSHIPFGNly9T"
      },
      "outputs": [],
      "source": [
        "# 9.4 Scatter Plots\n",
        "# A. Is there a connection between Review Date and Rating? Plot them with a scatter plot\n",
        "choc.plot(kind=\"scatter\", x=\"Review\\nDate\", y=\"Rating\" )\n",
        "# Why is this graph not so helpful?"
      ]
    },
    {
      "cell_type": "code",
      "execution_count": null,
      "metadata": {
        "id": "ylyh4ls2ly9T"
      },
      "outputs": [],
      "source": [
        "# B. Explore this new dataframe, then scatter plot correlation between Total Volume and AveragePrice\n",
        "avo = pd.read_csv('./datasets/avocado.csv')\n",
        "avo.plot(kind='scatter', x='Total Volume', y='AveragePrice')"
      ]
    },
    {
      "cell_type": "code",
      "execution_count": null,
      "metadata": {
        "id": "KSvy43pbly9T"
      },
      "outputs": [],
      "source": [
        "# 9.5 Visualizations to Hypotheses\n",
        "# Create visualizations around any of the above datasets or our superstore datasets\n",
        "# For at least one of the visualizations, attach a hypothesis or specific claim the chart supports"
      ]
    }
  ],
  "metadata": {
    "kernelspec": {
      "display_name": "Python 3",
      "language": "python",
      "name": "python3"
    },
    "language_info": {
      "codemirror_mode": {
        "name": "ipython",
        "version": 3
      },
      "file_extension": ".py",
      "mimetype": "text/x-python",
      "name": "python",
      "nbconvert_exporter": "python",
      "pygments_lexer": "ipython3",
      "version": "3.7.6"
    },
    "colab": {
      "name": "12. Data Visualization – Solution.ipynb",
      "provenance": []
    }
  },
  "nbformat": 4,
  "nbformat_minor": 0
}