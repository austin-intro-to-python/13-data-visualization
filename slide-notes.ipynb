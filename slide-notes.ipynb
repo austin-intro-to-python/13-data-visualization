{
 "cells": [
  {
   "cell_type": "markdown",
   "id": "d1a060ad",
   "metadata": {},
   "source": [
    "#  Data Visualization With Pandas"
   ]
  },
  {
   "cell_type": "markdown",
   "id": "6c544cd0",
   "metadata": {},
   "source": [
    "### Learning Objectives\n",
    "* Explain the characteristics of a great data visualization.\n",
    "* Identify when to use a bar chart, pie chart, line chart, scatterplot, or histogram.\n",
    "* Use Pandas to implement line charts, bar charts, scatterplots, and histograms.\n",
    " "
   ]
  },
  {
   "cell_type": "code",
   "execution_count": 11,
   "id": "0e0e6fba",
   "metadata": {},
   "outputs": [],
   "source": [
    "import plotly.graph_objs as go\n",
    "import numpy as np"
   ]
  },
  {
   "cell_type": "markdown",
   "id": "35e6bc3f",
   "metadata": {},
   "source": [
    "## Bar Charts"
   ]
  },
  {
   "cell_type": "code",
   "execution_count": 8,
   "id": "7629be22",
   "metadata": {},
   "outputs": [
    {
     "data": {
      "application/vnd.plotly.v1+json": {
       "config": {
        "plotlyServerURL": "https://plot.ly"
       },
       "data": [
        {
         "type": "bar",
         "x": [
          "monkeys",
          "tigers",
          "giraffes"
         ],
         "y": [
          5,
          7,
          2
         ]
        }
       ],
       "layout": {
        "template": {
         "data": {
          "bar": [
           {
            "error_x": {
             "color": "#2a3f5f"
            },
            "error_y": {
             "color": "#2a3f5f"
            },
            "marker": {
             "line": {
              "color": "#E5ECF6",
              "width": 0.5
             },
             "pattern": {
              "fillmode": "overlay",
              "size": 10,
              "solidity": 0.2
             }
            },
            "type": "bar"
           }
          ],
          "barpolar": [
           {
            "marker": {
             "line": {
              "color": "#E5ECF6",
              "width": 0.5
             },
             "pattern": {
              "fillmode": "overlay",
              "size": 10,
              "solidity": 0.2
             }
            },
            "type": "barpolar"
           }
          ],
          "carpet": [
           {
            "aaxis": {
             "endlinecolor": "#2a3f5f",
             "gridcolor": "white",
             "linecolor": "white",
             "minorgridcolor": "white",
             "startlinecolor": "#2a3f5f"
            },
            "baxis": {
             "endlinecolor": "#2a3f5f",
             "gridcolor": "white",
             "linecolor": "white",
             "minorgridcolor": "white",
             "startlinecolor": "#2a3f5f"
            },
            "type": "carpet"
           }
          ],
          "choropleth": [
           {
            "colorbar": {
             "outlinewidth": 0,
             "ticks": ""
            },
            "type": "choropleth"
           }
          ],
          "contour": [
           {
            "colorbar": {
             "outlinewidth": 0,
             "ticks": ""
            },
            "colorscale": [
             [
              0,
              "#0d0887"
             ],
             [
              0.1111111111111111,
              "#46039f"
             ],
             [
              0.2222222222222222,
              "#7201a8"
             ],
             [
              0.3333333333333333,
              "#9c179e"
             ],
             [
              0.4444444444444444,
              "#bd3786"
             ],
             [
              0.5555555555555556,
              "#d8576b"
             ],
             [
              0.6666666666666666,
              "#ed7953"
             ],
             [
              0.7777777777777778,
              "#fb9f3a"
             ],
             [
              0.8888888888888888,
              "#fdca26"
             ],
             [
              1,
              "#f0f921"
             ]
            ],
            "type": "contour"
           }
          ],
          "contourcarpet": [
           {
            "colorbar": {
             "outlinewidth": 0,
             "ticks": ""
            },
            "type": "contourcarpet"
           }
          ],
          "heatmap": [
           {
            "colorbar": {
             "outlinewidth": 0,
             "ticks": ""
            },
            "colorscale": [
             [
              0,
              "#0d0887"
             ],
             [
              0.1111111111111111,
              "#46039f"
             ],
             [
              0.2222222222222222,
              "#7201a8"
             ],
             [
              0.3333333333333333,
              "#9c179e"
             ],
             [
              0.4444444444444444,
              "#bd3786"
             ],
             [
              0.5555555555555556,
              "#d8576b"
             ],
             [
              0.6666666666666666,
              "#ed7953"
             ],
             [
              0.7777777777777778,
              "#fb9f3a"
             ],
             [
              0.8888888888888888,
              "#fdca26"
             ],
             [
              1,
              "#f0f921"
             ]
            ],
            "type": "heatmap"
           }
          ],
          "heatmapgl": [
           {
            "colorbar": {
             "outlinewidth": 0,
             "ticks": ""
            },
            "colorscale": [
             [
              0,
              "#0d0887"
             ],
             [
              0.1111111111111111,
              "#46039f"
             ],
             [
              0.2222222222222222,
              "#7201a8"
             ],
             [
              0.3333333333333333,
              "#9c179e"
             ],
             [
              0.4444444444444444,
              "#bd3786"
             ],
             [
              0.5555555555555556,
              "#d8576b"
             ],
             [
              0.6666666666666666,
              "#ed7953"
             ],
             [
              0.7777777777777778,
              "#fb9f3a"
             ],
             [
              0.8888888888888888,
              "#fdca26"
             ],
             [
              1,
              "#f0f921"
             ]
            ],
            "type": "heatmapgl"
           }
          ],
          "histogram": [
           {
            "marker": {
             "pattern": {
              "fillmode": "overlay",
              "size": 10,
              "solidity": 0.2
             }
            },
            "type": "histogram"
           }
          ],
          "histogram2d": [
           {
            "colorbar": {
             "outlinewidth": 0,
             "ticks": ""
            },
            "colorscale": [
             [
              0,
              "#0d0887"
             ],
             [
              0.1111111111111111,
              "#46039f"
             ],
             [
              0.2222222222222222,
              "#7201a8"
             ],
             [
              0.3333333333333333,
              "#9c179e"
             ],
             [
              0.4444444444444444,
              "#bd3786"
             ],
             [
              0.5555555555555556,
              "#d8576b"
             ],
             [
              0.6666666666666666,
              "#ed7953"
             ],
             [
              0.7777777777777778,
              "#fb9f3a"
             ],
             [
              0.8888888888888888,
              "#fdca26"
             ],
             [
              1,
              "#f0f921"
             ]
            ],
            "type": "histogram2d"
           }
          ],
          "histogram2dcontour": [
           {
            "colorbar": {
             "outlinewidth": 0,
             "ticks": ""
            },
            "colorscale": [
             [
              0,
              "#0d0887"
             ],
             [
              0.1111111111111111,
              "#46039f"
             ],
             [
              0.2222222222222222,
              "#7201a8"
             ],
             [
              0.3333333333333333,
              "#9c179e"
             ],
             [
              0.4444444444444444,
              "#bd3786"
             ],
             [
              0.5555555555555556,
              "#d8576b"
             ],
             [
              0.6666666666666666,
              "#ed7953"
             ],
             [
              0.7777777777777778,
              "#fb9f3a"
             ],
             [
              0.8888888888888888,
              "#fdca26"
             ],
             [
              1,
              "#f0f921"
             ]
            ],
            "type": "histogram2dcontour"
           }
          ],
          "mesh3d": [
           {
            "colorbar": {
             "outlinewidth": 0,
             "ticks": ""
            },
            "type": "mesh3d"
           }
          ],
          "parcoords": [
           {
            "line": {
             "colorbar": {
              "outlinewidth": 0,
              "ticks": ""
             }
            },
            "type": "parcoords"
           }
          ],
          "pie": [
           {
            "automargin": true,
            "type": "pie"
           }
          ],
          "scatter": [
           {
            "marker": {
             "colorbar": {
              "outlinewidth": 0,
              "ticks": ""
             }
            },
            "type": "scatter"
           }
          ],
          "scatter3d": [
           {
            "line": {
             "colorbar": {
              "outlinewidth": 0,
              "ticks": ""
             }
            },
            "marker": {
             "colorbar": {
              "outlinewidth": 0,
              "ticks": ""
             }
            },
            "type": "scatter3d"
           }
          ],
          "scattercarpet": [
           {
            "marker": {
             "colorbar": {
              "outlinewidth": 0,
              "ticks": ""
             }
            },
            "type": "scattercarpet"
           }
          ],
          "scattergeo": [
           {
            "marker": {
             "colorbar": {
              "outlinewidth": 0,
              "ticks": ""
             }
            },
            "type": "scattergeo"
           }
          ],
          "scattergl": [
           {
            "marker": {
             "colorbar": {
              "outlinewidth": 0,
              "ticks": ""
             }
            },
            "type": "scattergl"
           }
          ],
          "scattermapbox": [
           {
            "marker": {
             "colorbar": {
              "outlinewidth": 0,
              "ticks": ""
             }
            },
            "type": "scattermapbox"
           }
          ],
          "scatterpolar": [
           {
            "marker": {
             "colorbar": {
              "outlinewidth": 0,
              "ticks": ""
             }
            },
            "type": "scatterpolar"
           }
          ],
          "scatterpolargl": [
           {
            "marker": {
             "colorbar": {
              "outlinewidth": 0,
              "ticks": ""
             }
            },
            "type": "scatterpolargl"
           }
          ],
          "scatterternary": [
           {
            "marker": {
             "colorbar": {
              "outlinewidth": 0,
              "ticks": ""
             }
            },
            "type": "scatterternary"
           }
          ],
          "surface": [
           {
            "colorbar": {
             "outlinewidth": 0,
             "ticks": ""
            },
            "colorscale": [
             [
              0,
              "#0d0887"
             ],
             [
              0.1111111111111111,
              "#46039f"
             ],
             [
              0.2222222222222222,
              "#7201a8"
             ],
             [
              0.3333333333333333,
              "#9c179e"
             ],
             [
              0.4444444444444444,
              "#bd3786"
             ],
             [
              0.5555555555555556,
              "#d8576b"
             ],
             [
              0.6666666666666666,
              "#ed7953"
             ],
             [
              0.7777777777777778,
              "#fb9f3a"
             ],
             [
              0.8888888888888888,
              "#fdca26"
             ],
             [
              1,
              "#f0f921"
             ]
            ],
            "type": "surface"
           }
          ],
          "table": [
           {
            "cells": {
             "fill": {
              "color": "#EBF0F8"
             },
             "line": {
              "color": "white"
             }
            },
            "header": {
             "fill": {
              "color": "#C8D4E3"
             },
             "line": {
              "color": "white"
             }
            },
            "type": "table"
           }
          ]
         },
         "layout": {
          "annotationdefaults": {
           "arrowcolor": "#2a3f5f",
           "arrowhead": 0,
           "arrowwidth": 1
          },
          "autotypenumbers": "strict",
          "coloraxis": {
           "colorbar": {
            "outlinewidth": 0,
            "ticks": ""
           }
          },
          "colorscale": {
           "diverging": [
            [
             0,
             "#8e0152"
            ],
            [
             0.1,
             "#c51b7d"
            ],
            [
             0.2,
             "#de77ae"
            ],
            [
             0.3,
             "#f1b6da"
            ],
            [
             0.4,
             "#fde0ef"
            ],
            [
             0.5,
             "#f7f7f7"
            ],
            [
             0.6,
             "#e6f5d0"
            ],
            [
             0.7,
             "#b8e186"
            ],
            [
             0.8,
             "#7fbc41"
            ],
            [
             0.9,
             "#4d9221"
            ],
            [
             1,
             "#276419"
            ]
           ],
           "sequential": [
            [
             0,
             "#0d0887"
            ],
            [
             0.1111111111111111,
             "#46039f"
            ],
            [
             0.2222222222222222,
             "#7201a8"
            ],
            [
             0.3333333333333333,
             "#9c179e"
            ],
            [
             0.4444444444444444,
             "#bd3786"
            ],
            [
             0.5555555555555556,
             "#d8576b"
            ],
            [
             0.6666666666666666,
             "#ed7953"
            ],
            [
             0.7777777777777778,
             "#fb9f3a"
            ],
            [
             0.8888888888888888,
             "#fdca26"
            ],
            [
             1,
             "#f0f921"
            ]
           ],
           "sequentialminus": [
            [
             0,
             "#0d0887"
            ],
            [
             0.1111111111111111,
             "#46039f"
            ],
            [
             0.2222222222222222,
             "#7201a8"
            ],
            [
             0.3333333333333333,
             "#9c179e"
            ],
            [
             0.4444444444444444,
             "#bd3786"
            ],
            [
             0.5555555555555556,
             "#d8576b"
            ],
            [
             0.6666666666666666,
             "#ed7953"
            ],
            [
             0.7777777777777778,
             "#fb9f3a"
            ],
            [
             0.8888888888888888,
             "#fdca26"
            ],
            [
             1,
             "#f0f921"
            ]
           ]
          },
          "colorway": [
           "#636efa",
           "#EF553B",
           "#00cc96",
           "#ab63fa",
           "#FFA15A",
           "#19d3f3",
           "#FF6692",
           "#B6E880",
           "#FF97FF",
           "#FECB52"
          ],
          "font": {
           "color": "#2a3f5f"
          },
          "geo": {
           "bgcolor": "white",
           "lakecolor": "white",
           "landcolor": "#E5ECF6",
           "showlakes": true,
           "showland": true,
           "subunitcolor": "white"
          },
          "hoverlabel": {
           "align": "left"
          },
          "hovermode": "closest",
          "mapbox": {
           "style": "light"
          },
          "paper_bgcolor": "white",
          "plot_bgcolor": "#E5ECF6",
          "polar": {
           "angularaxis": {
            "gridcolor": "white",
            "linecolor": "white",
            "ticks": ""
           },
           "bgcolor": "#E5ECF6",
           "radialaxis": {
            "gridcolor": "white",
            "linecolor": "white",
            "ticks": ""
           }
          },
          "scene": {
           "xaxis": {
            "backgroundcolor": "#E5ECF6",
            "gridcolor": "white",
            "gridwidth": 2,
            "linecolor": "white",
            "showbackground": true,
            "ticks": "",
            "zerolinecolor": "white"
           },
           "yaxis": {
            "backgroundcolor": "#E5ECF6",
            "gridcolor": "white",
            "gridwidth": 2,
            "linecolor": "white",
            "showbackground": true,
            "ticks": "",
            "zerolinecolor": "white"
           },
           "zaxis": {
            "backgroundcolor": "#E5ECF6",
            "gridcolor": "white",
            "gridwidth": 2,
            "linecolor": "white",
            "showbackground": true,
            "ticks": "",
            "zerolinecolor": "white"
           }
          },
          "shapedefaults": {
           "line": {
            "color": "#2a3f5f"
           }
          },
          "ternary": {
           "aaxis": {
            "gridcolor": "white",
            "linecolor": "white",
            "ticks": ""
           },
           "baxis": {
            "gridcolor": "white",
            "linecolor": "white",
            "ticks": ""
           },
           "bgcolor": "#E5ECF6",
           "caxis": {
            "gridcolor": "white",
            "linecolor": "white",
            "ticks": ""
           }
          },
          "title": {
           "x": 0.05
          },
          "xaxis": {
           "automargin": true,
           "gridcolor": "white",
           "linecolor": "white",
           "ticks": "",
           "title": {
            "standoff": 15
           },
           "zerolinecolor": "white",
           "zerolinewidth": 2
          },
          "yaxis": {
           "automargin": true,
           "gridcolor": "white",
           "linecolor": "white",
           "ticks": "",
           "title": {
            "standoff": 15
           },
           "zerolinecolor": "white",
           "zerolinewidth": 2
          }
         }
        }
       }
      },
      "text/html": [
       "<div>                            <div id=\"5b645deb-66ad-4a89-b069-170f95a26f1e\" class=\"plotly-graph-div\" style=\"height:525px; width:100%;\"></div>            <script type=\"text/javascript\">                require([\"plotly\"], function(Plotly) {                    window.PLOTLYENV=window.PLOTLYENV || {};                                    if (document.getElementById(\"5b645deb-66ad-4a89-b069-170f95a26f1e\")) {                    Plotly.newPlot(                        \"5b645deb-66ad-4a89-b069-170f95a26f1e\",                        [{\"x\":[\"monkeys\",\"tigers\",\"giraffes\"],\"y\":[5,7,2],\"type\":\"bar\"}],                        {\"template\":{\"data\":{\"bar\":[{\"error_x\":{\"color\":\"#2a3f5f\"},\"error_y\":{\"color\":\"#2a3f5f\"},\"marker\":{\"line\":{\"color\":\"#E5ECF6\",\"width\":0.5},\"pattern\":{\"fillmode\":\"overlay\",\"size\":10,\"solidity\":0.2}},\"type\":\"bar\"}],\"barpolar\":[{\"marker\":{\"line\":{\"color\":\"#E5ECF6\",\"width\":0.5},\"pattern\":{\"fillmode\":\"overlay\",\"size\":10,\"solidity\":0.2}},\"type\":\"barpolar\"}],\"carpet\":[{\"aaxis\":{\"endlinecolor\":\"#2a3f5f\",\"gridcolor\":\"white\",\"linecolor\":\"white\",\"minorgridcolor\":\"white\",\"startlinecolor\":\"#2a3f5f\"},\"baxis\":{\"endlinecolor\":\"#2a3f5f\",\"gridcolor\":\"white\",\"linecolor\":\"white\",\"minorgridcolor\":\"white\",\"startlinecolor\":\"#2a3f5f\"},\"type\":\"carpet\"}],\"choropleth\":[{\"colorbar\":{\"outlinewidth\":0,\"ticks\":\"\"},\"type\":\"choropleth\"}],\"contour\":[{\"colorbar\":{\"outlinewidth\":0,\"ticks\":\"\"},\"colorscale\":[[0.0,\"#0d0887\"],[0.1111111111111111,\"#46039f\"],[0.2222222222222222,\"#7201a8\"],[0.3333333333333333,\"#9c179e\"],[0.4444444444444444,\"#bd3786\"],[0.5555555555555556,\"#d8576b\"],[0.6666666666666666,\"#ed7953\"],[0.7777777777777778,\"#fb9f3a\"],[0.8888888888888888,\"#fdca26\"],[1.0,\"#f0f921\"]],\"type\":\"contour\"}],\"contourcarpet\":[{\"colorbar\":{\"outlinewidth\":0,\"ticks\":\"\"},\"type\":\"contourcarpet\"}],\"heatmap\":[{\"colorbar\":{\"outlinewidth\":0,\"ticks\":\"\"},\"colorscale\":[[0.0,\"#0d0887\"],[0.1111111111111111,\"#46039f\"],[0.2222222222222222,\"#7201a8\"],[0.3333333333333333,\"#9c179e\"],[0.4444444444444444,\"#bd3786\"],[0.5555555555555556,\"#d8576b\"],[0.6666666666666666,\"#ed7953\"],[0.7777777777777778,\"#fb9f3a\"],[0.8888888888888888,\"#fdca26\"],[1.0,\"#f0f921\"]],\"type\":\"heatmap\"}],\"heatmapgl\":[{\"colorbar\":{\"outlinewidth\":0,\"ticks\":\"\"},\"colorscale\":[[0.0,\"#0d0887\"],[0.1111111111111111,\"#46039f\"],[0.2222222222222222,\"#7201a8\"],[0.3333333333333333,\"#9c179e\"],[0.4444444444444444,\"#bd3786\"],[0.5555555555555556,\"#d8576b\"],[0.6666666666666666,\"#ed7953\"],[0.7777777777777778,\"#fb9f3a\"],[0.8888888888888888,\"#fdca26\"],[1.0,\"#f0f921\"]],\"type\":\"heatmapgl\"}],\"histogram\":[{\"marker\":{\"pattern\":{\"fillmode\":\"overlay\",\"size\":10,\"solidity\":0.2}},\"type\":\"histogram\"}],\"histogram2d\":[{\"colorbar\":{\"outlinewidth\":0,\"ticks\":\"\"},\"colorscale\":[[0.0,\"#0d0887\"],[0.1111111111111111,\"#46039f\"],[0.2222222222222222,\"#7201a8\"],[0.3333333333333333,\"#9c179e\"],[0.4444444444444444,\"#bd3786\"],[0.5555555555555556,\"#d8576b\"],[0.6666666666666666,\"#ed7953\"],[0.7777777777777778,\"#fb9f3a\"],[0.8888888888888888,\"#fdca26\"],[1.0,\"#f0f921\"]],\"type\":\"histogram2d\"}],\"histogram2dcontour\":[{\"colorbar\":{\"outlinewidth\":0,\"ticks\":\"\"},\"colorscale\":[[0.0,\"#0d0887\"],[0.1111111111111111,\"#46039f\"],[0.2222222222222222,\"#7201a8\"],[0.3333333333333333,\"#9c179e\"],[0.4444444444444444,\"#bd3786\"],[0.5555555555555556,\"#d8576b\"],[0.6666666666666666,\"#ed7953\"],[0.7777777777777778,\"#fb9f3a\"],[0.8888888888888888,\"#fdca26\"],[1.0,\"#f0f921\"]],\"type\":\"histogram2dcontour\"}],\"mesh3d\":[{\"colorbar\":{\"outlinewidth\":0,\"ticks\":\"\"},\"type\":\"mesh3d\"}],\"parcoords\":[{\"line\":{\"colorbar\":{\"outlinewidth\":0,\"ticks\":\"\"}},\"type\":\"parcoords\"}],\"pie\":[{\"automargin\":true,\"type\":\"pie\"}],\"scatter\":[{\"marker\":{\"colorbar\":{\"outlinewidth\":0,\"ticks\":\"\"}},\"type\":\"scatter\"}],\"scatter3d\":[{\"line\":{\"colorbar\":{\"outlinewidth\":0,\"ticks\":\"\"}},\"marker\":{\"colorbar\":{\"outlinewidth\":0,\"ticks\":\"\"}},\"type\":\"scatter3d\"}],\"scattercarpet\":[{\"marker\":{\"colorbar\":{\"outlinewidth\":0,\"ticks\":\"\"}},\"type\":\"scattercarpet\"}],\"scattergeo\":[{\"marker\":{\"colorbar\":{\"outlinewidth\":0,\"ticks\":\"\"}},\"type\":\"scattergeo\"}],\"scattergl\":[{\"marker\":{\"colorbar\":{\"outlinewidth\":0,\"ticks\":\"\"}},\"type\":\"scattergl\"}],\"scattermapbox\":[{\"marker\":{\"colorbar\":{\"outlinewidth\":0,\"ticks\":\"\"}},\"type\":\"scattermapbox\"}],\"scatterpolar\":[{\"marker\":{\"colorbar\":{\"outlinewidth\":0,\"ticks\":\"\"}},\"type\":\"scatterpolar\"}],\"scatterpolargl\":[{\"marker\":{\"colorbar\":{\"outlinewidth\":0,\"ticks\":\"\"}},\"type\":\"scatterpolargl\"}],\"scatterternary\":[{\"marker\":{\"colorbar\":{\"outlinewidth\":0,\"ticks\":\"\"}},\"type\":\"scatterternary\"}],\"surface\":[{\"colorbar\":{\"outlinewidth\":0,\"ticks\":\"\"},\"colorscale\":[[0.0,\"#0d0887\"],[0.1111111111111111,\"#46039f\"],[0.2222222222222222,\"#7201a8\"],[0.3333333333333333,\"#9c179e\"],[0.4444444444444444,\"#bd3786\"],[0.5555555555555556,\"#d8576b\"],[0.6666666666666666,\"#ed7953\"],[0.7777777777777778,\"#fb9f3a\"],[0.8888888888888888,\"#fdca26\"],[1.0,\"#f0f921\"]],\"type\":\"surface\"}],\"table\":[{\"cells\":{\"fill\":{\"color\":\"#EBF0F8\"},\"line\":{\"color\":\"white\"}},\"header\":{\"fill\":{\"color\":\"#C8D4E3\"},\"line\":{\"color\":\"white\"}},\"type\":\"table\"}]},\"layout\":{\"annotationdefaults\":{\"arrowcolor\":\"#2a3f5f\",\"arrowhead\":0,\"arrowwidth\":1},\"autotypenumbers\":\"strict\",\"coloraxis\":{\"colorbar\":{\"outlinewidth\":0,\"ticks\":\"\"}},\"colorscale\":{\"diverging\":[[0,\"#8e0152\"],[0.1,\"#c51b7d\"],[0.2,\"#de77ae\"],[0.3,\"#f1b6da\"],[0.4,\"#fde0ef\"],[0.5,\"#f7f7f7\"],[0.6,\"#e6f5d0\"],[0.7,\"#b8e186\"],[0.8,\"#7fbc41\"],[0.9,\"#4d9221\"],[1,\"#276419\"]],\"sequential\":[[0.0,\"#0d0887\"],[0.1111111111111111,\"#46039f\"],[0.2222222222222222,\"#7201a8\"],[0.3333333333333333,\"#9c179e\"],[0.4444444444444444,\"#bd3786\"],[0.5555555555555556,\"#d8576b\"],[0.6666666666666666,\"#ed7953\"],[0.7777777777777778,\"#fb9f3a\"],[0.8888888888888888,\"#fdca26\"],[1.0,\"#f0f921\"]],\"sequentialminus\":[[0.0,\"#0d0887\"],[0.1111111111111111,\"#46039f\"],[0.2222222222222222,\"#7201a8\"],[0.3333333333333333,\"#9c179e\"],[0.4444444444444444,\"#bd3786\"],[0.5555555555555556,\"#d8576b\"],[0.6666666666666666,\"#ed7953\"],[0.7777777777777778,\"#fb9f3a\"],[0.8888888888888888,\"#fdca26\"],[1.0,\"#f0f921\"]]},\"colorway\":[\"#636efa\",\"#EF553B\",\"#00cc96\",\"#ab63fa\",\"#FFA15A\",\"#19d3f3\",\"#FF6692\",\"#B6E880\",\"#FF97FF\",\"#FECB52\"],\"font\":{\"color\":\"#2a3f5f\"},\"geo\":{\"bgcolor\":\"white\",\"lakecolor\":\"white\",\"landcolor\":\"#E5ECF6\",\"showlakes\":true,\"showland\":true,\"subunitcolor\":\"white\"},\"hoverlabel\":{\"align\":\"left\"},\"hovermode\":\"closest\",\"mapbox\":{\"style\":\"light\"},\"paper_bgcolor\":\"white\",\"plot_bgcolor\":\"#E5ECF6\",\"polar\":{\"angularaxis\":{\"gridcolor\":\"white\",\"linecolor\":\"white\",\"ticks\":\"\"},\"bgcolor\":\"#E5ECF6\",\"radialaxis\":{\"gridcolor\":\"white\",\"linecolor\":\"white\",\"ticks\":\"\"}},\"scene\":{\"xaxis\":{\"backgroundcolor\":\"#E5ECF6\",\"gridcolor\":\"white\",\"gridwidth\":2,\"linecolor\":\"white\",\"showbackground\":true,\"ticks\":\"\",\"zerolinecolor\":\"white\"},\"yaxis\":{\"backgroundcolor\":\"#E5ECF6\",\"gridcolor\":\"white\",\"gridwidth\":2,\"linecolor\":\"white\",\"showbackground\":true,\"ticks\":\"\",\"zerolinecolor\":\"white\"},\"zaxis\":{\"backgroundcolor\":\"#E5ECF6\",\"gridcolor\":\"white\",\"gridwidth\":2,\"linecolor\":\"white\",\"showbackground\":true,\"ticks\":\"\",\"zerolinecolor\":\"white\"}},\"shapedefaults\":{\"line\":{\"color\":\"#2a3f5f\"}},\"ternary\":{\"aaxis\":{\"gridcolor\":\"white\",\"linecolor\":\"white\",\"ticks\":\"\"},\"baxis\":{\"gridcolor\":\"white\",\"linecolor\":\"white\",\"ticks\":\"\"},\"bgcolor\":\"#E5ECF6\",\"caxis\":{\"gridcolor\":\"white\",\"linecolor\":\"white\",\"ticks\":\"\"}},\"title\":{\"x\":0.05},\"xaxis\":{\"automargin\":true,\"gridcolor\":\"white\",\"linecolor\":\"white\",\"ticks\":\"\",\"title\":{\"standoff\":15},\"zerolinecolor\":\"white\",\"zerolinewidth\":2},\"yaxis\":{\"automargin\":true,\"gridcolor\":\"white\",\"linecolor\":\"white\",\"ticks\":\"\",\"title\":{\"standoff\":15},\"zerolinecolor\":\"white\",\"zerolinewidth\":2}}}},                        {\"responsive\": true}                    ).then(function(){\n",
       "                            \n",
       "var gd = document.getElementById('5b645deb-66ad-4a89-b069-170f95a26f1e');\n",
       "var x = new MutationObserver(function (mutations, observer) {{\n",
       "        var display = window.getComputedStyle(gd).display;\n",
       "        if (!display || display === 'none') {{\n",
       "            console.log([gd, 'removed!']);\n",
       "            Plotly.purge(gd);\n",
       "            observer.disconnect();\n",
       "        }}\n",
       "}});\n",
       "\n",
       "// Listen for the removal of the full notebook cells\n",
       "var notebookContainer = gd.closest('#notebook-container');\n",
       "if (notebookContainer) {{\n",
       "    x.observe(notebookContainer, {childList: true});\n",
       "}}\n",
       "\n",
       "// Listen for the clearing of the current output cell\n",
       "var outputEl = gd.closest('.output');\n",
       "if (outputEl) {{\n",
       "    x.observe(outputEl, {childList: true});\n",
       "}}\n",
       "\n",
       "                        })                };                });            </script>        </div>"
      ]
     },
     "metadata": {},
     "output_type": "display_data"
    }
   ],
   "source": [
    "# Simple bar chart\n",
    "x_values=['monkeys', 'tigers', 'giraffes']\n",
    "y_values=[5, 7, 2]\n",
    "data =[go.Bar(x=x_values, y=y_values)]\n",
    "fig = go.Figure(data )\n",
    "fig "
   ]
  },
  {
   "cell_type": "markdown",
   "id": "0e4dfdab",
   "metadata": {},
   "source": [
    "### Pie Charts"
   ]
  },
  {
   "cell_type": "code",
   "execution_count": 9,
   "id": "b7e817d9",
   "metadata": {},
   "outputs": [
    {
     "data": {
      "application/vnd.plotly.v1+json": {
       "config": {
        "plotlyServerURL": "https://plot.ly"
       },
       "data": [
        {
         "labels": [
          "Oxygen",
          "Hydrogen",
          "Carbon Dioxide",
          "Nitrogen"
         ],
         "type": "pie",
         "values": [
          4500,
          2500,
          1053,
          500
         ]
        }
       ],
       "layout": {
        "template": {
         "data": {
          "bar": [
           {
            "error_x": {
             "color": "#2a3f5f"
            },
            "error_y": {
             "color": "#2a3f5f"
            },
            "marker": {
             "line": {
              "color": "#E5ECF6",
              "width": 0.5
             },
             "pattern": {
              "fillmode": "overlay",
              "size": 10,
              "solidity": 0.2
             }
            },
            "type": "bar"
           }
          ],
          "barpolar": [
           {
            "marker": {
             "line": {
              "color": "#E5ECF6",
              "width": 0.5
             },
             "pattern": {
              "fillmode": "overlay",
              "size": 10,
              "solidity": 0.2
             }
            },
            "type": "barpolar"
           }
          ],
          "carpet": [
           {
            "aaxis": {
             "endlinecolor": "#2a3f5f",
             "gridcolor": "white",
             "linecolor": "white",
             "minorgridcolor": "white",
             "startlinecolor": "#2a3f5f"
            },
            "baxis": {
             "endlinecolor": "#2a3f5f",
             "gridcolor": "white",
             "linecolor": "white",
             "minorgridcolor": "white",
             "startlinecolor": "#2a3f5f"
            },
            "type": "carpet"
           }
          ],
          "choropleth": [
           {
            "colorbar": {
             "outlinewidth": 0,
             "ticks": ""
            },
            "type": "choropleth"
           }
          ],
          "contour": [
           {
            "colorbar": {
             "outlinewidth": 0,
             "ticks": ""
            },
            "colorscale": [
             [
              0,
              "#0d0887"
             ],
             [
              0.1111111111111111,
              "#46039f"
             ],
             [
              0.2222222222222222,
              "#7201a8"
             ],
             [
              0.3333333333333333,
              "#9c179e"
             ],
             [
              0.4444444444444444,
              "#bd3786"
             ],
             [
              0.5555555555555556,
              "#d8576b"
             ],
             [
              0.6666666666666666,
              "#ed7953"
             ],
             [
              0.7777777777777778,
              "#fb9f3a"
             ],
             [
              0.8888888888888888,
              "#fdca26"
             ],
             [
              1,
              "#f0f921"
             ]
            ],
            "type": "contour"
           }
          ],
          "contourcarpet": [
           {
            "colorbar": {
             "outlinewidth": 0,
             "ticks": ""
            },
            "type": "contourcarpet"
           }
          ],
          "heatmap": [
           {
            "colorbar": {
             "outlinewidth": 0,
             "ticks": ""
            },
            "colorscale": [
             [
              0,
              "#0d0887"
             ],
             [
              0.1111111111111111,
              "#46039f"
             ],
             [
              0.2222222222222222,
              "#7201a8"
             ],
             [
              0.3333333333333333,
              "#9c179e"
             ],
             [
              0.4444444444444444,
              "#bd3786"
             ],
             [
              0.5555555555555556,
              "#d8576b"
             ],
             [
              0.6666666666666666,
              "#ed7953"
             ],
             [
              0.7777777777777778,
              "#fb9f3a"
             ],
             [
              0.8888888888888888,
              "#fdca26"
             ],
             [
              1,
              "#f0f921"
             ]
            ],
            "type": "heatmap"
           }
          ],
          "heatmapgl": [
           {
            "colorbar": {
             "outlinewidth": 0,
             "ticks": ""
            },
            "colorscale": [
             [
              0,
              "#0d0887"
             ],
             [
              0.1111111111111111,
              "#46039f"
             ],
             [
              0.2222222222222222,
              "#7201a8"
             ],
             [
              0.3333333333333333,
              "#9c179e"
             ],
             [
              0.4444444444444444,
              "#bd3786"
             ],
             [
              0.5555555555555556,
              "#d8576b"
             ],
             [
              0.6666666666666666,
              "#ed7953"
             ],
             [
              0.7777777777777778,
              "#fb9f3a"
             ],
             [
              0.8888888888888888,
              "#fdca26"
             ],
             [
              1,
              "#f0f921"
             ]
            ],
            "type": "heatmapgl"
           }
          ],
          "histogram": [
           {
            "marker": {
             "pattern": {
              "fillmode": "overlay",
              "size": 10,
              "solidity": 0.2
             }
            },
            "type": "histogram"
           }
          ],
          "histogram2d": [
           {
            "colorbar": {
             "outlinewidth": 0,
             "ticks": ""
            },
            "colorscale": [
             [
              0,
              "#0d0887"
             ],
             [
              0.1111111111111111,
              "#46039f"
             ],
             [
              0.2222222222222222,
              "#7201a8"
             ],
             [
              0.3333333333333333,
              "#9c179e"
             ],
             [
              0.4444444444444444,
              "#bd3786"
             ],
             [
              0.5555555555555556,
              "#d8576b"
             ],
             [
              0.6666666666666666,
              "#ed7953"
             ],
             [
              0.7777777777777778,
              "#fb9f3a"
             ],
             [
              0.8888888888888888,
              "#fdca26"
             ],
             [
              1,
              "#f0f921"
             ]
            ],
            "type": "histogram2d"
           }
          ],
          "histogram2dcontour": [
           {
            "colorbar": {
             "outlinewidth": 0,
             "ticks": ""
            },
            "colorscale": [
             [
              0,
              "#0d0887"
             ],
             [
              0.1111111111111111,
              "#46039f"
             ],
             [
              0.2222222222222222,
              "#7201a8"
             ],
             [
              0.3333333333333333,
              "#9c179e"
             ],
             [
              0.4444444444444444,
              "#bd3786"
             ],
             [
              0.5555555555555556,
              "#d8576b"
             ],
             [
              0.6666666666666666,
              "#ed7953"
             ],
             [
              0.7777777777777778,
              "#fb9f3a"
             ],
             [
              0.8888888888888888,
              "#fdca26"
             ],
             [
              1,
              "#f0f921"
             ]
            ],
            "type": "histogram2dcontour"
           }
          ],
          "mesh3d": [
           {
            "colorbar": {
             "outlinewidth": 0,
             "ticks": ""
            },
            "type": "mesh3d"
           }
          ],
          "parcoords": [
           {
            "line": {
             "colorbar": {
              "outlinewidth": 0,
              "ticks": ""
             }
            },
            "type": "parcoords"
           }
          ],
          "pie": [
           {
            "automargin": true,
            "type": "pie"
           }
          ],
          "scatter": [
           {
            "marker": {
             "colorbar": {
              "outlinewidth": 0,
              "ticks": ""
             }
            },
            "type": "scatter"
           }
          ],
          "scatter3d": [
           {
            "line": {
             "colorbar": {
              "outlinewidth": 0,
              "ticks": ""
             }
            },
            "marker": {
             "colorbar": {
              "outlinewidth": 0,
              "ticks": ""
             }
            },
            "type": "scatter3d"
           }
          ],
          "scattercarpet": [
           {
            "marker": {
             "colorbar": {
              "outlinewidth": 0,
              "ticks": ""
             }
            },
            "type": "scattercarpet"
           }
          ],
          "scattergeo": [
           {
            "marker": {
             "colorbar": {
              "outlinewidth": 0,
              "ticks": ""
             }
            },
            "type": "scattergeo"
           }
          ],
          "scattergl": [
           {
            "marker": {
             "colorbar": {
              "outlinewidth": 0,
              "ticks": ""
             }
            },
            "type": "scattergl"
           }
          ],
          "scattermapbox": [
           {
            "marker": {
             "colorbar": {
              "outlinewidth": 0,
              "ticks": ""
             }
            },
            "type": "scattermapbox"
           }
          ],
          "scatterpolar": [
           {
            "marker": {
             "colorbar": {
              "outlinewidth": 0,
              "ticks": ""
             }
            },
            "type": "scatterpolar"
           }
          ],
          "scatterpolargl": [
           {
            "marker": {
             "colorbar": {
              "outlinewidth": 0,
              "ticks": ""
             }
            },
            "type": "scatterpolargl"
           }
          ],
          "scatterternary": [
           {
            "marker": {
             "colorbar": {
              "outlinewidth": 0,
              "ticks": ""
             }
            },
            "type": "scatterternary"
           }
          ],
          "surface": [
           {
            "colorbar": {
             "outlinewidth": 0,
             "ticks": ""
            },
            "colorscale": [
             [
              0,
              "#0d0887"
             ],
             [
              0.1111111111111111,
              "#46039f"
             ],
             [
              0.2222222222222222,
              "#7201a8"
             ],
             [
              0.3333333333333333,
              "#9c179e"
             ],
             [
              0.4444444444444444,
              "#bd3786"
             ],
             [
              0.5555555555555556,
              "#d8576b"
             ],
             [
              0.6666666666666666,
              "#ed7953"
             ],
             [
              0.7777777777777778,
              "#fb9f3a"
             ],
             [
              0.8888888888888888,
              "#fdca26"
             ],
             [
              1,
              "#f0f921"
             ]
            ],
            "type": "surface"
           }
          ],
          "table": [
           {
            "cells": {
             "fill": {
              "color": "#EBF0F8"
             },
             "line": {
              "color": "white"
             }
            },
            "header": {
             "fill": {
              "color": "#C8D4E3"
             },
             "line": {
              "color": "white"
             }
            },
            "type": "table"
           }
          ]
         },
         "layout": {
          "annotationdefaults": {
           "arrowcolor": "#2a3f5f",
           "arrowhead": 0,
           "arrowwidth": 1
          },
          "autotypenumbers": "strict",
          "coloraxis": {
           "colorbar": {
            "outlinewidth": 0,
            "ticks": ""
           }
          },
          "colorscale": {
           "diverging": [
            [
             0,
             "#8e0152"
            ],
            [
             0.1,
             "#c51b7d"
            ],
            [
             0.2,
             "#de77ae"
            ],
            [
             0.3,
             "#f1b6da"
            ],
            [
             0.4,
             "#fde0ef"
            ],
            [
             0.5,
             "#f7f7f7"
            ],
            [
             0.6,
             "#e6f5d0"
            ],
            [
             0.7,
             "#b8e186"
            ],
            [
             0.8,
             "#7fbc41"
            ],
            [
             0.9,
             "#4d9221"
            ],
            [
             1,
             "#276419"
            ]
           ],
           "sequential": [
            [
             0,
             "#0d0887"
            ],
            [
             0.1111111111111111,
             "#46039f"
            ],
            [
             0.2222222222222222,
             "#7201a8"
            ],
            [
             0.3333333333333333,
             "#9c179e"
            ],
            [
             0.4444444444444444,
             "#bd3786"
            ],
            [
             0.5555555555555556,
             "#d8576b"
            ],
            [
             0.6666666666666666,
             "#ed7953"
            ],
            [
             0.7777777777777778,
             "#fb9f3a"
            ],
            [
             0.8888888888888888,
             "#fdca26"
            ],
            [
             1,
             "#f0f921"
            ]
           ],
           "sequentialminus": [
            [
             0,
             "#0d0887"
            ],
            [
             0.1111111111111111,
             "#46039f"
            ],
            [
             0.2222222222222222,
             "#7201a8"
            ],
            [
             0.3333333333333333,
             "#9c179e"
            ],
            [
             0.4444444444444444,
             "#bd3786"
            ],
            [
             0.5555555555555556,
             "#d8576b"
            ],
            [
             0.6666666666666666,
             "#ed7953"
            ],
            [
             0.7777777777777778,
             "#fb9f3a"
            ],
            [
             0.8888888888888888,
             "#fdca26"
            ],
            [
             1,
             "#f0f921"
            ]
           ]
          },
          "colorway": [
           "#636efa",
           "#EF553B",
           "#00cc96",
           "#ab63fa",
           "#FFA15A",
           "#19d3f3",
           "#FF6692",
           "#B6E880",
           "#FF97FF",
           "#FECB52"
          ],
          "font": {
           "color": "#2a3f5f"
          },
          "geo": {
           "bgcolor": "white",
           "lakecolor": "white",
           "landcolor": "#E5ECF6",
           "showlakes": true,
           "showland": true,
           "subunitcolor": "white"
          },
          "hoverlabel": {
           "align": "left"
          },
          "hovermode": "closest",
          "mapbox": {
           "style": "light"
          },
          "paper_bgcolor": "white",
          "plot_bgcolor": "#E5ECF6",
          "polar": {
           "angularaxis": {
            "gridcolor": "white",
            "linecolor": "white",
            "ticks": ""
           },
           "bgcolor": "#E5ECF6",
           "radialaxis": {
            "gridcolor": "white",
            "linecolor": "white",
            "ticks": ""
           }
          },
          "scene": {
           "xaxis": {
            "backgroundcolor": "#E5ECF6",
            "gridcolor": "white",
            "gridwidth": 2,
            "linecolor": "white",
            "showbackground": true,
            "ticks": "",
            "zerolinecolor": "white"
           },
           "yaxis": {
            "backgroundcolor": "#E5ECF6",
            "gridcolor": "white",
            "gridwidth": 2,
            "linecolor": "white",
            "showbackground": true,
            "ticks": "",
            "zerolinecolor": "white"
           },
           "zaxis": {
            "backgroundcolor": "#E5ECF6",
            "gridcolor": "white",
            "gridwidth": 2,
            "linecolor": "white",
            "showbackground": true,
            "ticks": "",
            "zerolinecolor": "white"
           }
          },
          "shapedefaults": {
           "line": {
            "color": "#2a3f5f"
           }
          },
          "ternary": {
           "aaxis": {
            "gridcolor": "white",
            "linecolor": "white",
            "ticks": ""
           },
           "baxis": {
            "gridcolor": "white",
            "linecolor": "white",
            "ticks": ""
           },
           "bgcolor": "#E5ECF6",
           "caxis": {
            "gridcolor": "white",
            "linecolor": "white",
            "ticks": ""
           }
          },
          "title": {
           "x": 0.05
          },
          "xaxis": {
           "automargin": true,
           "gridcolor": "white",
           "linecolor": "white",
           "ticks": "",
           "title": {
            "standoff": 15
           },
           "zerolinecolor": "white",
           "zerolinewidth": 2
          },
          "yaxis": {
           "automargin": true,
           "gridcolor": "white",
           "linecolor": "white",
           "ticks": "",
           "title": {
            "standoff": 15
           },
           "zerolinecolor": "white",
           "zerolinewidth": 2
          }
         }
        }
       }
      },
      "text/html": [
       "<div>                            <div id=\"b9c655ac-82fc-4b78-a584-301e47a09de7\" class=\"plotly-graph-div\" style=\"height:525px; width:100%;\"></div>            <script type=\"text/javascript\">                require([\"plotly\"], function(Plotly) {                    window.PLOTLYENV=window.PLOTLYENV || {};                                    if (document.getElementById(\"b9c655ac-82fc-4b78-a584-301e47a09de7\")) {                    Plotly.newPlot(                        \"b9c655ac-82fc-4b78-a584-301e47a09de7\",                        [{\"labels\":[\"Oxygen\",\"Hydrogen\",\"Carbon Dioxide\",\"Nitrogen\"],\"values\":[4500,2500,1053,500],\"type\":\"pie\"}],                        {\"template\":{\"data\":{\"bar\":[{\"error_x\":{\"color\":\"#2a3f5f\"},\"error_y\":{\"color\":\"#2a3f5f\"},\"marker\":{\"line\":{\"color\":\"#E5ECF6\",\"width\":0.5},\"pattern\":{\"fillmode\":\"overlay\",\"size\":10,\"solidity\":0.2}},\"type\":\"bar\"}],\"barpolar\":[{\"marker\":{\"line\":{\"color\":\"#E5ECF6\",\"width\":0.5},\"pattern\":{\"fillmode\":\"overlay\",\"size\":10,\"solidity\":0.2}},\"type\":\"barpolar\"}],\"carpet\":[{\"aaxis\":{\"endlinecolor\":\"#2a3f5f\",\"gridcolor\":\"white\",\"linecolor\":\"white\",\"minorgridcolor\":\"white\",\"startlinecolor\":\"#2a3f5f\"},\"baxis\":{\"endlinecolor\":\"#2a3f5f\",\"gridcolor\":\"white\",\"linecolor\":\"white\",\"minorgridcolor\":\"white\",\"startlinecolor\":\"#2a3f5f\"},\"type\":\"carpet\"}],\"choropleth\":[{\"colorbar\":{\"outlinewidth\":0,\"ticks\":\"\"},\"type\":\"choropleth\"}],\"contour\":[{\"colorbar\":{\"outlinewidth\":0,\"ticks\":\"\"},\"colorscale\":[[0.0,\"#0d0887\"],[0.1111111111111111,\"#46039f\"],[0.2222222222222222,\"#7201a8\"],[0.3333333333333333,\"#9c179e\"],[0.4444444444444444,\"#bd3786\"],[0.5555555555555556,\"#d8576b\"],[0.6666666666666666,\"#ed7953\"],[0.7777777777777778,\"#fb9f3a\"],[0.8888888888888888,\"#fdca26\"],[1.0,\"#f0f921\"]],\"type\":\"contour\"}],\"contourcarpet\":[{\"colorbar\":{\"outlinewidth\":0,\"ticks\":\"\"},\"type\":\"contourcarpet\"}],\"heatmap\":[{\"colorbar\":{\"outlinewidth\":0,\"ticks\":\"\"},\"colorscale\":[[0.0,\"#0d0887\"],[0.1111111111111111,\"#46039f\"],[0.2222222222222222,\"#7201a8\"],[0.3333333333333333,\"#9c179e\"],[0.4444444444444444,\"#bd3786\"],[0.5555555555555556,\"#d8576b\"],[0.6666666666666666,\"#ed7953\"],[0.7777777777777778,\"#fb9f3a\"],[0.8888888888888888,\"#fdca26\"],[1.0,\"#f0f921\"]],\"type\":\"heatmap\"}],\"heatmapgl\":[{\"colorbar\":{\"outlinewidth\":0,\"ticks\":\"\"},\"colorscale\":[[0.0,\"#0d0887\"],[0.1111111111111111,\"#46039f\"],[0.2222222222222222,\"#7201a8\"],[0.3333333333333333,\"#9c179e\"],[0.4444444444444444,\"#bd3786\"],[0.5555555555555556,\"#d8576b\"],[0.6666666666666666,\"#ed7953\"],[0.7777777777777778,\"#fb9f3a\"],[0.8888888888888888,\"#fdca26\"],[1.0,\"#f0f921\"]],\"type\":\"heatmapgl\"}],\"histogram\":[{\"marker\":{\"pattern\":{\"fillmode\":\"overlay\",\"size\":10,\"solidity\":0.2}},\"type\":\"histogram\"}],\"histogram2d\":[{\"colorbar\":{\"outlinewidth\":0,\"ticks\":\"\"},\"colorscale\":[[0.0,\"#0d0887\"],[0.1111111111111111,\"#46039f\"],[0.2222222222222222,\"#7201a8\"],[0.3333333333333333,\"#9c179e\"],[0.4444444444444444,\"#bd3786\"],[0.5555555555555556,\"#d8576b\"],[0.6666666666666666,\"#ed7953\"],[0.7777777777777778,\"#fb9f3a\"],[0.8888888888888888,\"#fdca26\"],[1.0,\"#f0f921\"]],\"type\":\"histogram2d\"}],\"histogram2dcontour\":[{\"colorbar\":{\"outlinewidth\":0,\"ticks\":\"\"},\"colorscale\":[[0.0,\"#0d0887\"],[0.1111111111111111,\"#46039f\"],[0.2222222222222222,\"#7201a8\"],[0.3333333333333333,\"#9c179e\"],[0.4444444444444444,\"#bd3786\"],[0.5555555555555556,\"#d8576b\"],[0.6666666666666666,\"#ed7953\"],[0.7777777777777778,\"#fb9f3a\"],[0.8888888888888888,\"#fdca26\"],[1.0,\"#f0f921\"]],\"type\":\"histogram2dcontour\"}],\"mesh3d\":[{\"colorbar\":{\"outlinewidth\":0,\"ticks\":\"\"},\"type\":\"mesh3d\"}],\"parcoords\":[{\"line\":{\"colorbar\":{\"outlinewidth\":0,\"ticks\":\"\"}},\"type\":\"parcoords\"}],\"pie\":[{\"automargin\":true,\"type\":\"pie\"}],\"scatter\":[{\"marker\":{\"colorbar\":{\"outlinewidth\":0,\"ticks\":\"\"}},\"type\":\"scatter\"}],\"scatter3d\":[{\"line\":{\"colorbar\":{\"outlinewidth\":0,\"ticks\":\"\"}},\"marker\":{\"colorbar\":{\"outlinewidth\":0,\"ticks\":\"\"}},\"type\":\"scatter3d\"}],\"scattercarpet\":[{\"marker\":{\"colorbar\":{\"outlinewidth\":0,\"ticks\":\"\"}},\"type\":\"scattercarpet\"}],\"scattergeo\":[{\"marker\":{\"colorbar\":{\"outlinewidth\":0,\"ticks\":\"\"}},\"type\":\"scattergeo\"}],\"scattergl\":[{\"marker\":{\"colorbar\":{\"outlinewidth\":0,\"ticks\":\"\"}},\"type\":\"scattergl\"}],\"scattermapbox\":[{\"marker\":{\"colorbar\":{\"outlinewidth\":0,\"ticks\":\"\"}},\"type\":\"scattermapbox\"}],\"scatterpolar\":[{\"marker\":{\"colorbar\":{\"outlinewidth\":0,\"ticks\":\"\"}},\"type\":\"scatterpolar\"}],\"scatterpolargl\":[{\"marker\":{\"colorbar\":{\"outlinewidth\":0,\"ticks\":\"\"}},\"type\":\"scatterpolargl\"}],\"scatterternary\":[{\"marker\":{\"colorbar\":{\"outlinewidth\":0,\"ticks\":\"\"}},\"type\":\"scatterternary\"}],\"surface\":[{\"colorbar\":{\"outlinewidth\":0,\"ticks\":\"\"},\"colorscale\":[[0.0,\"#0d0887\"],[0.1111111111111111,\"#46039f\"],[0.2222222222222222,\"#7201a8\"],[0.3333333333333333,\"#9c179e\"],[0.4444444444444444,\"#bd3786\"],[0.5555555555555556,\"#d8576b\"],[0.6666666666666666,\"#ed7953\"],[0.7777777777777778,\"#fb9f3a\"],[0.8888888888888888,\"#fdca26\"],[1.0,\"#f0f921\"]],\"type\":\"surface\"}],\"table\":[{\"cells\":{\"fill\":{\"color\":\"#EBF0F8\"},\"line\":{\"color\":\"white\"}},\"header\":{\"fill\":{\"color\":\"#C8D4E3\"},\"line\":{\"color\":\"white\"}},\"type\":\"table\"}]},\"layout\":{\"annotationdefaults\":{\"arrowcolor\":\"#2a3f5f\",\"arrowhead\":0,\"arrowwidth\":1},\"autotypenumbers\":\"strict\",\"coloraxis\":{\"colorbar\":{\"outlinewidth\":0,\"ticks\":\"\"}},\"colorscale\":{\"diverging\":[[0,\"#8e0152\"],[0.1,\"#c51b7d\"],[0.2,\"#de77ae\"],[0.3,\"#f1b6da\"],[0.4,\"#fde0ef\"],[0.5,\"#f7f7f7\"],[0.6,\"#e6f5d0\"],[0.7,\"#b8e186\"],[0.8,\"#7fbc41\"],[0.9,\"#4d9221\"],[1,\"#276419\"]],\"sequential\":[[0.0,\"#0d0887\"],[0.1111111111111111,\"#46039f\"],[0.2222222222222222,\"#7201a8\"],[0.3333333333333333,\"#9c179e\"],[0.4444444444444444,\"#bd3786\"],[0.5555555555555556,\"#d8576b\"],[0.6666666666666666,\"#ed7953\"],[0.7777777777777778,\"#fb9f3a\"],[0.8888888888888888,\"#fdca26\"],[1.0,\"#f0f921\"]],\"sequentialminus\":[[0.0,\"#0d0887\"],[0.1111111111111111,\"#46039f\"],[0.2222222222222222,\"#7201a8\"],[0.3333333333333333,\"#9c179e\"],[0.4444444444444444,\"#bd3786\"],[0.5555555555555556,\"#d8576b\"],[0.6666666666666666,\"#ed7953\"],[0.7777777777777778,\"#fb9f3a\"],[0.8888888888888888,\"#fdca26\"],[1.0,\"#f0f921\"]]},\"colorway\":[\"#636efa\",\"#EF553B\",\"#00cc96\",\"#ab63fa\",\"#FFA15A\",\"#19d3f3\",\"#FF6692\",\"#B6E880\",\"#FF97FF\",\"#FECB52\"],\"font\":{\"color\":\"#2a3f5f\"},\"geo\":{\"bgcolor\":\"white\",\"lakecolor\":\"white\",\"landcolor\":\"#E5ECF6\",\"showlakes\":true,\"showland\":true,\"subunitcolor\":\"white\"},\"hoverlabel\":{\"align\":\"left\"},\"hovermode\":\"closest\",\"mapbox\":{\"style\":\"light\"},\"paper_bgcolor\":\"white\",\"plot_bgcolor\":\"#E5ECF6\",\"polar\":{\"angularaxis\":{\"gridcolor\":\"white\",\"linecolor\":\"white\",\"ticks\":\"\"},\"bgcolor\":\"#E5ECF6\",\"radialaxis\":{\"gridcolor\":\"white\",\"linecolor\":\"white\",\"ticks\":\"\"}},\"scene\":{\"xaxis\":{\"backgroundcolor\":\"#E5ECF6\",\"gridcolor\":\"white\",\"gridwidth\":2,\"linecolor\":\"white\",\"showbackground\":true,\"ticks\":\"\",\"zerolinecolor\":\"white\"},\"yaxis\":{\"backgroundcolor\":\"#E5ECF6\",\"gridcolor\":\"white\",\"gridwidth\":2,\"linecolor\":\"white\",\"showbackground\":true,\"ticks\":\"\",\"zerolinecolor\":\"white\"},\"zaxis\":{\"backgroundcolor\":\"#E5ECF6\",\"gridcolor\":\"white\",\"gridwidth\":2,\"linecolor\":\"white\",\"showbackground\":true,\"ticks\":\"\",\"zerolinecolor\":\"white\"}},\"shapedefaults\":{\"line\":{\"color\":\"#2a3f5f\"}},\"ternary\":{\"aaxis\":{\"gridcolor\":\"white\",\"linecolor\":\"white\",\"ticks\":\"\"},\"baxis\":{\"gridcolor\":\"white\",\"linecolor\":\"white\",\"ticks\":\"\"},\"bgcolor\":\"#E5ECF6\",\"caxis\":{\"gridcolor\":\"white\",\"linecolor\":\"white\",\"ticks\":\"\"}},\"title\":{\"x\":0.05},\"xaxis\":{\"automargin\":true,\"gridcolor\":\"white\",\"linecolor\":\"white\",\"ticks\":\"\",\"title\":{\"standoff\":15},\"zerolinecolor\":\"white\",\"zerolinewidth\":2},\"yaxis\":{\"automargin\":true,\"gridcolor\":\"white\",\"linecolor\":\"white\",\"ticks\":\"\",\"title\":{\"standoff\":15},\"zerolinecolor\":\"white\",\"zerolinewidth\":2}}}},                        {\"responsive\": true}                    ).then(function(){\n",
       "                            \n",
       "var gd = document.getElementById('b9c655ac-82fc-4b78-a584-301e47a09de7');\n",
       "var x = new MutationObserver(function (mutations, observer) {{\n",
       "        var display = window.getComputedStyle(gd).display;\n",
       "        if (!display || display === 'none') {{\n",
       "            console.log([gd, 'removed!']);\n",
       "            Plotly.purge(gd);\n",
       "            observer.disconnect();\n",
       "        }}\n",
       "}});\n",
       "\n",
       "// Listen for the removal of the full notebook cells\n",
       "var notebookContainer = gd.closest('#notebook-container');\n",
       "if (notebookContainer) {{\n",
       "    x.observe(notebookContainer, {childList: true});\n",
       "}}\n",
       "\n",
       "// Listen for the clearing of the current output cell\n",
       "var outputEl = gd.closest('.output');\n",
       "if (outputEl) {{\n",
       "    x.observe(outputEl, {childList: true});\n",
       "}}\n",
       "\n",
       "                        })                };                });            </script>        </div>"
      ]
     },
     "metadata": {},
     "output_type": "display_data"
    }
   ],
   "source": [
    "gas = ['Oxygen','Hydrogen','Carbon Dioxide','Nitrogen']\n",
    "volume = [4500,2500,1053,500]\n",
    "data = [go.Pie(labels=gas, values=volume)]\n",
    "fig = go.Figure(data )\n",
    "fig "
   ]
  },
  {
   "cell_type": "markdown",
   "id": "a000eb88",
   "metadata": {},
   "source": [
    "### Line Charts"
   ]
  },
  {
   "cell_type": "code",
   "execution_count": 14,
   "id": "bcbff295",
   "metadata": {},
   "outputs": [
    {
     "data": {
      "application/vnd.plotly.v1+json": {
       "config": {
        "plotlyServerURL": "https://plot.ly"
       },
       "data": [
        {
         "type": "scatter",
         "x": [
          1980,
          1990,
          2000,
          2010,
          2020
         ],
         "y": [
          6,
          5,
          7,
          2,
          8
         ]
        }
       ],
       "layout": {
        "template": {
         "data": {
          "bar": [
           {
            "error_x": {
             "color": "#2a3f5f"
            },
            "error_y": {
             "color": "#2a3f5f"
            },
            "marker": {
             "line": {
              "color": "#E5ECF6",
              "width": 0.5
             },
             "pattern": {
              "fillmode": "overlay",
              "size": 10,
              "solidity": 0.2
             }
            },
            "type": "bar"
           }
          ],
          "barpolar": [
           {
            "marker": {
             "line": {
              "color": "#E5ECF6",
              "width": 0.5
             },
             "pattern": {
              "fillmode": "overlay",
              "size": 10,
              "solidity": 0.2
             }
            },
            "type": "barpolar"
           }
          ],
          "carpet": [
           {
            "aaxis": {
             "endlinecolor": "#2a3f5f",
             "gridcolor": "white",
             "linecolor": "white",
             "minorgridcolor": "white",
             "startlinecolor": "#2a3f5f"
            },
            "baxis": {
             "endlinecolor": "#2a3f5f",
             "gridcolor": "white",
             "linecolor": "white",
             "minorgridcolor": "white",
             "startlinecolor": "#2a3f5f"
            },
            "type": "carpet"
           }
          ],
          "choropleth": [
           {
            "colorbar": {
             "outlinewidth": 0,
             "ticks": ""
            },
            "type": "choropleth"
           }
          ],
          "contour": [
           {
            "colorbar": {
             "outlinewidth": 0,
             "ticks": ""
            },
            "colorscale": [
             [
              0,
              "#0d0887"
             ],
             [
              0.1111111111111111,
              "#46039f"
             ],
             [
              0.2222222222222222,
              "#7201a8"
             ],
             [
              0.3333333333333333,
              "#9c179e"
             ],
             [
              0.4444444444444444,
              "#bd3786"
             ],
             [
              0.5555555555555556,
              "#d8576b"
             ],
             [
              0.6666666666666666,
              "#ed7953"
             ],
             [
              0.7777777777777778,
              "#fb9f3a"
             ],
             [
              0.8888888888888888,
              "#fdca26"
             ],
             [
              1,
              "#f0f921"
             ]
            ],
            "type": "contour"
           }
          ],
          "contourcarpet": [
           {
            "colorbar": {
             "outlinewidth": 0,
             "ticks": ""
            },
            "type": "contourcarpet"
           }
          ],
          "heatmap": [
           {
            "colorbar": {
             "outlinewidth": 0,
             "ticks": ""
            },
            "colorscale": [
             [
              0,
              "#0d0887"
             ],
             [
              0.1111111111111111,
              "#46039f"
             ],
             [
              0.2222222222222222,
              "#7201a8"
             ],
             [
              0.3333333333333333,
              "#9c179e"
             ],
             [
              0.4444444444444444,
              "#bd3786"
             ],
             [
              0.5555555555555556,
              "#d8576b"
             ],
             [
              0.6666666666666666,
              "#ed7953"
             ],
             [
              0.7777777777777778,
              "#fb9f3a"
             ],
             [
              0.8888888888888888,
              "#fdca26"
             ],
             [
              1,
              "#f0f921"
             ]
            ],
            "type": "heatmap"
           }
          ],
          "heatmapgl": [
           {
            "colorbar": {
             "outlinewidth": 0,
             "ticks": ""
            },
            "colorscale": [
             [
              0,
              "#0d0887"
             ],
             [
              0.1111111111111111,
              "#46039f"
             ],
             [
              0.2222222222222222,
              "#7201a8"
             ],
             [
              0.3333333333333333,
              "#9c179e"
             ],
             [
              0.4444444444444444,
              "#bd3786"
             ],
             [
              0.5555555555555556,
              "#d8576b"
             ],
             [
              0.6666666666666666,
              "#ed7953"
             ],
             [
              0.7777777777777778,
              "#fb9f3a"
             ],
             [
              0.8888888888888888,
              "#fdca26"
             ],
             [
              1,
              "#f0f921"
             ]
            ],
            "type": "heatmapgl"
           }
          ],
          "histogram": [
           {
            "marker": {
             "pattern": {
              "fillmode": "overlay",
              "size": 10,
              "solidity": 0.2
             }
            },
            "type": "histogram"
           }
          ],
          "histogram2d": [
           {
            "colorbar": {
             "outlinewidth": 0,
             "ticks": ""
            },
            "colorscale": [
             [
              0,
              "#0d0887"
             ],
             [
              0.1111111111111111,
              "#46039f"
             ],
             [
              0.2222222222222222,
              "#7201a8"
             ],
             [
              0.3333333333333333,
              "#9c179e"
             ],
             [
              0.4444444444444444,
              "#bd3786"
             ],
             [
              0.5555555555555556,
              "#d8576b"
             ],
             [
              0.6666666666666666,
              "#ed7953"
             ],
             [
              0.7777777777777778,
              "#fb9f3a"
             ],
             [
              0.8888888888888888,
              "#fdca26"
             ],
             [
              1,
              "#f0f921"
             ]
            ],
            "type": "histogram2d"
           }
          ],
          "histogram2dcontour": [
           {
            "colorbar": {
             "outlinewidth": 0,
             "ticks": ""
            },
            "colorscale": [
             [
              0,
              "#0d0887"
             ],
             [
              0.1111111111111111,
              "#46039f"
             ],
             [
              0.2222222222222222,
              "#7201a8"
             ],
             [
              0.3333333333333333,
              "#9c179e"
             ],
             [
              0.4444444444444444,
              "#bd3786"
             ],
             [
              0.5555555555555556,
              "#d8576b"
             ],
             [
              0.6666666666666666,
              "#ed7953"
             ],
             [
              0.7777777777777778,
              "#fb9f3a"
             ],
             [
              0.8888888888888888,
              "#fdca26"
             ],
             [
              1,
              "#f0f921"
             ]
            ],
            "type": "histogram2dcontour"
           }
          ],
          "mesh3d": [
           {
            "colorbar": {
             "outlinewidth": 0,
             "ticks": ""
            },
            "type": "mesh3d"
           }
          ],
          "parcoords": [
           {
            "line": {
             "colorbar": {
              "outlinewidth": 0,
              "ticks": ""
             }
            },
            "type": "parcoords"
           }
          ],
          "pie": [
           {
            "automargin": true,
            "type": "pie"
           }
          ],
          "scatter": [
           {
            "marker": {
             "colorbar": {
              "outlinewidth": 0,
              "ticks": ""
             }
            },
            "type": "scatter"
           }
          ],
          "scatter3d": [
           {
            "line": {
             "colorbar": {
              "outlinewidth": 0,
              "ticks": ""
             }
            },
            "marker": {
             "colorbar": {
              "outlinewidth": 0,
              "ticks": ""
             }
            },
            "type": "scatter3d"
           }
          ],
          "scattercarpet": [
           {
            "marker": {
             "colorbar": {
              "outlinewidth": 0,
              "ticks": ""
             }
            },
            "type": "scattercarpet"
           }
          ],
          "scattergeo": [
           {
            "marker": {
             "colorbar": {
              "outlinewidth": 0,
              "ticks": ""
             }
            },
            "type": "scattergeo"
           }
          ],
          "scattergl": [
           {
            "marker": {
             "colorbar": {
              "outlinewidth": 0,
              "ticks": ""
             }
            },
            "type": "scattergl"
           }
          ],
          "scattermapbox": [
           {
            "marker": {
             "colorbar": {
              "outlinewidth": 0,
              "ticks": ""
             }
            },
            "type": "scattermapbox"
           }
          ],
          "scatterpolar": [
           {
            "marker": {
             "colorbar": {
              "outlinewidth": 0,
              "ticks": ""
             }
            },
            "type": "scatterpolar"
           }
          ],
          "scatterpolargl": [
           {
            "marker": {
             "colorbar": {
              "outlinewidth": 0,
              "ticks": ""
             }
            },
            "type": "scatterpolargl"
           }
          ],
          "scatterternary": [
           {
            "marker": {
             "colorbar": {
              "outlinewidth": 0,
              "ticks": ""
             }
            },
            "type": "scatterternary"
           }
          ],
          "surface": [
           {
            "colorbar": {
             "outlinewidth": 0,
             "ticks": ""
            },
            "colorscale": [
             [
              0,
              "#0d0887"
             ],
             [
              0.1111111111111111,
              "#46039f"
             ],
             [
              0.2222222222222222,
              "#7201a8"
             ],
             [
              0.3333333333333333,
              "#9c179e"
             ],
             [
              0.4444444444444444,
              "#bd3786"
             ],
             [
              0.5555555555555556,
              "#d8576b"
             ],
             [
              0.6666666666666666,
              "#ed7953"
             ],
             [
              0.7777777777777778,
              "#fb9f3a"
             ],
             [
              0.8888888888888888,
              "#fdca26"
             ],
             [
              1,
              "#f0f921"
             ]
            ],
            "type": "surface"
           }
          ],
          "table": [
           {
            "cells": {
             "fill": {
              "color": "#EBF0F8"
             },
             "line": {
              "color": "white"
             }
            },
            "header": {
             "fill": {
              "color": "#C8D4E3"
             },
             "line": {
              "color": "white"
             }
            },
            "type": "table"
           }
          ]
         },
         "layout": {
          "annotationdefaults": {
           "arrowcolor": "#2a3f5f",
           "arrowhead": 0,
           "arrowwidth": 1
          },
          "autotypenumbers": "strict",
          "coloraxis": {
           "colorbar": {
            "outlinewidth": 0,
            "ticks": ""
           }
          },
          "colorscale": {
           "diverging": [
            [
             0,
             "#8e0152"
            ],
            [
             0.1,
             "#c51b7d"
            ],
            [
             0.2,
             "#de77ae"
            ],
            [
             0.3,
             "#f1b6da"
            ],
            [
             0.4,
             "#fde0ef"
            ],
            [
             0.5,
             "#f7f7f7"
            ],
            [
             0.6,
             "#e6f5d0"
            ],
            [
             0.7,
             "#b8e186"
            ],
            [
             0.8,
             "#7fbc41"
            ],
            [
             0.9,
             "#4d9221"
            ],
            [
             1,
             "#276419"
            ]
           ],
           "sequential": [
            [
             0,
             "#0d0887"
            ],
            [
             0.1111111111111111,
             "#46039f"
            ],
            [
             0.2222222222222222,
             "#7201a8"
            ],
            [
             0.3333333333333333,
             "#9c179e"
            ],
            [
             0.4444444444444444,
             "#bd3786"
            ],
            [
             0.5555555555555556,
             "#d8576b"
            ],
            [
             0.6666666666666666,
             "#ed7953"
            ],
            [
             0.7777777777777778,
             "#fb9f3a"
            ],
            [
             0.8888888888888888,
             "#fdca26"
            ],
            [
             1,
             "#f0f921"
            ]
           ],
           "sequentialminus": [
            [
             0,
             "#0d0887"
            ],
            [
             0.1111111111111111,
             "#46039f"
            ],
            [
             0.2222222222222222,
             "#7201a8"
            ],
            [
             0.3333333333333333,
             "#9c179e"
            ],
            [
             0.4444444444444444,
             "#bd3786"
            ],
            [
             0.5555555555555556,
             "#d8576b"
            ],
            [
             0.6666666666666666,
             "#ed7953"
            ],
            [
             0.7777777777777778,
             "#fb9f3a"
            ],
            [
             0.8888888888888888,
             "#fdca26"
            ],
            [
             1,
             "#f0f921"
            ]
           ]
          },
          "colorway": [
           "#636efa",
           "#EF553B",
           "#00cc96",
           "#ab63fa",
           "#FFA15A",
           "#19d3f3",
           "#FF6692",
           "#B6E880",
           "#FF97FF",
           "#FECB52"
          ],
          "font": {
           "color": "#2a3f5f"
          },
          "geo": {
           "bgcolor": "white",
           "lakecolor": "white",
           "landcolor": "#E5ECF6",
           "showlakes": true,
           "showland": true,
           "subunitcolor": "white"
          },
          "hoverlabel": {
           "align": "left"
          },
          "hovermode": "closest",
          "mapbox": {
           "style": "light"
          },
          "paper_bgcolor": "white",
          "plot_bgcolor": "#E5ECF6",
          "polar": {
           "angularaxis": {
            "gridcolor": "white",
            "linecolor": "white",
            "ticks": ""
           },
           "bgcolor": "#E5ECF6",
           "radialaxis": {
            "gridcolor": "white",
            "linecolor": "white",
            "ticks": ""
           }
          },
          "scene": {
           "xaxis": {
            "backgroundcolor": "#E5ECF6",
            "gridcolor": "white",
            "gridwidth": 2,
            "linecolor": "white",
            "showbackground": true,
            "ticks": "",
            "zerolinecolor": "white"
           },
           "yaxis": {
            "backgroundcolor": "#E5ECF6",
            "gridcolor": "white",
            "gridwidth": 2,
            "linecolor": "white",
            "showbackground": true,
            "ticks": "",
            "zerolinecolor": "white"
           },
           "zaxis": {
            "backgroundcolor": "#E5ECF6",
            "gridcolor": "white",
            "gridwidth": 2,
            "linecolor": "white",
            "showbackground": true,
            "ticks": "",
            "zerolinecolor": "white"
           }
          },
          "shapedefaults": {
           "line": {
            "color": "#2a3f5f"
           }
          },
          "ternary": {
           "aaxis": {
            "gridcolor": "white",
            "linecolor": "white",
            "ticks": ""
           },
           "baxis": {
            "gridcolor": "white",
            "linecolor": "white",
            "ticks": ""
           },
           "bgcolor": "#E5ECF6",
           "caxis": {
            "gridcolor": "white",
            "linecolor": "white",
            "ticks": ""
           }
          },
          "title": {
           "x": 0.05
          },
          "xaxis": {
           "automargin": true,
           "gridcolor": "white",
           "linecolor": "white",
           "ticks": "",
           "title": {
            "standoff": 15
           },
           "zerolinecolor": "white",
           "zerolinewidth": 2
          },
          "yaxis": {
           "automargin": true,
           "gridcolor": "white",
           "linecolor": "white",
           "ticks": "",
           "title": {
            "standoff": 15
           },
           "zerolinecolor": "white",
           "zerolinewidth": 2
          }
         }
        }
       }
      },
      "text/html": [
       "<div>                            <div id=\"3cc823c5-04f9-4c75-937d-9f9add9e76cf\" class=\"plotly-graph-div\" style=\"height:525px; width:100%;\"></div>            <script type=\"text/javascript\">                require([\"plotly\"], function(Plotly) {                    window.PLOTLYENV=window.PLOTLYENV || {};                                    if (document.getElementById(\"3cc823c5-04f9-4c75-937d-9f9add9e76cf\")) {                    Plotly.newPlot(                        \"3cc823c5-04f9-4c75-937d-9f9add9e76cf\",                        [{\"x\":[1980,1990,2000,2010,2020],\"y\":[6,5,7,2,8],\"type\":\"scatter\"}],                        {\"template\":{\"data\":{\"bar\":[{\"error_x\":{\"color\":\"#2a3f5f\"},\"error_y\":{\"color\":\"#2a3f5f\"},\"marker\":{\"line\":{\"color\":\"#E5ECF6\",\"width\":0.5},\"pattern\":{\"fillmode\":\"overlay\",\"size\":10,\"solidity\":0.2}},\"type\":\"bar\"}],\"barpolar\":[{\"marker\":{\"line\":{\"color\":\"#E5ECF6\",\"width\":0.5},\"pattern\":{\"fillmode\":\"overlay\",\"size\":10,\"solidity\":0.2}},\"type\":\"barpolar\"}],\"carpet\":[{\"aaxis\":{\"endlinecolor\":\"#2a3f5f\",\"gridcolor\":\"white\",\"linecolor\":\"white\",\"minorgridcolor\":\"white\",\"startlinecolor\":\"#2a3f5f\"},\"baxis\":{\"endlinecolor\":\"#2a3f5f\",\"gridcolor\":\"white\",\"linecolor\":\"white\",\"minorgridcolor\":\"white\",\"startlinecolor\":\"#2a3f5f\"},\"type\":\"carpet\"}],\"choropleth\":[{\"colorbar\":{\"outlinewidth\":0,\"ticks\":\"\"},\"type\":\"choropleth\"}],\"contour\":[{\"colorbar\":{\"outlinewidth\":0,\"ticks\":\"\"},\"colorscale\":[[0.0,\"#0d0887\"],[0.1111111111111111,\"#46039f\"],[0.2222222222222222,\"#7201a8\"],[0.3333333333333333,\"#9c179e\"],[0.4444444444444444,\"#bd3786\"],[0.5555555555555556,\"#d8576b\"],[0.6666666666666666,\"#ed7953\"],[0.7777777777777778,\"#fb9f3a\"],[0.8888888888888888,\"#fdca26\"],[1.0,\"#f0f921\"]],\"type\":\"contour\"}],\"contourcarpet\":[{\"colorbar\":{\"outlinewidth\":0,\"ticks\":\"\"},\"type\":\"contourcarpet\"}],\"heatmap\":[{\"colorbar\":{\"outlinewidth\":0,\"ticks\":\"\"},\"colorscale\":[[0.0,\"#0d0887\"],[0.1111111111111111,\"#46039f\"],[0.2222222222222222,\"#7201a8\"],[0.3333333333333333,\"#9c179e\"],[0.4444444444444444,\"#bd3786\"],[0.5555555555555556,\"#d8576b\"],[0.6666666666666666,\"#ed7953\"],[0.7777777777777778,\"#fb9f3a\"],[0.8888888888888888,\"#fdca26\"],[1.0,\"#f0f921\"]],\"type\":\"heatmap\"}],\"heatmapgl\":[{\"colorbar\":{\"outlinewidth\":0,\"ticks\":\"\"},\"colorscale\":[[0.0,\"#0d0887\"],[0.1111111111111111,\"#46039f\"],[0.2222222222222222,\"#7201a8\"],[0.3333333333333333,\"#9c179e\"],[0.4444444444444444,\"#bd3786\"],[0.5555555555555556,\"#d8576b\"],[0.6666666666666666,\"#ed7953\"],[0.7777777777777778,\"#fb9f3a\"],[0.8888888888888888,\"#fdca26\"],[1.0,\"#f0f921\"]],\"type\":\"heatmapgl\"}],\"histogram\":[{\"marker\":{\"pattern\":{\"fillmode\":\"overlay\",\"size\":10,\"solidity\":0.2}},\"type\":\"histogram\"}],\"histogram2d\":[{\"colorbar\":{\"outlinewidth\":0,\"ticks\":\"\"},\"colorscale\":[[0.0,\"#0d0887\"],[0.1111111111111111,\"#46039f\"],[0.2222222222222222,\"#7201a8\"],[0.3333333333333333,\"#9c179e\"],[0.4444444444444444,\"#bd3786\"],[0.5555555555555556,\"#d8576b\"],[0.6666666666666666,\"#ed7953\"],[0.7777777777777778,\"#fb9f3a\"],[0.8888888888888888,\"#fdca26\"],[1.0,\"#f0f921\"]],\"type\":\"histogram2d\"}],\"histogram2dcontour\":[{\"colorbar\":{\"outlinewidth\":0,\"ticks\":\"\"},\"colorscale\":[[0.0,\"#0d0887\"],[0.1111111111111111,\"#46039f\"],[0.2222222222222222,\"#7201a8\"],[0.3333333333333333,\"#9c179e\"],[0.4444444444444444,\"#bd3786\"],[0.5555555555555556,\"#d8576b\"],[0.6666666666666666,\"#ed7953\"],[0.7777777777777778,\"#fb9f3a\"],[0.8888888888888888,\"#fdca26\"],[1.0,\"#f0f921\"]],\"type\":\"histogram2dcontour\"}],\"mesh3d\":[{\"colorbar\":{\"outlinewidth\":0,\"ticks\":\"\"},\"type\":\"mesh3d\"}],\"parcoords\":[{\"line\":{\"colorbar\":{\"outlinewidth\":0,\"ticks\":\"\"}},\"type\":\"parcoords\"}],\"pie\":[{\"automargin\":true,\"type\":\"pie\"}],\"scatter\":[{\"marker\":{\"colorbar\":{\"outlinewidth\":0,\"ticks\":\"\"}},\"type\":\"scatter\"}],\"scatter3d\":[{\"line\":{\"colorbar\":{\"outlinewidth\":0,\"ticks\":\"\"}},\"marker\":{\"colorbar\":{\"outlinewidth\":0,\"ticks\":\"\"}},\"type\":\"scatter3d\"}],\"scattercarpet\":[{\"marker\":{\"colorbar\":{\"outlinewidth\":0,\"ticks\":\"\"}},\"type\":\"scattercarpet\"}],\"scattergeo\":[{\"marker\":{\"colorbar\":{\"outlinewidth\":0,\"ticks\":\"\"}},\"type\":\"scattergeo\"}],\"scattergl\":[{\"marker\":{\"colorbar\":{\"outlinewidth\":0,\"ticks\":\"\"}},\"type\":\"scattergl\"}],\"scattermapbox\":[{\"marker\":{\"colorbar\":{\"outlinewidth\":0,\"ticks\":\"\"}},\"type\":\"scattermapbox\"}],\"scatterpolar\":[{\"marker\":{\"colorbar\":{\"outlinewidth\":0,\"ticks\":\"\"}},\"type\":\"scatterpolar\"}],\"scatterpolargl\":[{\"marker\":{\"colorbar\":{\"outlinewidth\":0,\"ticks\":\"\"}},\"type\":\"scatterpolargl\"}],\"scatterternary\":[{\"marker\":{\"colorbar\":{\"outlinewidth\":0,\"ticks\":\"\"}},\"type\":\"scatterternary\"}],\"surface\":[{\"colorbar\":{\"outlinewidth\":0,\"ticks\":\"\"},\"colorscale\":[[0.0,\"#0d0887\"],[0.1111111111111111,\"#46039f\"],[0.2222222222222222,\"#7201a8\"],[0.3333333333333333,\"#9c179e\"],[0.4444444444444444,\"#bd3786\"],[0.5555555555555556,\"#d8576b\"],[0.6666666666666666,\"#ed7953\"],[0.7777777777777778,\"#fb9f3a\"],[0.8888888888888888,\"#fdca26\"],[1.0,\"#f0f921\"]],\"type\":\"surface\"}],\"table\":[{\"cells\":{\"fill\":{\"color\":\"#EBF0F8\"},\"line\":{\"color\":\"white\"}},\"header\":{\"fill\":{\"color\":\"#C8D4E3\"},\"line\":{\"color\":\"white\"}},\"type\":\"table\"}]},\"layout\":{\"annotationdefaults\":{\"arrowcolor\":\"#2a3f5f\",\"arrowhead\":0,\"arrowwidth\":1},\"autotypenumbers\":\"strict\",\"coloraxis\":{\"colorbar\":{\"outlinewidth\":0,\"ticks\":\"\"}},\"colorscale\":{\"diverging\":[[0,\"#8e0152\"],[0.1,\"#c51b7d\"],[0.2,\"#de77ae\"],[0.3,\"#f1b6da\"],[0.4,\"#fde0ef\"],[0.5,\"#f7f7f7\"],[0.6,\"#e6f5d0\"],[0.7,\"#b8e186\"],[0.8,\"#7fbc41\"],[0.9,\"#4d9221\"],[1,\"#276419\"]],\"sequential\":[[0.0,\"#0d0887\"],[0.1111111111111111,\"#46039f\"],[0.2222222222222222,\"#7201a8\"],[0.3333333333333333,\"#9c179e\"],[0.4444444444444444,\"#bd3786\"],[0.5555555555555556,\"#d8576b\"],[0.6666666666666666,\"#ed7953\"],[0.7777777777777778,\"#fb9f3a\"],[0.8888888888888888,\"#fdca26\"],[1.0,\"#f0f921\"]],\"sequentialminus\":[[0.0,\"#0d0887\"],[0.1111111111111111,\"#46039f\"],[0.2222222222222222,\"#7201a8\"],[0.3333333333333333,\"#9c179e\"],[0.4444444444444444,\"#bd3786\"],[0.5555555555555556,\"#d8576b\"],[0.6666666666666666,\"#ed7953\"],[0.7777777777777778,\"#fb9f3a\"],[0.8888888888888888,\"#fdca26\"],[1.0,\"#f0f921\"]]},\"colorway\":[\"#636efa\",\"#EF553B\",\"#00cc96\",\"#ab63fa\",\"#FFA15A\",\"#19d3f3\",\"#FF6692\",\"#B6E880\",\"#FF97FF\",\"#FECB52\"],\"font\":{\"color\":\"#2a3f5f\"},\"geo\":{\"bgcolor\":\"white\",\"lakecolor\":\"white\",\"landcolor\":\"#E5ECF6\",\"showlakes\":true,\"showland\":true,\"subunitcolor\":\"white\"},\"hoverlabel\":{\"align\":\"left\"},\"hovermode\":\"closest\",\"mapbox\":{\"style\":\"light\"},\"paper_bgcolor\":\"white\",\"plot_bgcolor\":\"#E5ECF6\",\"polar\":{\"angularaxis\":{\"gridcolor\":\"white\",\"linecolor\":\"white\",\"ticks\":\"\"},\"bgcolor\":\"#E5ECF6\",\"radialaxis\":{\"gridcolor\":\"white\",\"linecolor\":\"white\",\"ticks\":\"\"}},\"scene\":{\"xaxis\":{\"backgroundcolor\":\"#E5ECF6\",\"gridcolor\":\"white\",\"gridwidth\":2,\"linecolor\":\"white\",\"showbackground\":true,\"ticks\":\"\",\"zerolinecolor\":\"white\"},\"yaxis\":{\"backgroundcolor\":\"#E5ECF6\",\"gridcolor\":\"white\",\"gridwidth\":2,\"linecolor\":\"white\",\"showbackground\":true,\"ticks\":\"\",\"zerolinecolor\":\"white\"},\"zaxis\":{\"backgroundcolor\":\"#E5ECF6\",\"gridcolor\":\"white\",\"gridwidth\":2,\"linecolor\":\"white\",\"showbackground\":true,\"ticks\":\"\",\"zerolinecolor\":\"white\"}},\"shapedefaults\":{\"line\":{\"color\":\"#2a3f5f\"}},\"ternary\":{\"aaxis\":{\"gridcolor\":\"white\",\"linecolor\":\"white\",\"ticks\":\"\"},\"baxis\":{\"gridcolor\":\"white\",\"linecolor\":\"white\",\"ticks\":\"\"},\"bgcolor\":\"#E5ECF6\",\"caxis\":{\"gridcolor\":\"white\",\"linecolor\":\"white\",\"ticks\":\"\"}},\"title\":{\"x\":0.05},\"xaxis\":{\"automargin\":true,\"gridcolor\":\"white\",\"linecolor\":\"white\",\"ticks\":\"\",\"title\":{\"standoff\":15},\"zerolinecolor\":\"white\",\"zerolinewidth\":2},\"yaxis\":{\"automargin\":true,\"gridcolor\":\"white\",\"linecolor\":\"white\",\"ticks\":\"\",\"title\":{\"standoff\":15},\"zerolinecolor\":\"white\",\"zerolinewidth\":2}}}},                        {\"responsive\": true}                    ).then(function(){\n",
       "                            \n",
       "var gd = document.getElementById('3cc823c5-04f9-4c75-937d-9f9add9e76cf');\n",
       "var x = new MutationObserver(function (mutations, observer) {{\n",
       "        var display = window.getComputedStyle(gd).display;\n",
       "        if (!display || display === 'none') {{\n",
       "            console.log([gd, 'removed!']);\n",
       "            Plotly.purge(gd);\n",
       "            observer.disconnect();\n",
       "        }}\n",
       "}});\n",
       "\n",
       "// Listen for the removal of the full notebook cells\n",
       "var notebookContainer = gd.closest('#notebook-container');\n",
       "if (notebookContainer) {{\n",
       "    x.observe(notebookContainer, {childList: true});\n",
       "}}\n",
       "\n",
       "// Listen for the clearing of the current output cell\n",
       "var outputEl = gd.closest('.output');\n",
       "if (outputEl) {{\n",
       "    x.observe(outputEl, {childList: true});\n",
       "}}\n",
       "\n",
       "                        })                };                });            </script>        </div>"
      ]
     },
     "metadata": {},
     "output_type": "display_data"
    }
   ],
   "source": [
    "\n",
    "x_values=[1980, 1990, 2000, 2010, 2020]\n",
    "y_values=[6, 5, 7, 2, 8]\n",
    "data =[go.Scatter(x=x_values, y=y_values)]\n",
    "fig = go.Figure(data )\n",
    "fig "
   ]
  },
  {
   "cell_type": "markdown",
   "id": "9be651a1",
   "metadata": {},
   "source": [
    "### Scatterplots"
   ]
  },
  {
   "cell_type": "code",
   "execution_count": 16,
   "id": "5af7f8dd",
   "metadata": {},
   "outputs": [
    {
     "data": {
      "application/vnd.plotly.v1+json": {
       "config": {
        "plotlyServerURL": "https://plot.ly"
       },
       "data": [
        {
         "mode": "markers",
         "type": "scatter",
         "x": [
          -0.7466018631172661,
          -0.14931003071136387,
          -1.0544106504429176,
          -0.8177135324540453,
          -0.9766446987696994,
          1.0460480032381356,
          0.6316637346756288,
          0.30521056791377343,
          -0.23533224965328545,
          -0.5143088106363101,
          -0.6363382295636555,
          0.9336922387312778,
          -0.7380131505377848,
          -1.6966419243620754,
          -0.6445931207698036,
          -1.1498131359500394,
          0.6692542580919777,
          -0.4093267022470347,
          0.1874903005003553,
          0.8056472980450031,
          -0.015049252571991108,
          1.4699063831666221,
          0.2096744555837421,
          1.0879220877391542,
          0.8113589646526552,
          0.8495027610976366,
          0.8490990709656855,
          0.11530196217274108,
          -0.3804165616623479,
          -0.34397101551781833,
          -0.8110130985063402,
          -1.3531530820399165,
          0.19039602027828617,
          -1.146627175588992,
          1.8402898623239299,
          -1.632927266566159,
          -1.6608045027096066,
          -0.6327517197395163,
          -2.386327058875244,
          -0.34995128731677233,
          -2.364404240420033,
          -1.1139942325196464,
          0.46521625654810234,
          0.26009022312037167,
          0.6268239047529085,
          0.9103133234051614,
          0.5856017367037659,
          0.4225064749949058,
          0.72384983771495,
          -0.09743975629828137,
          -0.5441134945812642,
          -2.0402738564397893,
          -0.08899968915448635,
          -1.9856375297217401,
          -0.8114204171545424,
          -0.046903404736521825,
          -1.2858533680083588,
          -3.494859445064672,
          0.8044176191304747,
          -1.6577697988604287,
          2.1919708857568216,
          0.650628513122279,
          -1.110626731701977,
          0.13262387514438642,
          -0.7053036208100615,
          0.8560780989160968,
          0.74152246008559,
          -0.07278391705232376,
          0.49528625906338203,
          0.4475926582086545,
          -1.890031194881113,
          0.3602750449700742,
          -0.46578831086685796,
          0.7564208784618247,
          0.04628950080767262,
          1.5930416450466574,
          -2.177748512634348,
          0.9055206746982235,
          -1.0763446576730307,
          -1.376569939090578,
          0.12319506958077277,
          0.9043249109807028,
          0.13426229162260275,
          -1.8042473901260507,
          1.183262995020422,
          -0.4747014176306214,
          -0.6563271436144338,
          -0.27841193136235054,
          -1.3172278259736863,
          0.39242890381805884,
          -0.030115053619765634,
          -0.0901214297867785,
          -1.0439969950737173,
          -0.6911451799397083,
          0.7764266484735008,
          1.8507232623447378,
          1.260747695654293,
          -1.055879705873546,
          0.13083108573411148,
          0.23774223077994733,
          0.9009500400302912,
          -0.8126222459441725,
          2.2887762545086265,
          -2.413435335365213,
          0.9466595420917244,
          -2.762869414468481,
          1.0055534353399773,
          -0.2618499084074415,
          0.02962554993064815,
          0.2564483444138702,
          -1.700412029771128,
          3.0528000030036346,
          1.2267323586285137,
          0.8843439856837836,
          -0.9286534318473577,
          0.8957118879347054,
          -0.4368238011096158,
          -0.3074792115285629,
          2.4054779743891435,
          0.7674514581824836,
          -0.569353526837482,
          -0.4636526994157354,
          0.5062777197811815,
          -0.3033185551844392,
          -0.10192437869777207,
          1.791974724017303,
          0.9220710273464511,
          0.18243231509040816,
          -1.1185253138644908,
          -0.33793193937806776,
          -0.5086728396228266,
          0.2315418897451815,
          -0.689743917815198,
          -0.3463122612396495,
          -0.049418681877468416,
          -0.15894958337583512,
          0.21293348648562882,
          -0.9449980329981243,
          0.3532006052374548,
          0.3186592561863473,
          0.4190848965244699,
          -0.6070857945386593,
          1.3447182263246833,
          -0.19581458392896348,
          0.6528907866515581,
          0.6423898310854684,
          0.04153966985274784,
          1.0083494327957603,
          0.24695412965638802,
          -1.394602249689048,
          -1.5377829758038786,
          -0.4653987089328299,
          1.4246127101701473,
          -0.17468491333977898,
          -0.37060321311954353,
          -0.5168856803340297,
          -1.572883260060623,
          1.1176443640361657,
          -0.8716184533319845,
          -0.59849332395193,
          0.9672821866684762,
          1.4133422629506898,
          0.68867736266542,
          -1.5353918278402803,
          -0.2091492163635224,
          1.8229601090084415,
          0.1844857473588679,
          0.5894678503786389,
          1.1683615978287984,
          1.6640992386685658,
          -0.8327616707523529,
          1.5363223662427608,
          -0.5801888479118578,
          1.736017888855207,
          0.7345416594578641,
          1.2928688359980198,
          -1.1149442116468982,
          0.2131451645087262,
          0.7379064615865533,
          0.9069864703687246,
          -0.3222237704824474,
          0.10565282243437944,
          -0.11406573420729561,
          -0.41010051374177475,
          -1.0302263021989229,
          0.24235777250043453,
          0.014163862230108168,
          1.6187679766821794,
          1.1683031425061197,
          0.4149657199075701,
          -0.8675948113058021,
          1.6799259875570698,
          0.5566317887020465,
          -1.6817215131965042,
          1.16387894140928,
          -0.34857188857540894,
          -1.6019224031997112,
          -0.23781882802181,
          -1.2887227906497234,
          -0.3770729980612721,
          0.15462280160446085,
          1.0613107647067057,
          0.6941227277538397,
          -1.557398056607091,
          0.5469941368196821,
          -1.0476625234066077,
          1.4855981240589096,
          -1.493181759478563,
          0.3502735635219209,
          -0.4889969614003616,
          -0.5140626648844738,
          0.20930527587211098,
          -0.28119488467314774,
          -1.0126993678664666,
          -1.3304403920327197,
          1.8442579949357725,
          -0.39710424864036176,
          0.6343189182884552,
          -2.0979594338386964,
          0.01789357291438535,
          -0.7770346594988877,
          1.9782143052420071,
          -0.3453125993311694,
          0.21199353558996378,
          0.18530440912760068,
          -0.10059135548647534,
          0.3770399875703535,
          -0.7488595339444324,
          0.6793931868611066,
          -1.36724040513623,
          0.38494076392275794,
          0.8961892962773144,
          0.06597073664574539,
          -0.1005889037222649,
          0.7708986895114293,
          -0.27861464605466524,
          -1.6308276122387457,
          -0.03400700778543494,
          -0.2806808812599486,
          0.8094004148482097,
          1.0403603459652901,
          -0.16271683081132848,
          1.0577124910812992,
          -0.10148250617216299,
          0.5367953791923283,
          1.1687946154325235,
          0.5880200802153089,
          -1.0132310132695581,
          1.2976690562453264,
          -0.7641598665061043,
          0.6459706916868867,
          -0.037459641242289635,
          1.0383353082133395,
          -0.25029375974761037,
          1.856871330577062,
          0.19858600697848597,
          -0.9417219083214503,
          1.0029617344321697,
          -0.3616722053418412,
          0.2664469626572551,
          -0.5302199840505558,
          -1.1880521028999191,
          0.1842240272848408,
          0.4226174274239603,
          -0.7888152175412237,
          -1.1075073467480996,
          0.9179832097476177,
          -1.3434241730858103,
          0.6239052728815966,
          -1.1671726320233773,
          0.6389586682372529,
          -2.1292024940263703,
          0.9562313167079878,
          1.72363976251525,
          1.4207605537537291,
          -1.874754092191746,
          2.820103962586268,
          -0.06933534354409858,
          -1.2405115169925582,
          0.7896846842148303,
          1.1937794033150564,
          -0.4573468982129057,
          0.7100689414653629,
          -1.0444023989262623,
          1.2774920652869253,
          -1.8788216212910966,
          1.4072385888123473,
          -0.7187392273550517,
          0.35842858849920045,
          -1.0531668035428925,
          0.8108681560758071,
          0.22196616230895103,
          0.604690450964055,
          0.2692400213930794,
          -1.2173043339264398,
          -0.943301509302547,
          0.33511634247831196,
          1.182082508693581,
          -0.4788699368952233,
          -0.6495337216194587,
          1.5354646402497503,
          -2.7697492074524366,
          -0.4740764430548884,
          -0.07397529061183376,
          -1.2815770275870078,
          -0.4959541818145396,
          0.5397204898301595,
          0.03647382016519601,
          -1.1140231842666033,
          -1.450859753542705,
          0.23704850030782504,
          0.45398600848786386,
          0.4689979349249819,
          -1.4387227404151144,
          1.41426275910533,
          0.42236951737406325,
          0.12147818648715082,
          0.8036013156569072,
          -0.0631774468778752,
          1.7861318715632986,
          -0.7404972620069883,
          0.74368938603316,
          0.40724182219815613,
          -1.082874070765257,
          0.092693590686346,
          0.6496348669557176,
          -1.7194254024082198,
          -0.06423947963684676,
          -0.6630211299588599,
          -0.3128587025921906,
          -0.26317990759268456,
          0.5024629061637331,
          -1.1435353363281908,
          -0.11407881522292344,
          -0.17296817298801287,
          1.3899300664708967,
          -2.024684879861605,
          -0.5271854507093354,
          -1.033265672262579,
          1.675186408997827,
          0.3697528697649941,
          0.9417422773140113,
          0.8787295662007628,
          1.0852153234387614,
          0.5423366749098507,
          -0.7478778258813157,
          -0.10247032782071666,
          0.8898864859213933,
          -0.5822904638232801,
          -0.9877245954691295,
          1.4265592476433968,
          -1.0726958074659292,
          1.1964167803869692,
          0.1337127839195699,
          -0.8148014873623168,
          -0.03922980225459404,
          0.6795791978536992,
          -0.03669986391839961,
          0.4774442591948968,
          -0.5229609823408761,
          -0.5832811375513016,
          0.39950991634131,
          1.3302893292992073,
          -1.2698764362116208,
          0.6152544078483654,
          0.1999123142780006,
          -0.973690288151567,
          -0.43838600388028914,
          -0.7333019034344038,
          0.6006519353302938,
          -0.5728301262325907,
          -1.291403866594674,
          2.703132652112632,
          0.001702219135383342,
          0.8934332738665001,
          -0.2878863805044612,
          -0.24934000735177614,
          0.39985379173047997,
          -0.19815037109701092,
          1.062729135757179,
          -1.61059758940841,
          -0.9889140697124496,
          -1.0598502820180986,
          0.7065909156000205,
          1.8616953909840486,
          -1.26471458026396,
          -0.8448847684236861,
          0.63149822074636,
          -1.1530262043819024,
          -0.4677446131771141,
          -1.2005193753904837,
          -0.6231818722955768,
          -0.2621099065706063,
          1.4713678042214096,
          0.31457725377601653,
          0.03268204189103007,
          -1.3178594814658042,
          -0.8073115667051365,
          -0.9728914117284594,
          0.6087365487987751,
          0.6069397465623887,
          -1.7305528546250255,
          0.6760519482149036,
          0.2748605398962205,
          0.2515217271855189,
          -0.17790401440689116,
          2.480105697467359,
          0.4716748299146736,
          -0.24930260106848132,
          0.753546962595991,
          -1.4058428214440586,
          -0.5398049647480198,
          0.3798039878203465,
          1.3614863198815863,
          0.799059764773787,
          -1.0626177346993886,
          0.5942270607218579,
          -0.3903761499768614,
          -0.02795229791158072,
          -0.9160765869214944,
          -0.44552487094418797,
          -0.7033829138861032,
          1.1262944535671782,
          -0.9769044415060016,
          2.2634773964855865,
          0.5865531453078004,
          0.1736797392048741,
          0.8075237567508818,
          -0.7496133410810523,
          -0.41387194059916915,
          -1.805813824166002,
          1.7719456009850176,
          -0.6558049570665496,
          1.0009718963954952,
          -0.049435249148725983,
          -0.23442212290381742,
          0.08246392139069847,
          1.166119369375911,
          0.006433835623118877,
          -0.8449958849965105,
          -2.133188584731905,
          -0.42247931559296614,
          -0.6394553200296198,
          0.380161366233871,
          -0.9722500529307726,
          -0.639269022477005,
          0.584189296550661,
          0.48628193672073444,
          0.8343339455477232,
          0.29337162613720774,
          0.3250633079589405,
          -0.17061223746408782,
          1.121338865920683,
          0.3644659863999369,
          -0.2679677249492558,
          -1.3917281148409149,
          -0.6398158939591913,
          -1.4218707707173535,
          -0.33723071396902815,
          0.7556295687483954,
          -0.26515535288331565,
          -1.165756713114603,
          1.65997169935007,
          -0.9377231905927791,
          1.4796586197002608,
          1.465071800781465,
          2.50984695375849,
          0.25949386950145836,
          -0.7797365514304039,
          0.5549025108003612,
          -2.5015558358456245,
          0.3851943716506542,
          1.0517140069945448,
          0.4456926329488187,
          1.2965990123649591,
          -1.6077253683157018,
          -0.293073899372187,
          -1.3777207302523546,
          -1.163222702717811,
          -0.5461770024946153,
          -0.27833146655467655,
          -1.1363791343055487,
          0.23741634415172352,
          -0.11696131470615756,
          0.9409456802694234,
          0.7004878283329693,
          0.6971897702446145,
          -0.4033291440827647,
          0.5943618830008348,
          -0.8272087721990896,
          -0.4584883000372239,
          2.2128244844884857,
          0.06724410982928344,
          0.89590388349804,
          -0.3597926249095208,
          -1.132890306067291,
          0.9122081827554926,
          1.026203432292692,
          -0.1922147016383443,
          -1.527891361893077,
          -1.0838154489089658,
          -2.5944808784382762,
          1.2034917687108486,
          -0.2134844973508365,
          0.7378089201514687,
          -0.17890184694860634,
          0.748752722766902,
          -1.8414941187491203,
          -0.6447087210826606,
          0.22282442671395294,
          -1.05029156735592,
          -0.06438540513411738,
          0.4252242684516051,
          0.011488091748175387,
          -1.0746679474240775,
          -1.6518721799215688,
          -1.2094858806021076,
          0.9530336789605622,
          -0.4192544147921777,
          0.4738028446149215,
          0.0526892476969104,
          -0.2308675651207302,
          1.1880709745421638,
          -0.4165475843599012,
          0.1606525337050307,
          -0.3618350870417872,
          0.42747904955028015,
          0.97033807013457,
          0.21275029292886793,
          0.6232280419570311,
          -0.2512504882633545,
          1.01187750036714,
          -1.6487691071786128,
          -0.2442226232769282,
          0.7337341504477782,
          0.6124291826262127,
          0.2011880036155852,
          -0.6336160144983894,
          -1.7405494754971023,
          -0.39741067354893256,
          -1.4425385685190215,
          -2.460694543571465,
          -0.17810450575305797,
          -1.3045237264605118,
          -0.28611204950337477,
          1.1398270532260755,
          -2.3291747053283194,
          0.14143539393735252,
          0.006853290973570216,
          -0.8802064412070144,
          -0.2496737522958441,
          0.6130406633765801,
          0.6401050502572331,
          0.16050718173879325,
          1.5323089466859925,
          0.7162512984018108,
          1.1877558181964991,
          -0.5589706479603288,
          -0.002763473043740558,
          0.9949452395237738,
          -0.6674785098202359,
          0.6131407749540861,
          0.5886297241751233,
          -1.5825309398617937,
          0.6727204425078146,
          -1.6500682211661775,
          -0.2964060170968738,
          1.1263800213135862,
          -1.72790471543436,
          0.19287625810627967,
          1.537793725181782,
          0.11527308199654662,
          0.5562292697834033,
          -0.9196730875599266,
          -0.23507856367374197,
          1.0954719423796955,
          -0.8572161453959042,
          -0.6977009022078824,
          -0.2665567559815625,
          -2.0265621825211175,
          -0.19788629094040208,
          0.058320761954873096,
          -0.6812778205360825,
          -0.8252895504143956,
          0.8205046622450427,
          0.4034255997818885,
          -0.7685446560944792,
          -0.8572165176003016,
          -0.2515778596920341,
          0.3332318028117865,
          -0.6687202956980333,
          -0.003248799236482606,
          0.49082669169403453,
          -0.055861735809431184,
          1.5377043084228001,
          -0.8873472111888013,
          1.3301984566551195,
          0.6333703079122398,
          0.45697134824672364,
          -0.9144142987391373,
          1.0178970629668687,
          1.9431736644323179,
          -0.4313939403205306,
          -1.0416907715798853,
          0.5508283507752807,
          -0.6907744377428604,
          0.20191052762924477,
          1.253940117372922,
          -2.672681047398033,
          1.5678775348194869,
          -0.6034273562022548,
          -0.29095727779850844,
          -0.12371008860312031,
          0.7524925557478298,
          0.43693413118952673,
          0.3936836769953584,
          -0.31469938672178344,
          0.18753150364709423,
          0.09565870201308169,
          0.1120381553322189,
          0.37129548741289287,
          -0.45803818206580516,
          -0.5486301986973597,
          1.0156639375350318,
          0.04265454643155669,
          -0.3961986021856834,
          -0.13348023034257422,
          -0.09032283287009302,
          -0.9850625164144263,
          -0.13166991804139036,
          -0.4910889112925817,
          -0.20990291271597453,
          0.522429568994008,
          -0.07361176291130991,
          -2.011769873468853,
          1.6116229336253898,
          -1.8430844924636307,
          -0.06815386176651621,
          -0.32277777446319267,
          0.4567596539229625,
          1.3450132727871815,
          1.8990091094406958,
          0.6908701100919501,
          -1.3450256509485596,
          -0.07017924678162003,
          1.1707738268296322,
          -0.33396140445549005,
          0.8069670870024602,
          -0.3968846536080873,
          -1.3861741216609231,
          0.3688535820100323,
          0.5519163933674067,
          1.280679176790301,
          0.3218839999721607,
          -0.8406058993749567,
          -0.5313740640336065,
          0.17794616864562868,
          0.5003256703461996,
          0.6978052980443117,
          0.9215495514682087,
          -0.3300495914424512,
          0.8464134064430163,
          0.7050851959546898,
          0.4322352624433425,
          -0.779938721705737,
          0.035089351813289364,
          0.9175695473103617,
          0.9677766122039708,
          -1.1366949767431247,
          -0.5869116155276517,
          -0.31121292778167603,
          -1.2581313643224088,
          1.0487889836463464,
          -1.3369969524587262,
          -0.5223085827533019,
          0.07167128340426636,
          0.48208918367015985,
          0.7406028916508552,
          0.29783995073956787,
          -0.5361557844731001,
          -1.3032951010057554,
          0.21938723694695741,
          -0.16256265491400487,
          1.536945017594676,
          0.28271955123428016,
          -0.5900455313465643,
          2.1222534202334424,
          -0.32979540492834186,
          1.0507930818823064,
          0.8750212407729734,
          -1.4629929217183453,
          0.381752159981306,
          0.44884636178410686,
          -0.5824101464010876,
          1.4817978853766653,
          0.533725112032455,
          1.5831227848246145,
          -0.3132330883582389,
          1.474421536320293,
          0.15056336788472888,
          0.9829150416706377,
          0.08606703137439409,
          0.20283536070659536,
          -1.4963240336357722,
          -0.5356413262466523,
          0.11325201327220165,
          0.07737384398792252,
          -0.2321558204037333,
          -1.1018003800805212,
          0.4015729617766771,
          -0.0022164640819618865,
          0.5919703603339931,
          -1.0364021443394407,
          -0.13174552663209785,
          -0.26509379890974977,
          -0.7465561580970059,
          -0.32923353883657286,
          -1.5457949093035246,
          0.9833631616162283,
          0.31223834816902385,
          1.5851631316353123,
          -0.1990662600951817,
          -0.5654575537938217,
          -0.0467446289868988,
          1.6781401702325525,
          -0.08932053863689798,
          2.436875550293108,
          0.8464838896056315,
          -0.468011090141134,
          -0.8662060972243529,
          1.3997318293612233,
          0.8190141269226144,
          -1.9675253249306266,
          0.9060430596283132,
          -0.07963986160131996,
          -0.5906527376867686,
          1.5447424875816338,
          0.335428260046518,
          -0.028542916018987657,
          -0.40611041090551725,
          0.32514064848376123,
          1.1981577916338877,
          -1.0445133285075612,
          0.6355668880043325,
          -2.241043733040169,
          0.5803406536836291,
          1.937508095388466,
          0.5234827903013753,
          0.9904712802427224,
          0.12692498112117018,
          -1.7546452660429248,
          1.2313778836229905,
          -0.7815960079700877,
          0.6044529789665014,
          0.007807701582608457,
          0.02413881187647431,
          -0.7338144838221865,
          1.407490436073811,
          1.5760395998252998,
          -1.8177371079355242,
          -0.9508701619299695,
          1.2612717660443795,
          -0.23024667720325265,
          -0.6087301657336456,
          0.1783272959729407,
          1.1951924570655512,
          0.6354610362324887,
          1.9272493678912879,
          0.06526745836679891,
          1.0498237501312524,
          -0.896172830649798,
          -0.1711714180364734,
          0.7036974094301575,
          0.6526654163272902,
          -0.03860546437877993,
          -0.1972187383543485,
          0.5341919185871,
          1.267430295985424,
          1.9793127637007017,
          0.7983895095512086,
          1.1953333300504858,
          -0.896675863089806,
          -0.5217172211905019,
          0.010233678466120206,
          -0.23984337829815547,
          0.40628249969616526,
          -0.5061651255724904,
          -0.9512789490488366,
          -0.8906329674830189,
          -0.09090789464782684,
          -0.2812991989281089,
          1.5496654443424598,
          0.5348102889528868,
          -0.3353597959181907,
          0.6949153772342289,
          1.3909063828973678,
          -1.2404616974102087,
          0.3714324102425271,
          0.6239030426091193,
          0.5578992270946124,
          -0.6064352478811461,
          -1.3214516800703844,
          -1.8787866140075862,
          -1.417814713379767,
          0.5262545569029983,
          1.4779647747328986,
          0.5215665053237699,
          -1.0103743709044795,
          1.4023923049221652,
          -2.1892810203685187,
          -0.3970871259197564,
          -1.7121225811961736,
          0.3093712310870664,
          0.0018980731999263245,
          -1.3287157712256676,
          -1.2270789212701745,
          -0.5575292110763507,
          0.6618753355868268,
          0.4897816579931043,
          -0.4904337557751626,
          -0.10749850585671578,
          0.11559112945559692,
          0.6116692634707961,
          0.24319683448867174,
          -1.0541252327891772,
          0.2254191207612617,
          -1.7172053309082644,
          0.34661561189647977,
          -0.27153897912922254,
          0.06403018533428902,
          0.5410912116573382,
          -0.7344927811016204,
          0.5631977784564515,
          0.5149260123181328,
          -0.7806853494089591,
          -1.9132086604177727,
          -0.6150838927458816,
          1.2123108863641354,
          -0.019342506616652735,
          1.2044002131244789,
          -2.3107204877048018,
          0.9124318978223236,
          -0.2945591030871263,
          1.2550860292717454,
          1.563795889797857,
          0.3560940461530443,
          -0.8387397668063447,
          -0.002128943046071604,
          -0.21004931645902408,
          -2.4984721648868353,
          0.0030413269145811344,
          -0.2558471772843259,
          -1.353706245079443,
          0.48292803891036995,
          -0.3415609470331311,
          0.8527549634438406,
          -2.744079981177475,
          0.34065592739460115,
          0.5701642808113169,
          0.08304903433198868,
          -0.44874139289229004,
          0.5903171750864425,
          -1.0065369239598327,
          0.05003453380485188,
          -0.5647334293735208,
          0.6180959680229436,
          2.031163459011664,
          -0.7738174266014785,
          -1.4141541667288713,
          0.018002149788137217,
          -1.47704000921193,
          -0.9202601569614036,
          2.350848827921143,
          1.1148428221674591,
          -0.2185732903781135,
          2.0979315452916554,
          -2.2372337749011915,
          -0.3086182150169245,
          -0.635158035353203,
          -0.6730454426239038,
          0.3118263588630559,
          -0.10592047286619528,
          -0.9691537071865067,
          -1.223312158192826,
          -0.8396099032797382,
          -1.6068527150181549,
          0.1607136019597772,
          -0.4406895496929825,
          0.5617349116293041,
          -0.2311942454508235,
          2.2329065918942046,
          0.015905412312231568,
          0.8912651230778271,
          1.338985952287178,
          -0.49796197659123737,
          -2.490232227676653,
          -0.3202105022887722,
          -2.240010105277768,
          0.7799330123741258,
          -0.4614458525762952,
          1.0267291959645188,
          0.37703756208103184,
          0.9190595377697504,
          0.8735924713181206,
          -0.712331827603107,
          1.113905339043522,
          -1.36792563371069,
          -0.4775211619192953,
          1.4280405263013334,
          0.26910988393521673,
          0.4596832710080849,
          -2.1055558932523977,
          0.7386561492771949,
          0.5217338847852152,
          -0.889953366103584,
          -1.6620016292208701,
          -0.24538142382964678,
          -0.06616136703034824,
          0.14701709849160166,
          0.029049629317621395,
          0.4630254803845959,
          -0.5753918748246288,
          -1.0229094161548358,
          -0.5359345661563567,
          -0.43871381496725936,
          0.6997217776333933,
          -0.7786459646487224,
          0.8153752965088152,
          0.31634135798908625,
          -0.0242978284954086,
          -1.5095911970535685,
          -0.7584360408500589,
          1.48935323177094,
          -0.9889947302806997,
          -2.4837544965330154,
          -0.38909569953495204,
          -0.6975449529405818,
          -0.8430335463054225,
          0.5259651394247375,
          -0.6924739977462598,
          -0.8447688145926873,
          0.11845638626890936,
          -0.4008052554559368,
          -1.46799522337494,
          0.3691637047389117,
          0.4196589934339519,
          -1.2935816144914671,
          0.6608442253894323,
          -0.10951234921996557,
          -0.8471091364958044,
          0.7354633779344067,
          2.744869779830709,
          1.8027098085743996,
          -0.42413831757102977,
          -1.23232544603394,
          1.4569803115651498,
          -0.8888480750916151,
          -2.3442310763354217,
          -1.5074266808750483,
          1.712596918725816,
          2.49024980540967,
          -0.7923809408296602,
          -0.987818786169122,
          0.7824633248183935,
          -1.7314124321561066,
          1.4120416630945576,
          1.2228497911445566,
          -1.5187566951450662,
          0.6236255517775088,
          -0.940628560920619,
          0.9375717146356733,
          -0.7547623369226905,
          0.14941202880362456,
          -1.3411309720026974,
          1.4721131574864552,
          1.142449562883164,
          -0.5458035177739794,
          0.2883438312206349,
          0.6490576269105528,
          0.8176103034811567,
          1.6969444016558153,
          -0.6085632002400392,
          -0.044169646097696566,
          1.2575370968665351,
          -0.03614562739995859,
          -0.9455215950594436,
          2.433083171243178,
          0.694742019760051,
          0.07517530000581206,
          -0.47481649821097194,
          -0.17306532899942895,
          0.11560438553122032,
          0.3384777672356235,
          -0.1041434114054821,
          -1.1199787445541205,
          0.2966848037818426,
          -0.15580716379770093,
          -1.2025420640781164,
          -0.9760856040872139,
          -0.998170138128721
         ],
         "y": [
          -0.759818307047349,
          1.4374249279573044,
          -0.41706677645668816,
          1.5591929864768792,
          -0.7885632695409655,
          0.5633731996644085,
          1.3788050944434647,
          0.8811539226207558,
          0.7339871491584075,
          1.7133493715250767,
          0.16252962062326026,
          1.435011973263608,
          0.7288184062060827,
          -1.2520655210092293,
          -0.5065378964191294,
          0.373370851986755,
          1.1015850100489937,
          -0.1779434620750627,
          0.9771545882459637,
          -1.1297663088229772,
          -0.48911201600202897,
          0.8199306577803467,
          -0.48859042033224365,
          0.18391030463623562,
          -0.3846292994600383,
          0.2694301386067557,
          -1.8184136555666766,
          -0.03606722342399783,
          -1.0567385352973793,
          -0.5796409469464547,
          -1.9788536393476592,
          1.0611218833846086,
          1.9161028800050208,
          -1.7284562036698465,
          0.5149068228831492,
          -0.7040726129780893,
          0.6861143924719928,
          -0.9967811764568082,
          0.205782072204947,
          0.43396708559735514,
          1.4340623526149296,
          -2.2757377751143255,
          -1.6450626778712358,
          -1.1180851746072695,
          0.4683869781471883,
          -0.6701107049736319,
          -1.0859892614675044,
          1.931448553135087,
          -2.0322528970576137,
          0.19319308155331918,
          -0.13736897926166602,
          -0.400731211915623,
          -0.12024685572417843,
          -0.5568564062200785,
          -0.5135694711932868,
          -1.8956687292928802,
          0.24935419488644603,
          0.9239752143322207,
          1.673362913628982,
          -0.5685510899668547,
          -1.3717744666936933,
          -0.5782250598828113,
          0.2827145748028786,
          -0.7413951194021259,
          0.3680073297594897,
          -0.9695908743285923,
          2.062621030092164,
          0.926159736561443,
          0.9614010475935707,
          -0.9443284790564624,
          0.48546700277390253,
          0.5206571468173616,
          0.7070164502293691,
          1.1291090710684468,
          1.098077814629416,
          -0.3152501793846475,
          0.33270840568141075,
          -0.1725342130117432,
          -0.42565486647747114,
          0.2201308519077676,
          0.3828884776077636,
          1.5905128654206966,
          0.2832472820831177,
          1.218359054371807,
          1.2577751578645384,
          -0.6138443564422228,
          -0.634421915397216,
          0.6236050194581132,
          -0.32613550840337974,
          0.4315466151704414,
          -0.18952567958569708,
          -1.5146763444610092,
          0.28419209036658155,
          0.22992657382567613,
          0.0020193531231334425,
          2.476864918464888,
          -0.5909386010790506,
          -0.02292673091027242,
          -0.24728302668052973,
          0.976861012790382,
          -0.2157708216805838,
          1.081154642813767,
          -1.1970478318825422,
          -0.7688049977021904,
          1.2721965681770768,
          1.2704475512729556,
          0.9240387368171341,
          0.8188700208744364,
          -1.17963445597928,
          -0.31503763350253317,
          -0.6775545605179004,
          -0.7031720021440475,
          -1.4554113838015896,
          -1.0476102799195772,
          0.189417874203938,
          -1.9564305459983242,
          -0.2173848264490382,
          -1.8571971072181068,
          1.2235752000966174,
          0.6215753935276347,
          0.04969006014263159,
          0.5973872437713151,
          -0.47161255616203496,
          -0.3418593280512278,
          -0.7680503432862579,
          -0.637390251993462,
          1.4285033142226853,
          0.6994138099039,
          -0.357840983621131,
          0.5812296547678127,
          0.8799115807754652,
          -0.07437738780294832,
          1.1858449119884271,
          0.3284965197348188,
          0.010812143565626682,
          2.369397695514954,
          1.0543761400417175,
          -1.2410127374366586,
          1.830114565219964,
          -0.5391512493143225,
          0.3806375578171185,
          -0.2730688642285559,
          1.725482851876256,
          0.6527630808260791,
          -0.8627510062601268,
          1.1352759743542749,
          -0.47076864586887274,
          0.7703969559722197,
          -0.6698565516589778,
          -1.789152455546952,
          1.2635691206667732,
          0.5741582907063157,
          1.294495139195556,
          0.10726526765722141,
          -1.0723320816143935,
          -0.01594835809448021,
          0.4329486963631078,
          0.7317229831742119,
          -1.5359753614788676,
          0.7635109381671368,
          0.4337012203228394,
          -1.2666734076725326,
          0.479083175038329,
          -0.42202305622190134,
          0.2734514412862332,
          -0.7964997960967048,
          -1.5648964133669188,
          0.8442775362186142,
          -0.7923342999623648,
          0.7964604804023624,
          0.021871524937962218,
          0.5348971627031663,
          0.747060527761634,
          0.7427990920338691,
          1.2620091388240071,
          0.799457139638618,
          -0.6661984019370926,
          -0.08410340779486938,
          -0.4630699020225934,
          -0.7131185780996673,
          -0.11023610334635028,
          -1.589220163242974,
          0.61913183374397,
          0.017286853730497934,
          0.09344965399191504,
          1.3180773750313286,
          1.121124250284895,
          0.5932163179053549,
          -0.6907870697551591,
          -0.05248424722752432,
          -0.06863939476293868,
          0.2579774597533589,
          2.6624326757494763,
          0.521923053995028,
          -0.9113372401405514,
          -0.4205384574932869,
          2.159752960842165,
          -0.5795723842220603,
          0.5687857594251777,
          0.8468731024919018,
          0.4784481561483238,
          -0.6515368862113059,
          -0.6813636536573334,
          -2.1182590486459336,
          1.3384647536629921,
          -0.11568140846561968,
          -0.3673838298855644,
          -1.300913372767348,
          1.4323579979220444,
          0.11967826406157042,
          0.564318523839027,
          1.0270986772259438,
          0.5966217139769976,
          0.13094532688164687,
          -2.360909562036711,
          0.4881320459243462,
          1.5913224239228412,
          0.03274593174010776,
          0.5025069467815333,
          0.1960878047316905,
          -1.4832966617089611,
          0.8893298524473872,
          -0.6485223634344258,
          -1.112007159129999,
          -0.8243504241781727,
          -1.2479842400526169,
          0.1769841753584655,
          0.7396052420882918,
          0.9231720119246002,
          0.1461865360343453,
          -2.1771430031367682,
          -0.376940062724,
          -2.034079500213226,
          1.5915611319845526,
          0.8208056723176439,
          0.7254553834184659,
          -1.1495077450291225,
          -1.2864720144213322,
          0.7558758828985285,
          -1.0280368588440056,
          0.3347249808836613,
          -0.474452073925464,
          -0.5138995610548946,
          -0.7446594121308588,
          1.3950919662884866,
          -0.3971952304821858,
          -0.3888324247417307,
          -0.5322550495369995,
          1.718494289772405,
          0.10411260063303256,
          1.1174019449409862,
          -0.5666378299876991,
          -0.3026102138914376,
          -0.4476523059802308,
          0.824423066428248,
          1.0697800300547655,
          -0.06374466469878037,
          0.6464892767775536,
          -1.3442587246212716,
          1.072404059270151,
          1.2820699709646457,
          -0.49741012185669403,
          0.20193125393611625,
          0.5175404758247514,
          0.5561983607437231,
          2.360477064485515,
          -1.2879534427387138,
          0.9236472053789939,
          -0.31384359972983245,
          2.7557040197483835,
          -0.36375398701899536,
          -0.05229086187487616,
          -2.1297569116868242,
          -1.6920711616638604,
          -1.6760928706571834,
          -0.9403443399672191,
          0.3199585533304085,
          1.9549314061168968,
          -0.15271855130561263,
          -0.5878052726539267,
          0.571645601966202,
          -0.5766317318324735,
          -1.628306035179881,
          0.1588083820101326,
          -1.3170265980243032,
          0.4063898374422282,
          -0.6565513847341421,
          -0.8512613603247805,
          0.7304486212820315,
          0.07191272663946259,
          1.5785033408198033,
          1.3321785753563982,
          -0.7005852897174282,
          0.9041733697044867,
          0.27346989527120885,
          0.3393835202793622,
          -0.2747365468197883,
          0.6044663648943625,
          -0.4119532816961106,
          0.592708657895395,
          -0.868478851769742,
          2.4775785466025178,
          -0.17889224974728313,
          1.7966337903709737,
          -0.29897272937149383,
          1.156231660158363,
          -0.6902073186711809,
          0.9563343915740063,
          0.6390852316244641,
          0.44969470449342963,
          1.469903730412056,
          1.0748959050710154,
          -1.425673310730328,
          0.10486956183289499,
          -0.6295541155030355,
          -0.009181314739944513,
          0.03427398204806415,
          1.2815425560390576,
          -0.013013139506726605,
          -1.8471536419996346,
          0.5281072880235079,
          0.5833818973699794,
          -1.0766894793844588,
          -1.852126350066504,
          -2.3716818790030976,
          1.8238472598597903,
          0.037004751563386354,
          -0.02193936611297271,
          -0.38211093742190944,
          -2.00262435016561,
          0.7914047684225711,
          1.985533282722763,
          -0.48642259042339914,
          0.35349222050037254,
          1.33618116101008,
          -0.8103783277727168,
          -0.5782536288945831,
          0.6579225023913307,
          1.4045750672588735,
          -1.2001311062314044,
          -1.8075253898557986,
          0.7069561441163962,
          0.13925895473903824,
          0.02834924730193551,
          -1.1169043455839902,
          0.926035075853108,
          0.31354627861295215,
          -1.4854897160831255,
          0.40245866763252464,
          -0.2287282112295559,
          0.42939014377772783,
          0.7300805155754905,
          -1.9735270575885135,
          -1.5843910126864116,
          -1.751701218976965,
          -0.6400882339725645,
          -0.7705728613850923,
          -0.13237355122046282,
          0.11125869802055421,
          1.4417703657404948,
          0.8138215562575553,
          0.8403386085157358,
          0.9204419456286703,
          -0.8755827955804247,
          -0.21359805864351175,
          -0.31054654927947883,
          0.2462533728243433,
          0.3319883519359217,
          1.0984276162693085,
          0.21891737866424768,
          -0.9213778564939864,
          0.4915986565589869,
          -0.6137202795549631,
          0.45934495091952404,
          0.28415838816523226,
          -0.23631842616710697,
          2.0281015529656274,
          0.6031946770087672,
          1.71822379506653,
          -0.3033587743932926,
          0.35254782623118297,
          -0.8830823769951596,
          -1.9222683442596786,
          0.13066562277568,
          2.751141760424604,
          -0.37005040926318405,
          -0.47251569774192814,
          -1.248337797033314,
          -0.2124980458582091,
          -1.6932644144803375,
          1.0382162539481472,
          1.3819194795155472,
          -1.805971155364923,
          0.9249268146967645,
          -0.569810958808784,
          -0.7590375342255629,
          0.11254917241000488,
          0.9598785713594529,
          0.9907947229859307,
          0.9994532365456793,
          0.4263185546857854,
          -1.1331716922689299,
          1.719987509445613,
          2.098540200620265,
          0.24453923133354394,
          -1.2261116691957208,
          1.4001986088891027,
          0.5899430882126369,
          -0.29168709507694024,
          1.4558136011938452,
          0.18474123216564545,
          -0.8317832730366848,
          -0.3087793189911042,
          0.61772169717342,
          0.013652602799958839,
          -0.9033570334001086,
          -1.4641890118943028,
          0.07112522813803789,
          -0.5341844619296096,
          0.2044972248462778,
          0.10545657456532177,
          -0.5091028801973532,
          0.047744005636630754,
          -0.51542302097385,
          -0.5022735346777847,
          1.0371288802907563,
          0.8336807575557302,
          1.715271170379866,
          0.9368470191234352,
          1.6704119239633077,
          -0.30368996984151836,
          -1.3582207036872094,
          -0.6426704896473315,
          1.127502147596631,
          -0.6183608413959013,
          -3.1355113673828807,
          1.2083958397958232,
          -1.9416614306028162,
          1.2611593330424253,
          -1.7612120279517194,
          0.08040254953024059,
          1.0135152711359916,
          -1.49807916896268,
          -2.9556906657037283,
          -2.1062102380387584,
          -0.13654491094814367,
          0.33657154703163394,
          -0.7584305898041105,
          -1.013444388426797,
          -0.23581757600465972,
          -0.3856000266598487,
          -0.4012875424311606,
          -1.8809908792965813,
          1.7508570223399842,
          -0.974555887744128,
          1.2751099015859382,
          -0.8056574823105074,
          0.9659634012516608,
          0.6799069675259855,
          0.6153034776366738,
          0.5152906380990202,
          0.11069510407108128,
          0.6392822589015121,
          0.31683025882312355,
          0.08756964180717623,
          1.0726646545761813,
          0.04652754501330147,
          -0.8538765045765484,
          -0.12014306387975374,
          0.29442868703131675,
          1.1072101584747829,
          0.38482301961407245,
          0.7802643828697386,
          -0.1270465570069108,
          -0.3105381433306245,
          -0.5863495337674876,
          0.36030477554758716,
          1.0036314429983444,
          0.20022617511202961,
          -0.5423337644442578,
          -0.612988368285511,
          0.42045058815039504,
          1.1994940876267177,
          -0.3991822917376142,
          0.7410320814816798,
          -0.2172801820396073,
          1.4176479092476657,
          1.1747618550671513,
          0.05731167571982972,
          1.8650936904790045,
          -0.1733421629130882,
          0.9394075298122783,
          -0.5436270679558565,
          0.9120992909702622,
          0.029782555111780896,
          0.8983672400740423,
          -1.184577777337643,
          -1.126304511578981,
          0.8597270341874156,
          0.2360793796486807,
          -1.2833119697824855,
          1.402528792207704,
          0.5519638122423571,
          -0.22485527514911274,
          0.5063878516866305,
          -0.07281601852210713,
          0.3002520962737463,
          -0.5559233000198035,
          0.5295783298367519,
          -0.8132842862775831,
          1.3057866409418664,
          -0.06315763366401306,
          -0.5126904834122524,
          -1.8032906664840456,
          -1.6240853999544997,
          -1.743947075587579,
          0.7530445194279669,
          1.5178261942994722,
          -1.13798366184664,
          -0.3275816263432765,
          -1.2144839515712582,
          0.5699625422662039,
          0.8395615651166487,
          -0.20011505361839818,
          0.1870506157123515,
          -0.1812495411296037,
          0.31266842788147337,
          -0.6187898882228634,
          0.6440951390280222,
          0.7376937108825078,
          0.6146026732741064,
          1.5042854063598237,
          -0.384037582543044,
          -0.3377129561954246,
          0.2062912691770027,
          -0.1706780422117355,
          2.153940120402105,
          0.5618354612953748,
          2.081508864805272,
          1.2403780026950433,
          0.22736416466870216,
          0.2532952892526155,
          -0.8437418997309148,
          -0.42166904463060106,
          0.6844574699691398,
          0.8977194462051898,
          1.8986327143281827,
          0.01632815052385262,
          1.340883906217287,
          -1.65204898810456,
          -0.7718381236773065,
          0.115736576906635,
          0.44413397425759554,
          -0.9162019638696938,
          0.46550451607982174,
          1.7610731446715637,
          1.6095166563119812,
          -0.6553497210536969,
          1.3117143861644471,
          -0.21662141344570074,
          0.8703261946033213,
          -0.25318689822491247,
          0.2580447071057384,
          -1.7392497248153125,
          0.6986388987277845,
          -0.2585689734527693,
          0.12767403551855827,
          -0.3417736919582261,
          0.771277842376339,
          0.19313586639887004,
          0.7859665501127902,
          0.011333398986198975,
          0.11364768986683968,
          0.17247746941857076,
          1.1661030208391978,
          1.1529680430477922,
          0.9012865266890452,
          0.775915118382971,
          0.2847227904227293,
          0.15757072691031804,
          -1.3173018263752458,
          -0.22712796526977375,
          0.036616070767930574,
          -0.5623345210491271,
          1.1129981555936237,
          1.0530912671441248,
          2.068218885436936,
          0.3759943162178747,
          -0.9989672337486256,
          0.7533676624030866,
          -0.760737589873153,
          -1.3465885665210109,
          1.5894706899686781,
          -0.148511807292496,
          -0.09113602168473366,
          0.03476836494608501,
          -1.311387021958782,
          1.817812755757104,
          0.5681182112385633,
          1.2006696698636032,
          0.8192703326297399,
          0.3649566422419812,
          0.09631333634597726,
          -2.024145036143923,
          -1.5112705582890882,
          1.902263114719304,
          -0.4313992653700959,
          -0.30168184107498747,
          -0.4602443626977485,
          1.4677947390072543,
          -1.4568009219164848,
          -0.7189050591603838,
          -0.8017973847175132,
          -1.5038588714363126,
          -1.3942066062462577,
          1.508978170168214,
          -1.205652490010557,
          0.4707816878677555,
          -0.18691016101707833,
          -0.4506707764365255,
          1.5537451931385131,
          0.4904974510093109,
          -1.7057722734863723,
          0.7677639905111396,
          -0.5830059403386254,
          -0.2477067164901754,
          -1.278823013971505,
          -1.2782610279957716,
          -0.610236178968892,
          -0.07610622933953769,
          0.6721233878392626,
          1.303262946678157,
          -1.35833375696769,
          -0.41036136831843084,
          1.0929396415439372,
          0.33930197308876836,
          -1.8908228440708326,
          0.8817236513957295,
          -0.5885409781667249,
          -0.06479489354752414,
          -0.5323144734188925,
          0.05696861573672721,
          -0.6864368854316525,
          -0.898379395285207,
          -0.010120274404840427,
          0.8876912943261324,
          -0.5639575242906258,
          -0.4532998652340787,
          -0.9348282120506438,
          0.11851198430582861,
          -0.12725857566040907,
          1.2391770611448307,
          0.840266282622403,
          0.549864394975643,
          1.3137256576813419,
          0.08968082746915075,
          0.23323314765020273,
          -0.3534420807180598,
          0.2250658527162557,
          0.3464823388191246,
          0.43679974277163786,
          0.8889379014694816,
          0.5321773693722366,
          -0.29537568548525744,
          1.0749275535981873,
          0.6573972775024219,
          0.5104888146965272,
          -0.8015507511212818,
          -0.09150412012587691,
          1.288231654152717,
          0.6624288809524532,
          -0.1598780734406331,
          0.1730128786170645,
          0.5497109440549869,
          -0.36111021113814007,
          -0.8512183444829057,
          1.4048682292750112,
          1.0951791190712594,
          0.8381351815257511,
          0.46081595865117525,
          1.1102758053589747,
          -0.7973780150137222,
          0.1381409290268839,
          -0.20719333563531342,
          -1.0193986739939538,
          -0.9619457278665189,
          0.7075137668288349,
          -0.644708141083709,
          0.4212709359136249,
          0.9651364666057345,
          0.56702042870687,
          0.5058592513006932,
          1.0000609240484062,
          -1.981413218933746,
          -1.651208106852985,
          -0.7665722763702154,
          -0.5024192612198953,
          -0.08314093628617836,
          -0.4222657919416722,
          -0.8488309617945287,
          0.04685248280184037,
          -1.4134018401733044,
          0.38507465995062024,
          0.23856824779005073,
          1.092033335230094,
          -0.2862313322253216,
          0.12381146842776374,
          0.41225722548668053,
          0.5451193406619341,
          -0.9203643775534543,
          -0.14677360746183968,
          1.1817770161315941,
          -0.7436559911839807,
          0.4168212778048504,
          0.6487949199716702,
          0.17061054713244883,
          -1.070914752573432,
          -2.262276862673458,
          -1.7183276171748403,
          -0.9069670859565577,
          0.9310754858093898,
          -0.459761784839931,
          -0.015185612113299104,
          -0.6429975070742463,
          -1.3606122891063406,
          -0.13726701415339224,
          -0.37445754333180226,
          -1.1175592121955293,
          0.30367978918881383,
          -0.35966750787555224,
          -0.018647512390249168,
          0.6938500111552409,
          0.5879750398054918,
          0.3898246335302461,
          0.012316182817012621,
          -0.6116612345880911,
          -1.1759457136226927,
          1.3460226815697656,
          1.451712067483087,
          -0.49929290528334475,
          -1.7921599671899469,
          -0.17250207675189075,
          1.5183273786251539,
          -0.1183758267004081,
          -0.7782482179758452,
          -0.5499128977116438,
          -0.17891799755619858,
          0.10349848680613088,
          1.3782111695675765,
          0.856594599100626,
          0.49538650872258994,
          1.7877091572594526,
          -0.22384245105286416,
          -0.057304209254204236,
          -1.5646799987844608,
          2.3491536294128994,
          -0.3696593511909061,
          0.30432152308103283,
          -1.674528061328159,
          1.4024565180285495,
          0.2680357665639297,
          0.5358865968464447,
          0.3502895001470814,
          0.0975383057198018,
          -1.6262891692975094,
          -1.6783390694002183,
          1.6291716166236319,
          1.4300087385072489,
          -0.4637094668144574,
          1.5537460345602314,
          0.5681189986687141,
          1.1972875226998776,
          -1.2323222947067067,
          -0.6427121109198151,
          -0.05183243773476863,
          -1.333732182087471,
          0.05903253868647911,
          1.5898405184004987,
          -0.16134662950281972,
          0.4120618639680336,
          -0.2701399581764597,
          0.1634522609141994,
          -0.9897448359350396,
          0.0420474322656899,
          -0.18710441317849041,
          -0.2997069475836394,
          0.5921127723668181,
          -1.3997340434758492,
          -0.35720438790842146,
          -0.12294877324995378,
          1.2056991177767014,
          -1.4997484942659687,
          1.044884024865683,
          1.7534313117143108,
          1.7714884989487305,
          -0.35158973333683297,
          -0.08400963695811688,
          -0.004516238597116827,
          -0.7976102415534467,
          1.324899000589582,
          -2.2510736044530697,
          -0.3053447388318029,
          -0.825374047789901,
          -0.2278413397715862,
          -0.8750261451245239,
          0.6141689367708553,
          -0.7225244568558682,
          -1.1464983669260356,
          -0.16192136606189625,
          -0.36085431891552583,
          -0.8649608737983515,
          0.7911383819185194,
          0.30266489786028977,
          0.6185164010722101,
          -0.622627102811539,
          0.11076042747472899,
          0.9093374049020444,
          -0.7582239694564803,
          -0.13396505667613004,
          -0.9810178120312938,
          -0.342879982274318,
          1.522047175455646,
          -0.338558294886696,
          0.6826605849476268,
          -0.5789663836678531,
          -0.3553130516011517,
          0.7641104112128079,
          -0.642076677481162,
          -0.32491491424792535,
          1.4613097236233519,
          -0.7721150421972834,
          -1.057076856798526,
          0.22691265919709416,
          0.30927007043564486,
          0.7226246667669874,
          -0.19824774242377552,
          0.32931913073225316,
          -0.2670791957680864,
          1.973130494498542,
          -0.9776216650285968,
          0.4537786075363717,
          0.975692987308968,
          0.21646184482367348,
          -0.5950517127760191,
          1.2490541221392177,
          0.1437602963602982,
          -0.10133686393204594,
          0.4256852222540733,
          1.646696120649996,
          -0.78425711377023,
          0.5312207382428962,
          -0.6780131733403015,
          -0.124307845343269,
          -0.6333935688328216,
          1.233587323809238,
          -1.3114019949543,
          0.4497130361316657,
          0.7123763342890153,
          0.07602460191466978,
          -0.152535169547723,
          -0.6613257005920498,
          0.7991910392102467,
          0.9745909744960014,
          1.265563000954231,
          -2.367549197558637,
          -0.9958341268379427,
          0.3922387458303278,
          -1.069091095985306,
          -0.8254338837040947,
          1.3692449360057208,
          -0.15084881790827143,
          -1.2839880340042231,
          0.5112819237867886,
          -0.6754016542734586,
          -0.03654949138622182,
          -0.4110720489761271,
          -0.08485768746989776,
          -0.2642362480300884,
          -1.1456947441389418,
          -0.38980914841539027,
          0.5521195026489626,
          1.098588322868557,
          0.33000899964831815,
          0.1732660312856288,
          -0.4082293793025426,
          -0.1642423353453065,
          0.1976259679968832,
          0.021151222112567276,
          -0.16055338538940137,
          1.5019112588278647,
          0.149657457900275,
          -0.3297951752488342,
          -1.4144527751880467,
          -0.10722828000108683,
          0.0968313539171947,
          -1.8952203631619795,
          0.933781716153249,
          0.4263644789054305,
          -1.7793895051680513,
          -1.2609597959694991,
          0.8334138203094114,
          1.0158218649184192,
          0.19904311572640063,
          -2.418437545012118,
          0.035113235264092296,
          1.062223163127301,
          0.5699378723817654,
          0.2898782775788874,
          0.7226625583124905,
          0.76304141951797,
          -0.5722154093439732,
          -1.2302925699187406,
          0.10258682527502938,
          1.318070088535489,
          -1.6140888228238106,
          -0.9699694254625786,
          1.0112894268175026,
          -0.5599777979001898,
          0.4247156114775834,
          -0.962345384201382,
          1.4367144484765697,
          0.20116454402120648,
          -0.6393630496355055,
          1.3379604060278234,
          1.533356402876582,
          -0.3463303548780561,
          0.9069999166482351,
          -0.4042298764863386,
          1.420396857397777,
          0.3880803655675133,
          -0.8414395492450064,
          -0.9163879783014787,
          -0.8745690551396478,
          0.07286933666543847,
          -0.5588719607516923,
          -1.402619606542614,
          0.9787266531840939,
          -0.21677432719876685,
          0.9455338758139137,
          -0.31247918399853575,
          -1.3321635866743609,
          -1.2621754679786508,
          1.945982510010357,
          0.2182492556006418,
          -0.20000788027770297,
          0.00901024663866395,
          0.987433285818863,
          0.5460500137872034,
          0.7335059205509138,
          1.36643007390773,
          -0.3103695541629125,
          0.039897009447241644,
          1.496216985606802,
          3.139917544032983,
          -0.6450286007122806,
          0.7741301668534573,
          0.4029773397083111,
          -0.4356092562074837,
          -2.9516900987184806,
          0.20177040702432178,
          1.3306078638975973,
          0.4714046285944042,
          0.28580471273382957,
          1.5339188537600306,
          -0.13076800799766508,
          0.858338634459272,
          0.4662157544720696,
          2.155188793389193,
          -0.2746480800449962,
          -2.3777898589244404,
          1.0681747410476639,
          0.7425058674375626,
          1.3268130957112507,
          -0.5074575203148827,
          0.484562527931493,
          0.5987394520079474,
          0.9544898510026372,
          0.14243165562790802,
          1.2324326509208137,
          -1.4282648450471311,
          0.3820493491665542,
          0.04529392534558091,
          1.165489928503596,
          0.07508736815516555,
          0.43183679095102034,
          0.934720559656539,
          -1.643413059380622,
          -0.6107938883243482,
          -1.5616157688340597,
          0.169756252992071,
          0.7898842721206191,
          -0.6883472785586648,
          -0.313883708605591,
          -1.0058012021836835,
          0.9904238226637868,
          0.7971540350832514,
          1.8477529786586953,
          0.9619017842695118,
          0.7086577365171388,
          -0.40615219443416256
         ]
        },
        {
         "mode": "markers",
         "type": "scatter",
         "x": [
          0.5574143420101729,
          0.02229348527102842,
          1.1117818197674565,
          0.668655421158473,
          0.9538348676349568,
          1.0942164250784907,
          0.3989990737043631,
          0.09315349076624811,
          0.055381267726876265,
          0.26451355269813587,
          0.4049263424042075,
          0.8717811966670255,
          0.5446634103667071,
          2.8785938195030463,
          0.4155002913437546,
          1.3220702476032637,
          0.4479012619742435,
          0.1675483491724326,
          0.035152612781713534,
          0.6490675688472141,
          0.00022648000297558098,
          2.1606247752739804,
          0.04396337732433864,
          1.18357446899072,
          0.6583033695222287,
          0.7216549411125082,
          0.7209692323147902,
          0.013294542480884216,
          0.14471676038700293,
          0.11831605951635922,
          0.6577422459488547,
          1.8310232634341248,
          0.03625064453780956,
          1.3147538797991893,
          3.3866667773722288,
          2.6664514578952274,
          2.7582715962205033,
          0.40037473883331537,
          5.694556831920171,
          0.12246590349466614,
          5.590407412116234,
          1.2409831500870359,
          0.21642616535662976,
          0.06764692416280471,
          0.3929082075696833,
          0.8286703467689499,
          0.3429293940304668,
          0.17851172141262095,
          0.5239585875599595,
          0.009494506107468464,
          0.2960594949854355,
          4.16271740927169,
          0.007920944669595194,
          3.9427563994394546,
          0.6584030933752516,
          0.002199929375877978,
          1.6534188840184398,
          12.214042540757749,
          0.6470877059675415,
          2.7482007060137463,
          4.804736364005545,
          0.42331746208770754,
          1.233491737171015,
          0.017589092258313798,
          0.497453197527783,
          0.7328697114437983,
          0.5498555588113854,
          0.005297498581479545,
          0.24530847841699957,
          0.20033918768228942,
          3.572217917623728,
          0.12979810802818897,
          0.2169587505402007,
          0.5721725453729586,
          0.0021427178850235242,
          2.5377816828529602,
          4.7425885842811155,
          0.8199676923059259,
          1.1585178221012735,
          1.8949447972078373,
          0.015177025169011444,
          0.817803544620256,
          0.018026362951752826,
          3.2553086447766657,
          1.4001113153846994,
          0.22534143590052164,
          0.43076531944508156,
          0.07751320352491418,
          1.735089145519364,
          0.15400044455184328,
          0.0009069164545213593,
          0.008121872106813248,
          1.0899297257229514,
          0.4776816597538917,
          0.6028383404597932,
          3.425176593783949,
          1.5894847520976096,
          1.1148819532756062,
          0.01711677299436643,
          0.056521368296225734,
          0.8117109746305834,
          0.6603549146033513,
          5.238496743202537,
          5.824670117989399,
          0.8961642886333133,
          7.633447401405408,
          1.0111377113240299,
          0.0685653745329855,
          0.0008776732086933265,
          0.065765753352615,
          2.8914010709903675,
          9.319587858338991,
          1.5048722797062764,
          0.7820642850150801,
          0.8623971964818751,
          0.8022997861875542,
          0.19081503321585316,
          0.09454346552222673,
          5.786324285271297,
          0.5889817406664204,
          0.3241634385222793,
          0.21497382567549828,
          0.25631712954683256,
          0.09200214591917567,
          0.010388578972926853,
          3.211173411516889,
          0.8502149794717397,
          0.033281549589245965,
          1.2510988777556578,
          0.11419799565182207,
          0.25874805776994986,
          0.05361164670676979,
          0.47574667216305855,
          0.11993218228491923,
          0.0024422061185064253,
          0.02526497005535156,
          0.04534066966692547,
          0.8930212823703241,
          0.12475066754010437,
          0.1015437215532361,
          0.17563215049492564,
          0.36855316193063525,
          1.808267108209802,
          0.03834335127927308,
          0.42626637929449035,
          0.41266469508201664,
          0.0017255441714752876,
          1.0167685786195315,
          0.060986342154344106,
          1.9449154348377538,
          2.3647764806722322,
          0.21659595827634495,
          2.029521373978332,
          0.030514818948526094,
          0.1373467415745298,
          0.26717080653437275,
          2.4739617497789337,
          1.2491289244618053,
          0.7597187281888409,
          0.3581942588150298,
          0.9356348286461489,
          1.9975363522425766,
          0.47427650984779846,
          2.3574280649987167,
          0.04374339470547551,
          3.323183559036069,
          0.03403499097856004,
          0.3474723466300134,
          1.365068823281063,
          2.7692262761373003,
          0.6934920002742502,
          2.3602864130177554,
          0.3366190992412888,
          3.0137581104252895,
          0.5395514494791128,
          1.6715098270948747,
          1.2431005950849232,
          0.045430861153451955,
          0.5445059460511874,
          0.8226244574319174,
          0.10382815826392493,
          0.011162518888350513,
          0.013010991720249408,
          0.1681824313712676,
          1.0613662337424663,
          0.05873728989137238,
          0.00020061499327348473,
          2.620409762331717,
          1.3649322327896745,
          0.17219654869840792,
          0.7527207566047504,
          2.8221513236695963,
          0.3098389481936398,
          2.8281872479479397,
          1.3546141902559863,
          0.1215023615050273,
          2.566155385873138,
          0.05655779496166725,
          1.6608064311400108,
          0.1421840458669161,
          0.02390821077601246,
          1.1263805392823325,
          0.481806361184431,
          2.425488706723544,
          0.2992025857151091,
          1.0975967629507009,
          2.207001786207351,
          2.2295917668394973,
          0.12269156930234516,
          0.23911802825878672,
          0.26426042342812683,
          0.043808698507900486,
          0.07907056316634485,
          1.0255600096771411,
          1.770071636752177,
          3.401287551884516,
          0.15769178428822625,
          0.40236049009863595,
          4.401433786032784,
          0.000320179951642425,
          0.6037828620625524,
          3.913331837464117,
          0.11924079125684875,
          0.04494125913193324,
          0.03433772404212922,
          0.010118620798606452,
          0.14215915222705233,
          0.5607906015794725,
          0.4615751023532905,
          1.8693463254370821,
          0.14817939172943648,
          0.803155254762028,
          0.004352138093582294,
          0.010118127552047076,
          0.5942847894904391,
          0.07762612099616639,
          2.659598700840329,
          0.0011564765785186326,
          0.07878175710486138,
          0.655129031556454,
          1.0823496494570182,
          0.0264767670292825,
          1.1187557137894073,
          0.0102986990589831,
          0.2881492791222356,
          1.3660808530640605,
          0.34576761473641837,
          1.0266370862512555,
          1.683944979536636,
          0.5839403015786272,
          0.4172781345184348,
          0.0014032247220010466,
          1.0781402122824908,
          0.0626469661685945,
          3.447971138319029,
          0.03943640216765928,
          0.8868401526125941,
          1.0059322407351863,
          0.13080678411683094,
          0.07099398390927669,
          0.28113323148657166,
          1.41146779920492,
          0.03393849222904577,
          0.17860548996244635,
          0.6222294474246082,
          1.2265725231010154,
          0.8426931733785387,
          1.8047885088312932,
          0.3892577895294595,
          1.362291952944378,
          0.4082681797155238,
          4.533503260568115,
          0.9143783310530921,
          2.9709340309236274,
          2.018560551102603,
          3.5147029061896977,
          7.952986359794771,
          0.004807389864378173,
          1.538868823791178,
          0.6236019004834762,
          1.425109263779252,
          0.20916618530496592,
          0.504197901633741,
          1.0907763708829314,
          1.6319859768710538,
          3.529970684630905,
          1.9803204458425667,
          0.5165860769389367,
          0.12847105305352918,
          1.1091603160847534,
          0.6575071665377794,
          0.04926897721016359,
          0.3656505414871123,
          0.07249018911974585,
          1.481829841396093,
          0.8898177374524631,
          0.11230296299604127,
          1.3973190573593097,
          0.22931641646203513,
          0.42189405552082443,
          2.357651661457295,
          7.671510672183401,
          0.22474847385957483,
          0.00547234362110526,
          1.64243967763875,
          0.2459705504593294,
          0.2912982071425073,
          0.0013303395574430588,
          1.2410476550835023,
          2.104994024449999,
          0.056191991498188924,
          0.2061032959027428,
          0.21995906296389753,
          2.069923123787577,
          2.000139151792221,
          0.17839600920679913,
          0.014756949792206993,
          0.6457750745255122,
          0.003991389794006743,
          3.1902670626142116,
          0.5483361950398462,
          0.5530739028983785,
          0.16584590174727462,
          1.1726162531357192,
          0.00859210175432785,
          0.4220254603645729,
          2.9564237144466685,
          0.004126710744012849,
          0.43959701877192336,
          0.09788056778766878,
          0.06926366376049399,
          0.2524689720705045,
          1.3076730654312285,
          0.013013976082665909,
          0.029917988866811143,
          1.9319055896797912,
          4.099348862740202,
          0.2779244994396051,
          1.0676379494762394,
          2.806249504891035,
          0.13671718469944869,
          0.8868785168805802,
          0.7721656505153808,
          1.1776922982262954,
          0.2941290689522731,
          0.5593212424449635,
          0.01050016808368514,
          0.7918979578255261,
          0.33906218425953066,
          0.9755998764946555,
          2.0350712870368945,
          1.1506762953549818,
          1.4314131123915212,
          0.01787910858352159,
          0.6639014638078438,
          0.0015389773849345516,
          0.4618278861554773,
          0.0013468800116290497,
          0.2279530206381638,
          0.2734881890509341,
          0.34021688542314044,
          0.1596081732550405,
          1.7696696996473347,
          1.6125861632455267,
          0.3785379863768427,
          0.03996493339998608,
          0.9480727772406816,
          0.1921822883981289,
          0.5377316815805198,
          0.36078274741602745,
          0.32813435351964576,
          1.6677239466556748,
          7.306926134917472,
          2.8975499848652122e-06,
          0.7982230148518125,
          0.08287856807995941,
          0.06217043926618378,
          0.15988305476124204,
          0.03926356956588314,
          1.1293932159872009,
          2.594024595008181,
          0.9779510372752396,
          1.123282620293843,
          0.49927072200847533,
          3.4659097288112495,
          1.5995029695322447,
          0.7138302719143457,
          0.3987900028058184,
          1.3294694279913366,
          0.21878502315620807,
          1.441246770687957,
          0.3883556459578205,
          0.06870160312245195,
          2.164923215299332,
          0.0989588485932603,
          0.0010681158621670445,
          1.7367536128893184,
          0.651751965735902,
          0.9465176990149947,
          0.3705601858434436,
          0.3683758559572166,
          2.994813182650825,
          0.45704623668516664,
          0.07554831639204182,
          0.0632631792463866,
          0.03164983834208734,
          6.150924270610055,
          0.22247714517503625,
          0.06215178689951034,
          0.5678330248376439,
          1.9763940386057912,
          0.29138939996661084,
          0.14425106916423794,
          1.853644999224705,
          0.6384965076803398,
          1.12915645009766,
          0.35310579969413863,
          0.15239353847075696,
          0.00078133095853776,
          0.8391963131057343,
          0.19849241062983533,
          0.49474752354690527,
          1.2685391961361885,
          0.954342287834153,
          5.123329924401169,
          0.3440445922704737,
          0.03016465181027308,
          0.6520946177170573,
          0.561920161126698,
          0.1712899832153222,
          3.2609635675490405,
          3.1397912128501555,
          0.43008014171305897,
          1.001944737373594,
          0.002443843858396613,
          0.05495373170673248,
          0.006800298331131297,
          1.3598343836336726,
          4.139424082531347e-05,
          0.7140180456610359,
          4.5504935380305085,
          0.17848877210390107,
          0.4089031063141835,
          0.1445226643768034,
          0.9452701654238901,
          0.4086648830987055,
          0.3412771342043561,
          0.23647012198086836,
          0.6961131326932312,
          0.08606691102238959,
          0.10566615418120899,
          0.029108535572502293,
          1.2574008522242837,
          0.13283545524247897,
          0.07180670161448001,
          1.9369071456386466,
          0.4093643781627991,
          2.0217164886203607,
          0.11372455444406047,
          0.5709760451668859,
          0.07030736116267565,
          1.3589887141717627,
          2.755506042643159,
          0.8793247821755015,
          2.189389630853281,
          2.1464353814450443,
          6.2993317312907715,
          0.0673370683088399,
          0.6079890896365788,
          0.307916796492545,
          6.257781599853301,
          0.1483747039513423,
          1.1061023525085214,
          0.19864192306485046,
          1.6811689988657874,
          2.584780859925859,
          0.08589231049321877,
          1.8981144105670813,
          1.353087056118129,
          0.298309318054003,
          0.07746840527447703,
          1.2913575368850283,
          0.05636652047036962,
          0.01367994913779283,
          0.8853787732176879,
          0.49068319764263946,
          0.48607357573373833,
          0.16267439846653559,
          0.35326604796429806,
          0.6842743528031253,
          0.21021152127102344,
          4.8965921991517325,
          0.004521770306732734,
          0.8026437684668696,
          0.12945073293928314,
          1.2834404455812403,
          0.8321237686860783,
          1.0530934844493018,
          0.036946491525917724,
          2.3344520137474816,
          1.174655927293743,
          6.73133102858185,
          1.4483924373547667,
          0.045575630609139314,
          0.5443620026550763,
          0.03200587084162257,
          0.5606306398508492,
          3.391100589387599,
          0.4156493350400399,
          0.04965072514040179,
          1.1031123764589552,
          0.004145480394284428,
          0.18081567848020272,
          0.0001319762520144954,
          1.1549111972206798,
          2.7286816987988356,
          1.4628560953758556,
          0.908273193233104,
          0.17577426432273138,
          0.22448913556519146,
          0.0027761568228663776,
          0.0532998326247746,
          1.4115126405495668,
          0.173511890036069,
          0.02580923658584602,
          0.1309246302145377,
          0.18273833780441087,
          0.9415559703524816,
          0.04526268714131911,
          0.3884131922815949,
          0.06312680785257403,
          1.0238960757492517,
          2.71843956878656,
          0.05964468972026439,
          0.5383658035333229,
          0.375069503732211,
          0.040476612798824724,
          0.40146925382882326,
          3.0295124766532378,
          0.15793524345061624,
          2.0809175216649076,
          6.05501763676238,
          0.03172121496954106,
          1.7017821528984203,
          0.08186010487102158,
          1.2992057112660387,
          5.4250548079412635,
          0.020003970658214094,
          4.6967597168419e-05,
          0.7747633791423173,
          0.06233698258548651,
          0.37581885495319745,
          0.4097344753648149,
          0.025762555389730005,
          2.3479707080939356,
          0.5130159224622798,
          1.410763883659635,
          0.31244818528118984,
          7.636783263480702e-06,
          0.9899160296510195,
          0.44552756107184277,
          0.3759416099112973,
          0.3464849521824817,
          2.504404175619852,
          0.4525527937679099,
          2.722725134502513,
          0.08785652697123225,
          1.2687319524143947,
          2.985654705620297,
          0.03720125094108022,
          2.3648095412084618,
          0.013287883432982562,
          0.309391000563778,
          0.8457985879820085,
          0.055261931098909554,
          1.2000587765411428,
          0.7348195199274119,
          0.48678654894169304,
          0.07105250415941425,
          4.106954279624755,
          0.03915898414214946,
          0.0034013112749969733,
          0.4641394687543947,
          0.6811028420231952,
          0.6732279007658516,
          0.1627522145593765,
          0.5906608884113813,
          0.7348201580467881,
          0.0632914194872248,
          0.11104343440519336,
          0.44718683387846503,
          1.0554696478969965e-05,
          0.24091084127931084,
          0.0031205335276426865,
          2.364534540142042,
          0.7873850732045432,
          1.7694279340876617,
          0.40115794694484547,
          0.20882281311842837,
          0.8361535097385882,
          1.0361144307965773,
          3.7759238901433223,
          0.1861007317452735,
          1.085119663594697,
          0.30341187201781566,
          0.47716932383896493,
          0.040767861167520014,
          1.5723658179572177,
          7.143223981120646,
          2.4582399641916313,
          0.36412457421324296,
          0.08465613750391841,
          0.015304186022191878,
          0.5662450464559008,
          0.19091143499834656,
          0.1549868375325857,
          0.0990357040030666,
          0.03516806486014012,
          0.009150587270827558,
          0.012552548250246412,
          0.13786033897317768,
          0.20979897623014768,
          0.30099509492270443,
          1.031573234009165,
          0.0018194103312818254,
          0.15697333237388944,
          0.017816971892306674,
          0.008158214137678756,
          0.9703481612447219,
          0.017336967317026455,
          0.24116831879453318,
          0.04405923276665002,
          0.272932654559265,
          0.005418691638910901,
          4.0472180237968844,
          2.5973284801873073,
          3.3969604463599192,
          0.0046449488736894,
          0.10418549168741167,
          0.2086293814518245,
          1.8090607039736852,
          3.6062355977387446,
          0.47730150901846324,
          1.8090940017095967,
          0.004925126678835526,
          1.3707113535893014,
          0.1115302196658834,
          0.6511958795052362,
          0.15751742826961143,
          1.9214786955624317,
          0.13605296496163163,
          0.30461170526768605,
          1.6401391538642829,
          0.10360930943807796,
          0.7066182780639798,
          0.2823583959275914,
          0.031664838935658524,
          0.25032577640737397,
          0.48693223397871066,
          0.8492535758112567,
          0.10893273281132897,
          0.7164156546064707,
          0.49714513355446327,
          0.18682732209946515,
          0.608304409615979,
          0.0012312626106767935,
          0.841933874151342,
          0.9365915711289949,
          1.2920754701530528,
          0.344465244441278,
          0.0968534864184427,
          1.5828945298917658,
          1.0999583322179363,
          1.7875608508839214,
          0.27280625561776284,
          0.0051367728648146664,
          0.2324099810117611,
          0.5484926431216084,
          0.08870863625654822,
          0.28746302522396533,
          1.6985781203056023,
          0.048130759735220435,
          0.026426616772689832,
          2.362199987109099,
          0.07993034465011277,
          0.34815372906204944,
          4.503959579692545,
          0.10876500911184897,
          1.1041661009317154,
          0.7656621718038739,
          2.14034828899798,
          0.14573471165039267,
          0.20146305648682936,
          0.33920157863093625,
          2.195724973106757,
          0.2848624952140566,
          2.506277751830843,
          0.09811496764244028,
          2.173918866765093,
          0.02266932774879221,
          0.9661219791423914,
          0.007407533889600936,
          0.04114218355297465,
          2.2389856136360273,
          0.2869116303832726,
          0.012826018510206939,
          0.005986711733467374,
          0.05389632494733047,
          1.2139640775455809,
          0.16126084363009258,
          4.912713026627148e-06,
          0.3504289075139576,
          1.0741294047913907,
          0.017356883787568802,
          0.07027472222040285,
          0.5573460971925617,
          0.10839472309485312,
          2.3894819016286917,
          0.9670031076238643,
          0.09749278606732056,
          2.5127421538958705,
          0.039627375908282525,
          0.3197422451424927,
          0.0021850603391228196,
          2.8161544309481403,
          0.007978158622385585,
          5.938362447616338,
          0.7165349753618789,
          0.21903438049509266,
          0.7503130028686452,
          1.9592491941269168,
          0.6707841400988124,
          3.8711559042433676,
          0.8209140259006351,
          0.006342507555877397,
          0.3488706565368747,
          2.386229352939894,
          0.1125121176378345,
          0.0008146980548669821,
          0.16492566584584806,
          0.10571644129644078,
          1.4355820936529946,
          1.0910080934299444,
          0.4039452691275117,
          5.022277013398615,
          0.33679527431794193,
          3.753937619695841,
          0.2740342317417137,
          0.9810333569856574,
          0.016109950832609406,
          3.0787800096468465,
          1.516291492275835,
          0.6108923196747773,
          0.3653634037814778,
          6.096020400306661e-05,
          0.0005826822388078172,
          0.5384836966672221,
          1.9810293276392466,
          2.4839008202174915,
          3.3041681935658036,
          0.9041540648487265,
          1.5908064678207081,
          0.05301353236313882,
          0.3705524146741116,
          0.03180062448902079,
          1.4284850094263895,
          0.4038107285696684,
          3.7142901260373686,
          0.004259841121661829,
          1.1021299063396464,
          0.8031257423948716,
          0.02929965435261713,
          0.49519004403871464,
          0.4259721456696751,
          0.001490381879901246,
          0.03889523075808097,
          0.2853610058837669,
          1.6063795551816995,
          3.91767901654851,
          0.6374258089614193,
          1.4288217699295835,
          0.8040276034478484,
          0.2721888588867391,
          0.00010472817494793242,
          0.05752484611347211,
          0.16506546955936452,
          0.25620313434581493,
          0.9049316389034591,
          0.7932270827676082,
          0.008264245309300384,
          0.07912923931759579,
          2.4014629893891133,
          0.28602204516987034,
          0.11246619271829052,
          0.4829073815165907,
          1.9346205659846392,
          1.5387452227418164,
          0.13796203537857296,
          0.3892550065769166,
          0.31125154759276585,
          0.36776370987266715,
          1.7462345427608414,
          3.5298391409740906,
          2.010198561476151,
          0.27694385866117105,
          2.1843798753512678,
          0.27203161947565013,
          1.0208563693806225,
          1.966704176904903,
          4.792951386145822,
          0.1576781855712125,
          2.931363733041848,
          0.09571055862432702,
          3.602681872278557e-06,
          1.7654856007038207,
          1.505722679025575,
          0.310838821203418,
          0.4380789598581745,
          0.2398860725064742,
          0.24052526880373187,
          0.011555928761426356,
          0.013361309208820567,
          0.37413928787490613,
          0.059144700305310396,
          1.1111800064028372,
          0.05081378000478028,
          2.948794148499762,
          0.12014238241037109,
          0.07373341718654035,
          0.0040998646339434,
          0.29277969933280634,
          0.5394796454903928,
          0.3171917376582822,
          0.2651487981618539,
          0.6094696147817885,
          3.6603673782975683,
          0.3783281951154272,
          1.4696976851969956,
          0.0003741325622152548,
          1.45057987337429,
          5.339429172298717,
          0.8325319681636472,
          0.0867650652114923,
          1.5752409408731165,
          2.4454575849486715,
          0.12680296970564645,
          0.7034843964223614,
          4.532398493416639e-06,
          0.04412071534490324,
          6.242363158714309,
          9.249669401355602e-06,
          0.06545777812435727,
          1.832520597967085,
          0.2332194907658158,
          0.1166638805381694,
          0.727191027678106,
          7.5299749430989715,
          0.11604646086907577,
          0.3250873071130862,
          0.006897142103475835,
          0.20136883769491262,
          0.34847436720203767,
          1.013116579294522,
          0.0025034545730688654,
          0.3189238462519774,
          0.3820426256862198,
          4.125624997224228,
          0.5987934097121345,
          1.9998320072766282,
          0.00032407739699452887,
          2.181647188812778,
          0.8468787564906273,
          5.526490211738211,
          1.242874518138305,
          0.047774283266715116,
          4.401316768729833,
          5.005214963558635,
          0.09524520264023263,
          0.4034257298737407,
          0.4529901678368065,
          0.0972356780817913,
          0.011219146572198411,
          0.9392589081533492,
          1.4964926363823896,
          0.7049447896854113,
          2.5819756477612157,
          0.025828861854885705,
          0.1942072792086037,
          0.3155461109431821,
          0.053450779129575625,
          4.985871848124592,
          0.00025298214082208756,
          0.7943535196149344,
          1.7928833804224011,
          0.24796613013065202,
          6.201256547759425,
          0.10253476577602777,
          5.017645271746518,
          0.6082955037909783,
          0.212932274859864,
          1.0541728418459473,
          0.14215732322000793,
          0.8446704339655472,
          0.7631638059437013,
          0.5074166326163825,
          1.2407851043496638,
          1.8712205393627928,
          0.2280264600807538,
          2.0392997447589893,
          0.07242012963162582,
          0.21130870964469245,
          4.433365619609902,
          0.5456129068650136,
          0.27220624653307224,
          0.7920169938390998,
          2.7622494155328265,
          0.060212043160664745,
          0.004377326487324451,
          0.021614027248889302,
          0.0008438809634912085,
          0.2143925954853858,
          0.33107580961420136,
          1.046343673658227,
          0.2872258592012023,
          0.1924698114431267,
          0.4896105660944359,
          0.6062895382637394,
          0.6648368741568383,
          0.10007185477437922,
          0.0005903844695922902,
          2.2788655822216257,
          0.5752252280603122,
          2.218173048986543,
          0.978110576522994,
          6.169036399047973,
          0.15139546339659368,
          0.48656896137287853,
          0.7107055601962969,
          0.2766393278900836,
          0.4795202375546871,
          0.713634350108334,
          0.014031915447889058,
          0.16064485280109878,
          2.15500997585164,
          0.13628184089655837,
          0.1761136707699977,
          1.6733533933503506,
          0.4367150902305588,
          0.011992954631675693,
          0.7175938891346675,
          0.540906380282688,
          7.534310108227884,
          3.249762653930348,
          0.1798933124319837,
          1.518626004942749,
          2.122791628288481,
          0.7900509005940695,
          5.495419339256729,
          2.272335198213965,
          2.9329882060291594,
          6.201344093342899,
          0.6278675553900974,
          0.9757859543086376,
          0.6122488546858549,
          2.9977890102247247,
          1.993861658314844,
          1.4953616117022857,
          2.3066218990479634,
          0.38890882882980227,
          0.8847820896195946,
          0.8790407200848765,
          0.5696661852370009,
          0.022323954351215133,
          1.7986322840648998,
          2.1671171484447407,
          1.3051910037319323,
          0.29790148001445066,
          0.08314216500299398,
          0.42127580305075835,
          0.6684866083585492,
          2.8796203023110127,
          0.370349168686398,
          0.0019509576363957615,
          1.5813995499955134,
          0.001306506380136637,
          0.8940110867237544,
          5.919893718186761,
          0.4826664740202751,
          0.005651325730963846,
          0.22545070697332992,
          0.02995160810168058,
          0.013364373954051023,
          0.11456719891281293,
          0.010845850139171498,
          1.2543523882530239,
          0.08802187279507044,
          0.024275872290683606,
          1.4461074158772564,
          0.9527431065063012,
          0.99634362465191
         ],
         "y": [
          0.5773238597242994,
          2.0661904235130617,
          0.17394469602397308,
          2.4310827690786896,
          0.6218320300691373,
          0.3173893621001134,
          1.9011034884632516,
          0.7764322353499449,
          0.5387371351296862,
          2.9355660689053753,
          0.02641587757994091,
          2.059259363409914,
          0.5311762692247746,
          1.5676680689001128,
          0.25658064050871665,
          0.13940579311331533,
          1.2134895343646415,
          0.03166387569525928,
          0.9548310893301388,
          1.2763719125514947,
          0.23923056419756905,
          0.672286283568112,
          0.23872059884043853,
          0.03382300015139299,
          0.14793969800311985,
          0.07259259958965558,
          3.306628222751364,
          0.0013008446055165779,
          1.1166963319824506,
          0.33598362737698273,
          3.9158617259594757,
          1.1259796513976987,
          3.671450246763535,
          2.987560848004778,
          0.2651290362516187,
          0.49571824434579437,
          0.47075295955721175,
          0.9935727137386186,
          0.04234626124096202,
          0.18832743138186217,
          2.056534831187467,
          5.1789824210823,
          2.7062312141248817,
          1.2501144576765684,
          0.2193863612978547,
          0.4490483569202579,
          1.1793726760227357,
          3.7304935134076205,
          4.130051837599064,
          0.037323566760067435,
          0.01887023646339203,
          0.16058550420336395,
          0.014459306311551382,
          0.31008905714834106,
          0.2637536017417522,
          3.5935599312188833,
          0.06217751450746771,
          0.8537301967002733,
          2.800143440708876,
          0.32325034190249846,
          1.8817651874727666,
          0.33434421987648066,
          0.07992753080597244,
          0.5496667230732925,
          0.1354293947567098,
          0.940106463581284,
          4.254405513778459,
          0.8577718576275615,
          0.9242919743140152,
          0.8917562763570916,
          0.2356782107822763,
          0.2710838645319957,
          0.49987226089493797,
          1.2748872943690508,
          1.2057748869813139,
          0.09938267560205243,
          0.11069488321106619,
          0.02976805465958158,
          0.18118206535595377,
          0.04845759196163951,
          0.1466035862847909,
          2.529731175068755,
          0.08022902280747327,
          1.4843987853697638,
          1.5819983477411645,
          0.37680489393596667,
          0.40249116673627233,
          0.38888322029335376,
          0.10636436984153097,
          0.18623248106506504,
          0.035919983222420314,
          2.294244428469766,
          0.08076514422692725,
          0.0528662293512141,
          4.077787035908788e-06,
          6.134859824322077,
          0.3492084302452653,
          0.0005256349902320408,
          0.06114889528428358,
          0.9542574383098508,
          0.046557047488714295,
          1.1688953616777642,
          1.432923511814695,
          0.5910611244918649,
          1.6184841080815318,
          1.614036980535449,
          0.8538475871386049,
          0.6705481110868999,
          1.3915374497335318,
          0.09924871052287641,
          0.45908018247860516,
          0.49445086459926835,
          2.118222296099258,
          1.097487298593175,
          0.03587913106793888,
          3.827620481315301,
          0.047256162770278456,
          3.4491810950593043,
          1.4971362702914772,
          0.3863559698390339,
          0.002469102076978344,
          0.3568715190206887,
          0.22241840312968858,
          0.116867800175637,
          0.5899013298221386,
          0.406266333336289,
          2.040621718745196,
          0.48917967748428876,
          0.12805016955893853,
          0.33782791158151076,
          0.774244389982778,
          0.005531995816390166,
          1.4062281552888405,
          0.1079099634778882,
          0.00011690244848372246,
          5.614045439511574,
          1.1117090446892715,
          1.540112614480029,
          3.349319321830258,
          0.2906840696371947,
          0.14488495042098024,
          0.0745666046110735,
          2.9772910721190176,
          0.42609963968955433,
          0.7443392988028613,
          1.2888515379460481,
          0.2216231179332121,
          0.5935114697712622,
          0.44870779980045683,
          3.201066509189688,
          1.5966069227026025,
          0.32965774278679816,
          1.6757176654009216,
          0.01150583764557535,
          1.1498960932594584,
          0.0002543501259097725,
          0.1874445736825145,
          0.535418524105368,
          2.359220311070138,
          0.5829489527008613,
          0.1880967485095201,
          1.6044615217047458,
          0.22952068860480615,
          0.1781034599828741,
          0.07477569074151826,
          0.6344119251820924,
          2.448900784568646,
          0.7128045581633735,
          0.6277936428968507,
          0.6343492968427619,
          0.00047836360311190323,
          0.2861149746678976,
          0.5580994321394911,
          0.5517504911263403,
          1.592667066475312,
          0.6391317181191607,
          0.44382031074353595,
          0.007073383202710096,
          0.21443373415921427,
          0.5085381064308913,
          0.01215199848098722,
          2.5256207272580253,
          0.38332422755517087,
          0.00029883531189963037,
          0.008732837831208644,
          1.7373279665694776,
          1.256919584576868,
          0.35190559982918707,
          0.4771867757409191,
          0.002754596207039894,
          0.0047113665134225335,
          0.06655236974079591,
          7.088547752898516,
          0.2724036742914969,
          0.830535565266997,
          0.17685259423083305,
          4.664532851866499,
          0.33590414855284345,
          0.32351724012487615,
          0.7171940517242593,
          0.22891263812173085,
          0.4245003140939242,
          0.4642564285252706,
          4.487021397170376,
          1.7914878967981342,
          0.013382188264589544,
          0.1349708784613853,
          1.692375603444917,
          2.0516494342112472,
          0.014322886888790978,
          0.3184553963478585,
          1.0549316927592836,
          0.35595746958885033,
          0.017146678632141348,
          5.573893960116374,
          0.23827289425828804,
          2.5323070568796666,
          0.0010722960455277967,
          0.25251323156369876,
          0.03845042716449358,
          2.2001689866369483,
          0.7909075864540914,
          0.4205812558745735,
          1.2365599219563708,
          0.6795536218427333,
          1.5574646634197076,
          0.031323398327316065,
          0.5470159141244807,
          0.8522465636009141,
          0.02137050331772094,
          4.739951656107386,
          0.14208381088637304,
          4.1374794131876875,
          2.5330668368439504,
          0.6737219517088194,
          0.5262855133308334,
          1.321368055881938,
          1.6550102438892804,
          0.5713483503476299,
          1.05685978314185,
          0.11204081282756743,
          0.22510477045217397,
          0.2640927588524134,
          0.5545176400750763,
          1.946281594402676,
          0.1577640511177967,
          0.15119065453053365,
          0.28329543775763383,
          2.9532226239803623,
          0.01083943361057333,
          1.2485871065578988,
          0.3210784303731686,
          0.09157294155142162,
          0.2003925870494182,
          0.6796733924589554,
          1.144429312703975,
          0.004063382277559937,
          0.41794838498836434,
          1.8070315187204078,
          1.1500504663390974,
          1.6437034104492874,
          0.2474168293254912,
          0.04077623131621226,
          0.26784814411691005,
          0.3093566164940047,
          5.571851971962155,
          1.6588240706625055,
          0.8531241600044254,
          0.09849780509137929,
          7.5939046444574,
          0.13231696307221544,
          0.002734334235617377,
          4.535864502877799,
          2.863104816134486,
          2.8092873110678376,
          0.884247477708385,
          0.10237347584928787,
          3.821756802622187,
          0.023322955912885038,
          0.34551503855975707,
          0.3267786942473014,
          0.33250415415611767,
          2.651380544203224,
          0.025220102196676204,
          1.7345590599034695,
          0.16515269997632065,
          0.4310597207963195,
          0.7246459035819958,
          0.5335551883328207,
          0.005171440252722073,
          2.49167279697928,
          1.7746997566386027,
          0.49081974816845275,
          0.8175294824827664,
          0.07478578361964594,
          0.11518117383721226,
          0.07548017015846174,
          0.3653795862886045,
          0.16970550630019507,
          0.35130355314416034,
          0.7542555159712896,
          6.138395454585044,
          0.03200243701964432,
          3.2278929767027718,
          0.08938469290784049,
          1.3368716519525645,
          0.47638614274726104,
          0.9145754685072249,
          0.4084299332804949,
          0.202225327249433,
          2.160616976679278,
          1.1554012067384374,
          2.0325443889287746,
          0.010997624999023386,
          0.3963383843468094,
          8.429654035392238e-05,
          0.0011747058454310236,
          1.6423513229391211,
          0.00016934179982152874,
          3.4119765771525143,
          0.27889730766354437,
          0.3403344381789971,
          1.159260235017177,
          3.43037201661067,
          5.624874935191664,
          3.3264188272980655,
          0.0013693516382679448,
          0.00048133578543905527,
          0.1460087684974504,
          4.010504287876231,
          0.6263215074819835,
          3.9423424167998316,
          0.2366069364742099,
          0.124956749954284,
          1.7853800950382452,
          0.6567130341237049,
          0.3343772593297542,
          0.4328620191528705,
          1.972831119565269,
          1.4403146721442144,
          3.267148034973357,
          0.4997869897039227,
          0.0193930564750095,
          0.0008036798225862978,
          1.2474753171844015,
          0.8575409617102714,
          0.098311268832031,
          2.2066796965887248,
          0.16197297915254694,
          0.05231659461227234,
          0.18437589557345777,
          0.533017559222974,
          3.8948090470339762,
          2.5102948810814727,
          3.068457160565385,
          0.40971294727011653,
          0.5937825347032086,
          0.017522757062716495,
          0.012378497885228875,
          2.0787017875274802,
          0.6623055254294692,
          0.7061689769621631,
          0.8472133752726921,
          0.7666452319164319,
          0.04562413065627709,
          0.09643915926939177,
          0.060640723627365015,
          0.1102162658211294,
          1.2065432281830752,
          0.047924818681225605,
          0.848937154437453,
          0.24166923913060073,
          0.3766525815370221,
          0.21099778393525995,
          0.0807459895646628,
          0.05584639854609839,
          4.11319590914159,
          0.3638438183717109,
          2.952293009932829,
          0.0920265460014006,
          0.12428996978033238,
          0.7798344845594212,
          3.6951155873428463,
          0.017073504975356306,
          7.568780985952188,
          0.13693730539585003,
          0.2232710846125412,
          1.5583472555019875,
          0.045155419493557544,
          2.8671443773454404,
          1.0778929899621237,
          1.909701447864521,
          3.2615318140101146,
          0.855489612545103,
          0.32468452877858567,
          0.5761379783632226,
          0.012667316210177004,
          0.9213668717550643,
          0.9816741830967672,
          0.9989067720416336,
          0.18174751006937698,
          1.2840780841596304,
          2.9583570326489226,
          4.403870973619343,
          0.059799435661200516,
          1.5033498253379167,
          1.9605561443349786,
          0.348032847329863,
          0.08508136143442398,
          2.119393241420992,
          0.03412932286208091,
          0.6918634133036201,
          0.0953446678366101,
          0.38158009515881036,
          0.00018639356321344393,
          0.816053929793445,
          2.143849462552015,
          0.005058798077687937,
          0.2853530393670265,
          0.041819114969829096,
          0.011121089119051271,
          0.2591857426252405,
          0.0022794900742306294,
          0.2656608905498098,
          0.25227870363771576,
          1.075636314333158,
          0.6950236055186962,
          2.942155187936315,
          0.8776823372404661,
          2.7902759957187993,
          0.09222759778234232,
          1.8447634799245782,
          0.41302535826354086,
          1.271261092835015,
          0.382370130171847,
          9.831431534987262,
          1.4602205056358528,
          3.7700491110905747,
          1.590522863320015,
          3.101867807401808,
          0.006464569970962792,
          1.0272132048258626,
          2.244241196479914,
          8.736107311328148,
          4.436121566819283,
          0.018644512705836485,
          0.11328040627126738,
          0.5752169595506109,
          1.0270695284337645,
          0.05560992915271346,
          0.14868738056007605,
          0.16103169171044052,
          3.5381266879969258,
          3.0655003126772358,
          0.9497591783367455,
          1.6259052611225009,
          0.6490839788029055,
          0.933085292557677,
          0.4622734844903814,
          0.3785983695917848,
          0.2655244417124954,
          0.012253406065307516,
          0.40868180654622,
          0.10038141290592746,
          0.0076684421662371475,
          1.1506094611770383,
          0.002164812444964794,
          0.7291050850678643,
          0.014434355798414587,
          0.08668825174698506,
          1.2259143350297539,
          0.14808875642489278,
          0.608812507175094,
          0.016140827647310237,
          0.09643393846323149,
          0.34380577574935,
          0.12981953128239718,
          1.007276073374939,
          0.040090521199993144,
          0.29412591205627975,
          0.3757547396533332,
          0.17677869707601312,
          1.438786066251452,
          0.15934650203689374,
          0.5491285457850709,
          0.047210677507164886,
          2.009725594594278,
          1.3800654161208146,
          0.00328462817381492,
          3.4785744742645925,
          0.030047505443387613,
          0.8824865070680065,
          0.2955303890142814,
          0.831925116588455,
          0.0008870005889862663,
          0.8070636980382521,
          1.4032245105621903,
          1.2685618528031668,
          0.7391305733126896,
          0.05573347349530591,
          1.646889611787003,
          1.9670870129716012,
          0.3046640500251161,
          0.0505598947623832,
          0.25642865633580086,
          0.005302172553411848,
          0.09015132131677904,
          0.3090507155049085,
          0.2804532074326836,
          0.6614313303060377,
          1.7050787516622425,
          0.003988886690037675,
          0.26285153178148907,
          3.251857227828473,
          2.6376533863453675,
          3.041351402450469,
          0.5670760482404976,
          2.303796356101619,
          1.2950068146298876,
          0.107309721917706,
          1.4749712686241383,
          0.3248572995865543,
          0.7048636216211167,
          0.04004603468469438,
          0.03498793283836979,
          0.032851396159691904,
          0.09776154579387211,
          0.3829009257668638,
          0.4148585481195272,
          0.544192011075605,
          0.377736445995678,
          2.26287458378714,
          0.14748486480550532,
          0.11405004078225275,
          0.04255608773865858,
          0.02913099409323096,
          4.639458042277835,
          0.31565908556898653,
          4.332679154262933,
          1.5385375895697448,
          0.05169446337549671,
          0.06415850355756617,
          0.7119003933615332,
          0.17780478319968382,
          0.46848202819655593,
          0.8059002040949528,
          3.6048061839172028,
          0.0002666084995295886,
          1.7979696499525302,
          2.7292658590973002,
          0.5957340891617051,
          0.013394955234065437,
          0.19725498708984654,
          0.8394260385986837,
          0.216694454490709,
          3.1013786208833904,
          2.5905438669457,
          0.42948325688515837,
          1.7205946308707722,
          0.04692483676321322,
          0.7574676850126982,
          0.06410360543275219,
          0.06658707086528631,
          3.0249896052701404,
          0.48809631081557153,
          0.06685791403241892,
          0.01630065934559408,
          0.11680925651475642,
          0.5948695101407009,
          0.03730146288964217,
          0.617743417896201,
          0.00012844593258037594,
          0.012915797412069375,
          0.02974847745703401,
          1.3597962552103027,
          1.3293353082894557,
          0.8123174031912029,
          0.6020442709352599,
          0.08106706738610543,
          0.024828533979046025,
          1.7352841017715583,
          0.05158711260758755,
          0.0013407366384820998,
          0.3162201135635511,
          1.2387648943548082,
          1.1090012169352184,
          4.277529358078002,
          0.14137172582814717,
          0.9979355341033812,
          0.567562834754691,
          0.5787216806460135,
          1.813300767485111,
          2.5264170742695056,
          0.022055756905283466,
          0.008305774448520244,
          0.001208839201024153,
          1.719735921361923,
          3.3044432149932366,
          0.3227583019409049,
          1.441607656130374,
          0.6712038779272447,
          0.13319335071654145,
          0.009276258758093344,
          4.097163127346082,
          2.2839387003514124,
          3.618604957621588,
          0.1861053261618584,
          0.091011933234394,
          0.21182487339505665,
          2.1544213958573737,
          2.1222689260967202,
          0.5168244840863949,
          0.6428790461398438,
          2.2615915051977,
          1.9438120609007075,
          2.2770151180442113,
          1.453597926668656,
          0.22163539763161275,
          0.034935408291430145,
          0.20310414873390073,
          2.4141241252010355,
          0.24058774944663136,
          2.9096590489948673,
          0.5894615451255893,
          0.33989592647012484,
          0.06135861739434413,
          1.6353883010631642,
          1.6339512556928066,
          0.37238819412255364,
          0.005792158144282307,
          0.45174984848052785,
          1.6984943081842325,
          1.8450705953179598,
          0.16839645260817485,
          1.1945170600581898,
          0.11512582894193128,
          3.575211027660112,
          0.7774365974306179,
          0.34638048298144536,
          0.004198378229834986,
          0.2833586986112328,
          0.0032454231789588828,
          0.4711955976811076,
          0.8070855378730143,
          0.00010241995402926826,
          0.7879958340224041,
          0.31804808920401184,
          0.20548076782123392,
          0.8739037860458034,
          0.014045090424104968,
          0.01619474507911606,
          1.5355597888675396,
          0.706047425712072,
          0.3023508528619299,
          1.7258751036502742,
          0.008042650815551583,
          0.05439770116282126,
          0.12492130442231152,
          0.05065463805889531,
          0.12005001111357066,
          0.190794015285369,
          0.7902105926689658,
          0.28321275247195393,
          0.08724679557588573,
          1.1554692454845836,
          0.43217118046759634,
          0.2605988299302653,
          0.6424836066230911,
          0.008373004000010913,
          1.6595407947610454,
          0.43881202231991945,
          0.02556099836708847,
          0.029933456167363093,
          0.30218212201382494,
          0.1304005845882321,
          0.7245726699842187,
          1.9736547416263055,
          1.1994173028496997,
          0.7024705825112036,
          0.21235134774760167,
          1.23271236396552,
          0.6358116988272238,
          0.01908291627241058,
          0.04292907833168764,
          1.0391736565406313,
          0.9253395833606468,
          0.500575730252327,
          0.4156485871796116,
          0.17746920144554146,
          0.931488399172202,
          0.32151216657092263,
          0.2558935821264979,
          1.000121851808552,
          3.9259983441653885,
          2.7264882121370184,
          0.5876330548994139,
          0.25242511404474544,
          0.006912415286542369,
          0.1783083990441276,
          0.7205140017010245,
          0.002195155144696748,
          1.997704761805283,
          0.14828249373608582,
          0.056914808853615044,
          1.1925368052537628,
          0.08192837554748243,
          0.015329279714239136,
          0.16995601996597576,
          0.2971550955637018,
          0.8470705874693575,
          0.0215424918473622,
          1.396596915856894,
          0.5530242332238289,
          0.17373997763086826,
          0.4209348481810459,
          0.029107958792833545,
          1.146858407279415,
          5.117896603387663,
          2.9526497999457644,
          0.82258929500853,
          0.8669015602751913,
          0.21138089879919902,
          0.00023060281525557648,
          0.4134457941036954,
          1.851265801267196,
          0.018842233174587584,
          0.14021845175808856,
          1.2489385927630923,
          0.09222141436176241,
          0.12936071622141043,
          0.0003477297183444962,
          0.48142783798012795,
          0.34571464743426966,
          0.15196324490699067,
          0.00015168835918207693,
          0.3741294658978278,
          1.3828483213875842,
          1.8117770593002624,
          2.107467926876019,
          0.24929340526628307,
          3.2118373479982716,
          0.029756966483715206,
          2.3053180286827315,
          0.01401283634700505,
          0.6056702887825787,
          0.30240419506961674,
          0.03201164984951988,
          0.010711936771158849,
          1.899466027920827,
          0.7337543072083621,
          0.24540779302435667,
          3.1959040309493023,
          0.050105442893353884,
          0.0032837723982496263,
          2.4482234985961404,
          5.518522774583798,
          0.13664803592288163,
          0.0926115894103596,
          2.8040442281754427,
          1.9668842849607633,
          0.0718431721575134,
          0.28717444467966396,
          0.12270273391329213,
          0.00951372108268952,
          2.6448164621743833,
          2.8168220318751906,
          2.6542001564120583,
          2.0449249922070933,
          0.21502646961334837,
          2.414126739911644,
          0.32275919664834235,
          1.43349741201281,
          1.5186182380312034,
          0.41307885752300466,
          0.002686601601528667,
          1.778841533535807,
          0.003484840623770653,
          2.5275928739479663,
          0.026032734851920175,
          0.16979497973681024,
          0.07297559700357939,
          0.026716641597963515,
          0.9795948402600785,
          0.0017679865601377804,
          0.03500806143086726,
          0.08982425442990238,
          0.3505975351999194,
          1.9592553924652505,
          0.12759497474103004,
          0.01511640084366855,
          1.453710362607516,
          2.2492455460530403,
          1.0917826254195093,
          3.0745213649001686,
          3.1381715019076264,
          0.12361534058786532,
          0.0070576191018345965,
          2.0396411066087767e-05,
          0.6361820974309477,
          1.7553573617632732,
          5.067332372665335,
          0.09323540953226192,
          0.6812423187650858,
          0.051911676108911384,
          0.7656707546514844,
          0.3772034828942428,
          0.5220415907548673,
          1.3144585053640665,
          0.026218528787350606,
          0.13021583947998802,
          0.7481573132020077,
          0.625899939344653,
          0.09160604039677964,
          0.382562538395319,
          0.3876645091554907,
          0.0122678722943847,
          0.8268945159539847,
          0.5749035878583416,
          0.017946636410238734,
          0.9623959475226669,
          0.11756668224443662,
          2.31662760431251,
          0.114621719036587,
          0.466025474241036,
          0.3352020734174317,
          0.12624736463812267,
          0.5838647205238063,
          0.41226245976524817,
          0.10556970150073668,
          2.135426108356157,
          0.5961616383873128,
          1.1174114811790514,
          0.051489354903896604,
          0.09564797646726873,
          0.5221864090200996,
          0.039302167376123645,
          0.10845108986624685,
          0.07133129681212783,
          3.8932439483200607,
          0.955744119933286,
          0.20591502465764847,
          0.9519768054838981,
          0.0468557302644681,
          0.35408654087767394,
          1.560136200032972,
          0.020667022809600765,
          0.010269159991581994,
          0.18120790844549978,
          2.711608113763746,
          0.6150592204992115,
          0.2821954727393276,
          0.4597018632229858,
          0.015452440413886083,
          0.4011874130387783,
          1.521737685462838,
          1.719775192370118,
          0.20224181486676085,
          0.5074800416550548,
          0.005779740096284012,
          0.0232669779489526,
          0.43735168226356547,
          0.6387063171539541,
          0.9498275675690656,
          1.6016497093842788,
          5.605289202860545,
          0.9916856081750878,
          0.1538512337305485,
          1.1429557715150627,
          0.6813410963668248,
          1.8748316947773105,
          0.02275536586432283,
          1.64862527146603,
          0.2614092055911195,
          0.4561673945953244,
          0.001335865320591503,
          0.16898022944943142,
          0.007200827122738843,
          0.06982079477301839,
          1.3126164467475954,
          0.15195117218833176,
          0.3048359452053378,
          1.2068963031431486,
          0.10890593984888365,
          0.030021117597472502,
          0.1666512261257392,
          0.026975544719680115,
          0.0390560232267051,
          0.0004473741968551549,
          0.02577738955999764,
          2.255737429393901,
          0.02239735470517258,
          0.10876485761740928,
          2.000676653237167,
          0.011497904031991479,
          0.009376311101437019,
          3.5918602249438254,
          0.8719482934221069,
          0.1817866688722993,
          3.1662270111022024,
          1.590019607051441,
          0.6945785958827279,
          1.031894061246335,
          0.03961816191807331,
          5.848840159124241,
          0.0012329392907114948,
          1.1283180482841686,
          0.32482917837505354,
          0.08402941581210249,
          0.5222411731867537,
          0.5822322078999986,
          0.3274304746906908,
          1.5136198075972591,
          0.010524056720009407,
          1.7373087582919517,
          2.6052827279647546,
          0.9408406863322047,
          1.0227063047928728,
          0.31357513414114574,
          0.18038335063277758,
          0.9261086384937056,
          2.064148406461334,
          0.04046717377125992,
          0.40878510923921385,
          1.7901380480981381,
          2.351181858242611,
          0.11994471470996027,
          0.8226488487999054,
          0.16340179304416058,
          2.017527232505481,
          0.15060637013901476,
          0.7080205150336396,
          0.8397669267754714,
          0.7648710322078562,
          0.005309940226061016,
          0.3123378685144411,
          1.9673417606577572,
          0.9579058616529377,
          0.04699110893247803,
          0.8940343103116816,
          0.09764324043239075,
          1.7746598216610974,
          1.593086911967126,
          3.7868479292662087,
          0.04763273757023427,
          0.040003152173179964,
          8.118454448955499e-05,
          0.9750244939430365,
          0.298170617557005,
          0.5380309354832434,
          1.8671311468794844,
          0.09632926015128508,
          0.0015917713628332889,
          2.238665268018305,
          9.859082183326121,
          0.41606189573684277,
          0.5992775152325616,
          0.16239073631838757,
          0.1897554240936372,
          8.712474438872714,
          0.04071129715076048,
          1.7705172874661268,
          0.22222232386022814,
          0.08168433382086684,
          2.352907049920486,
          0.0171002719156774,
          0.7367452114054078,
          0.21735712971796106,
          4.6448387351503655,
          0.07543156787240264,
          5.6538846132039104,
          1.1409972774122437,
          0.5513149631792074,
          1.7604329909508725,
          0.2575131349241296,
          0.23480084347535896,
          0.3584889313907772,
          0.9110508756670365,
          0.020286776524906982,
          1.5188902390557042,
          2.0399404675975057,
          0.14596170519858764,
          0.0020515396732110566,
          1.3583667734433174,
          0.005638112856469369,
          0.18648301401887524,
          0.8737025246446335,
          2.7008064837427757,
          0.3730691740143764,
          2.4386438094711913,
          0.028817185429908018,
          0.6239171633435202,
          0.4738219758991201,
          0.09852298252799957,
          1.011636058314143,
          0.9809393484999482,
          0.6354545556495097,
          3.414191070142081,
          0.9252550425808704,
          0.5021957875255946,
          0.1649596050436858
         ]
        }
       ],
       "layout": {
        "template": {
         "data": {
          "bar": [
           {
            "error_x": {
             "color": "#2a3f5f"
            },
            "error_y": {
             "color": "#2a3f5f"
            },
            "marker": {
             "line": {
              "color": "#E5ECF6",
              "width": 0.5
             },
             "pattern": {
              "fillmode": "overlay",
              "size": 10,
              "solidity": 0.2
             }
            },
            "type": "bar"
           }
          ],
          "barpolar": [
           {
            "marker": {
             "line": {
              "color": "#E5ECF6",
              "width": 0.5
             },
             "pattern": {
              "fillmode": "overlay",
              "size": 10,
              "solidity": 0.2
             }
            },
            "type": "barpolar"
           }
          ],
          "carpet": [
           {
            "aaxis": {
             "endlinecolor": "#2a3f5f",
             "gridcolor": "white",
             "linecolor": "white",
             "minorgridcolor": "white",
             "startlinecolor": "#2a3f5f"
            },
            "baxis": {
             "endlinecolor": "#2a3f5f",
             "gridcolor": "white",
             "linecolor": "white",
             "minorgridcolor": "white",
             "startlinecolor": "#2a3f5f"
            },
            "type": "carpet"
           }
          ],
          "choropleth": [
           {
            "colorbar": {
             "outlinewidth": 0,
             "ticks": ""
            },
            "type": "choropleth"
           }
          ],
          "contour": [
           {
            "colorbar": {
             "outlinewidth": 0,
             "ticks": ""
            },
            "colorscale": [
             [
              0,
              "#0d0887"
             ],
             [
              0.1111111111111111,
              "#46039f"
             ],
             [
              0.2222222222222222,
              "#7201a8"
             ],
             [
              0.3333333333333333,
              "#9c179e"
             ],
             [
              0.4444444444444444,
              "#bd3786"
             ],
             [
              0.5555555555555556,
              "#d8576b"
             ],
             [
              0.6666666666666666,
              "#ed7953"
             ],
             [
              0.7777777777777778,
              "#fb9f3a"
             ],
             [
              0.8888888888888888,
              "#fdca26"
             ],
             [
              1,
              "#f0f921"
             ]
            ],
            "type": "contour"
           }
          ],
          "contourcarpet": [
           {
            "colorbar": {
             "outlinewidth": 0,
             "ticks": ""
            },
            "type": "contourcarpet"
           }
          ],
          "heatmap": [
           {
            "colorbar": {
             "outlinewidth": 0,
             "ticks": ""
            },
            "colorscale": [
             [
              0,
              "#0d0887"
             ],
             [
              0.1111111111111111,
              "#46039f"
             ],
             [
              0.2222222222222222,
              "#7201a8"
             ],
             [
              0.3333333333333333,
              "#9c179e"
             ],
             [
              0.4444444444444444,
              "#bd3786"
             ],
             [
              0.5555555555555556,
              "#d8576b"
             ],
             [
              0.6666666666666666,
              "#ed7953"
             ],
             [
              0.7777777777777778,
              "#fb9f3a"
             ],
             [
              0.8888888888888888,
              "#fdca26"
             ],
             [
              1,
              "#f0f921"
             ]
            ],
            "type": "heatmap"
           }
          ],
          "heatmapgl": [
           {
            "colorbar": {
             "outlinewidth": 0,
             "ticks": ""
            },
            "colorscale": [
             [
              0,
              "#0d0887"
             ],
             [
              0.1111111111111111,
              "#46039f"
             ],
             [
              0.2222222222222222,
              "#7201a8"
             ],
             [
              0.3333333333333333,
              "#9c179e"
             ],
             [
              0.4444444444444444,
              "#bd3786"
             ],
             [
              0.5555555555555556,
              "#d8576b"
             ],
             [
              0.6666666666666666,
              "#ed7953"
             ],
             [
              0.7777777777777778,
              "#fb9f3a"
             ],
             [
              0.8888888888888888,
              "#fdca26"
             ],
             [
              1,
              "#f0f921"
             ]
            ],
            "type": "heatmapgl"
           }
          ],
          "histogram": [
           {
            "marker": {
             "pattern": {
              "fillmode": "overlay",
              "size": 10,
              "solidity": 0.2
             }
            },
            "type": "histogram"
           }
          ],
          "histogram2d": [
           {
            "colorbar": {
             "outlinewidth": 0,
             "ticks": ""
            },
            "colorscale": [
             [
              0,
              "#0d0887"
             ],
             [
              0.1111111111111111,
              "#46039f"
             ],
             [
              0.2222222222222222,
              "#7201a8"
             ],
             [
              0.3333333333333333,
              "#9c179e"
             ],
             [
              0.4444444444444444,
              "#bd3786"
             ],
             [
              0.5555555555555556,
              "#d8576b"
             ],
             [
              0.6666666666666666,
              "#ed7953"
             ],
             [
              0.7777777777777778,
              "#fb9f3a"
             ],
             [
              0.8888888888888888,
              "#fdca26"
             ],
             [
              1,
              "#f0f921"
             ]
            ],
            "type": "histogram2d"
           }
          ],
          "histogram2dcontour": [
           {
            "colorbar": {
             "outlinewidth": 0,
             "ticks": ""
            },
            "colorscale": [
             [
              0,
              "#0d0887"
             ],
             [
              0.1111111111111111,
              "#46039f"
             ],
             [
              0.2222222222222222,
              "#7201a8"
             ],
             [
              0.3333333333333333,
              "#9c179e"
             ],
             [
              0.4444444444444444,
              "#bd3786"
             ],
             [
              0.5555555555555556,
              "#d8576b"
             ],
             [
              0.6666666666666666,
              "#ed7953"
             ],
             [
              0.7777777777777778,
              "#fb9f3a"
             ],
             [
              0.8888888888888888,
              "#fdca26"
             ],
             [
              1,
              "#f0f921"
             ]
            ],
            "type": "histogram2dcontour"
           }
          ],
          "mesh3d": [
           {
            "colorbar": {
             "outlinewidth": 0,
             "ticks": ""
            },
            "type": "mesh3d"
           }
          ],
          "parcoords": [
           {
            "line": {
             "colorbar": {
              "outlinewidth": 0,
              "ticks": ""
             }
            },
            "type": "parcoords"
           }
          ],
          "pie": [
           {
            "automargin": true,
            "type": "pie"
           }
          ],
          "scatter": [
           {
            "marker": {
             "colorbar": {
              "outlinewidth": 0,
              "ticks": ""
             }
            },
            "type": "scatter"
           }
          ],
          "scatter3d": [
           {
            "line": {
             "colorbar": {
              "outlinewidth": 0,
              "ticks": ""
             }
            },
            "marker": {
             "colorbar": {
              "outlinewidth": 0,
              "ticks": ""
             }
            },
            "type": "scatter3d"
           }
          ],
          "scattercarpet": [
           {
            "marker": {
             "colorbar": {
              "outlinewidth": 0,
              "ticks": ""
             }
            },
            "type": "scattercarpet"
           }
          ],
          "scattergeo": [
           {
            "marker": {
             "colorbar": {
              "outlinewidth": 0,
              "ticks": ""
             }
            },
            "type": "scattergeo"
           }
          ],
          "scattergl": [
           {
            "marker": {
             "colorbar": {
              "outlinewidth": 0,
              "ticks": ""
             }
            },
            "type": "scattergl"
           }
          ],
          "scattermapbox": [
           {
            "marker": {
             "colorbar": {
              "outlinewidth": 0,
              "ticks": ""
             }
            },
            "type": "scattermapbox"
           }
          ],
          "scatterpolar": [
           {
            "marker": {
             "colorbar": {
              "outlinewidth": 0,
              "ticks": ""
             }
            },
            "type": "scatterpolar"
           }
          ],
          "scatterpolargl": [
           {
            "marker": {
             "colorbar": {
              "outlinewidth": 0,
              "ticks": ""
             }
            },
            "type": "scatterpolargl"
           }
          ],
          "scatterternary": [
           {
            "marker": {
             "colorbar": {
              "outlinewidth": 0,
              "ticks": ""
             }
            },
            "type": "scatterternary"
           }
          ],
          "surface": [
           {
            "colorbar": {
             "outlinewidth": 0,
             "ticks": ""
            },
            "colorscale": [
             [
              0,
              "#0d0887"
             ],
             [
              0.1111111111111111,
              "#46039f"
             ],
             [
              0.2222222222222222,
              "#7201a8"
             ],
             [
              0.3333333333333333,
              "#9c179e"
             ],
             [
              0.4444444444444444,
              "#bd3786"
             ],
             [
              0.5555555555555556,
              "#d8576b"
             ],
             [
              0.6666666666666666,
              "#ed7953"
             ],
             [
              0.7777777777777778,
              "#fb9f3a"
             ],
             [
              0.8888888888888888,
              "#fdca26"
             ],
             [
              1,
              "#f0f921"
             ]
            ],
            "type": "surface"
           }
          ],
          "table": [
           {
            "cells": {
             "fill": {
              "color": "#EBF0F8"
             },
             "line": {
              "color": "white"
             }
            },
            "header": {
             "fill": {
              "color": "#C8D4E3"
             },
             "line": {
              "color": "white"
             }
            },
            "type": "table"
           }
          ]
         },
         "layout": {
          "annotationdefaults": {
           "arrowcolor": "#2a3f5f",
           "arrowhead": 0,
           "arrowwidth": 1
          },
          "autotypenumbers": "strict",
          "coloraxis": {
           "colorbar": {
            "outlinewidth": 0,
            "ticks": ""
           }
          },
          "colorscale": {
           "diverging": [
            [
             0,
             "#8e0152"
            ],
            [
             0.1,
             "#c51b7d"
            ],
            [
             0.2,
             "#de77ae"
            ],
            [
             0.3,
             "#f1b6da"
            ],
            [
             0.4,
             "#fde0ef"
            ],
            [
             0.5,
             "#f7f7f7"
            ],
            [
             0.6,
             "#e6f5d0"
            ],
            [
             0.7,
             "#b8e186"
            ],
            [
             0.8,
             "#7fbc41"
            ],
            [
             0.9,
             "#4d9221"
            ],
            [
             1,
             "#276419"
            ]
           ],
           "sequential": [
            [
             0,
             "#0d0887"
            ],
            [
             0.1111111111111111,
             "#46039f"
            ],
            [
             0.2222222222222222,
             "#7201a8"
            ],
            [
             0.3333333333333333,
             "#9c179e"
            ],
            [
             0.4444444444444444,
             "#bd3786"
            ],
            [
             0.5555555555555556,
             "#d8576b"
            ],
            [
             0.6666666666666666,
             "#ed7953"
            ],
            [
             0.7777777777777778,
             "#fb9f3a"
            ],
            [
             0.8888888888888888,
             "#fdca26"
            ],
            [
             1,
             "#f0f921"
            ]
           ],
           "sequentialminus": [
            [
             0,
             "#0d0887"
            ],
            [
             0.1111111111111111,
             "#46039f"
            ],
            [
             0.2222222222222222,
             "#7201a8"
            ],
            [
             0.3333333333333333,
             "#9c179e"
            ],
            [
             0.4444444444444444,
             "#bd3786"
            ],
            [
             0.5555555555555556,
             "#d8576b"
            ],
            [
             0.6666666666666666,
             "#ed7953"
            ],
            [
             0.7777777777777778,
             "#fb9f3a"
            ],
            [
             0.8888888888888888,
             "#fdca26"
            ],
            [
             1,
             "#f0f921"
            ]
           ]
          },
          "colorway": [
           "#636efa",
           "#EF553B",
           "#00cc96",
           "#ab63fa",
           "#FFA15A",
           "#19d3f3",
           "#FF6692",
           "#B6E880",
           "#FF97FF",
           "#FECB52"
          ],
          "font": {
           "color": "#2a3f5f"
          },
          "geo": {
           "bgcolor": "white",
           "lakecolor": "white",
           "landcolor": "#E5ECF6",
           "showlakes": true,
           "showland": true,
           "subunitcolor": "white"
          },
          "hoverlabel": {
           "align": "left"
          },
          "hovermode": "closest",
          "mapbox": {
           "style": "light"
          },
          "paper_bgcolor": "white",
          "plot_bgcolor": "#E5ECF6",
          "polar": {
           "angularaxis": {
            "gridcolor": "white",
            "linecolor": "white",
            "ticks": ""
           },
           "bgcolor": "#E5ECF6",
           "radialaxis": {
            "gridcolor": "white",
            "linecolor": "white",
            "ticks": ""
           }
          },
          "scene": {
           "xaxis": {
            "backgroundcolor": "#E5ECF6",
            "gridcolor": "white",
            "gridwidth": 2,
            "linecolor": "white",
            "showbackground": true,
            "ticks": "",
            "zerolinecolor": "white"
           },
           "yaxis": {
            "backgroundcolor": "#E5ECF6",
            "gridcolor": "white",
            "gridwidth": 2,
            "linecolor": "white",
            "showbackground": true,
            "ticks": "",
            "zerolinecolor": "white"
           },
           "zaxis": {
            "backgroundcolor": "#E5ECF6",
            "gridcolor": "white",
            "gridwidth": 2,
            "linecolor": "white",
            "showbackground": true,
            "ticks": "",
            "zerolinecolor": "white"
           }
          },
          "shapedefaults": {
           "line": {
            "color": "#2a3f5f"
           }
          },
          "ternary": {
           "aaxis": {
            "gridcolor": "white",
            "linecolor": "white",
            "ticks": ""
           },
           "baxis": {
            "gridcolor": "white",
            "linecolor": "white",
            "ticks": ""
           },
           "bgcolor": "#E5ECF6",
           "caxis": {
            "gridcolor": "white",
            "linecolor": "white",
            "ticks": ""
           }
          },
          "title": {
           "x": 0.05
          },
          "xaxis": {
           "automargin": true,
           "gridcolor": "white",
           "linecolor": "white",
           "ticks": "",
           "title": {
            "standoff": 15
           },
           "zerolinecolor": "white",
           "zerolinewidth": 2
          },
          "yaxis": {
           "automargin": true,
           "gridcolor": "white",
           "linecolor": "white",
           "ticks": "",
           "title": {
            "standoff": 15
           },
           "zerolinecolor": "white",
           "zerolinewidth": 2
          }
         }
        }
       }
      },
      "text/html": [
       "<div>                            <div id=\"be18fdaf-5905-4f8d-bcd9-f4d342574521\" class=\"plotly-graph-div\" style=\"height:525px; width:100%;\"></div>            <script type=\"text/javascript\">                require([\"plotly\"], function(Plotly) {                    window.PLOTLYENV=window.PLOTLYENV || {};                                    if (document.getElementById(\"be18fdaf-5905-4f8d-bcd9-f4d342574521\")) {                    Plotly.newPlot(                        \"be18fdaf-5905-4f8d-bcd9-f4d342574521\",                        [{\"mode\":\"markers\",\"x\":[-0.7466018631172661,-0.14931003071136387,-1.0544106504429176,-0.8177135324540453,-0.9766446987696994,1.0460480032381356,0.6316637346756288,0.30521056791377343,-0.23533224965328545,-0.5143088106363101,-0.6363382295636555,0.9336922387312778,-0.7380131505377848,-1.6966419243620754,-0.6445931207698036,-1.1498131359500394,0.6692542580919777,-0.4093267022470347,0.1874903005003553,0.8056472980450031,-0.015049252571991108,1.4699063831666221,0.2096744555837421,1.0879220877391542,0.8113589646526552,0.8495027610976366,0.8490990709656855,0.11530196217274108,-0.3804165616623479,-0.34397101551781833,-0.8110130985063402,-1.3531530820399165,0.19039602027828617,-1.146627175588992,1.8402898623239299,-1.632927266566159,-1.6608045027096066,-0.6327517197395163,-2.386327058875244,-0.34995128731677233,-2.364404240420033,-1.1139942325196464,0.46521625654810234,0.26009022312037167,0.6268239047529085,0.9103133234051614,0.5856017367037659,0.4225064749949058,0.72384983771495,-0.09743975629828137,-0.5441134945812642,-2.0402738564397893,-0.08899968915448635,-1.9856375297217401,-0.8114204171545424,-0.046903404736521825,-1.2858533680083588,-3.494859445064672,0.8044176191304747,-1.6577697988604287,2.1919708857568216,0.650628513122279,-1.110626731701977,0.13262387514438642,-0.7053036208100615,0.8560780989160968,0.74152246008559,-0.07278391705232376,0.49528625906338203,0.4475926582086545,-1.890031194881113,0.3602750449700742,-0.46578831086685796,0.7564208784618247,0.04628950080767262,1.5930416450466574,-2.177748512634348,0.9055206746982235,-1.0763446576730307,-1.376569939090578,0.12319506958077277,0.9043249109807028,0.13426229162260275,-1.8042473901260507,1.183262995020422,-0.4747014176306214,-0.6563271436144338,-0.27841193136235054,-1.3172278259736863,0.39242890381805884,-0.030115053619765634,-0.0901214297867785,-1.0439969950737173,-0.6911451799397083,0.7764266484735008,1.8507232623447378,1.260747695654293,-1.055879705873546,0.13083108573411148,0.23774223077994733,0.9009500400302912,-0.8126222459441725,2.2887762545086265,-2.413435335365213,0.9466595420917244,-2.762869414468481,1.0055534353399773,-0.2618499084074415,0.02962554993064815,0.2564483444138702,-1.700412029771128,3.0528000030036346,1.2267323586285137,0.8843439856837836,-0.9286534318473577,0.8957118879347054,-0.4368238011096158,-0.3074792115285629,2.4054779743891435,0.7674514581824836,-0.569353526837482,-0.4636526994157354,0.5062777197811815,-0.3033185551844392,-0.10192437869777207,1.791974724017303,0.9220710273464511,0.18243231509040816,-1.1185253138644908,-0.33793193937806776,-0.5086728396228266,0.2315418897451815,-0.689743917815198,-0.3463122612396495,-0.049418681877468416,-0.15894958337583512,0.21293348648562882,-0.9449980329981243,0.3532006052374548,0.3186592561863473,0.4190848965244699,-0.6070857945386593,1.3447182263246833,-0.19581458392896348,0.6528907866515581,0.6423898310854684,0.04153966985274784,1.0083494327957603,0.24695412965638802,-1.394602249689048,-1.5377829758038786,-0.4653987089328299,1.4246127101701473,-0.17468491333977898,-0.37060321311954353,-0.5168856803340297,-1.572883260060623,1.1176443640361657,-0.8716184533319845,-0.59849332395193,0.9672821866684762,1.4133422629506898,0.68867736266542,-1.5353918278402803,-0.2091492163635224,1.8229601090084415,0.1844857473588679,0.5894678503786389,1.1683615978287984,1.6640992386685658,-0.8327616707523529,1.5363223662427608,-0.5801888479118578,1.736017888855207,0.7345416594578641,1.2928688359980198,-1.1149442116468982,0.2131451645087262,0.7379064615865533,0.9069864703687246,-0.3222237704824474,0.10565282243437944,-0.11406573420729561,-0.41010051374177475,-1.0302263021989229,0.24235777250043453,0.014163862230108168,1.6187679766821794,1.1683031425061197,0.4149657199075701,-0.8675948113058021,1.6799259875570698,0.5566317887020465,-1.6817215131965042,1.16387894140928,-0.34857188857540894,-1.6019224031997112,-0.23781882802181,-1.2887227906497234,-0.3770729980612721,0.15462280160446085,1.0613107647067057,0.6941227277538397,-1.557398056607091,0.5469941368196821,-1.0476625234066077,1.4855981240589096,-1.493181759478563,0.3502735635219209,-0.4889969614003616,-0.5140626648844738,0.20930527587211098,-0.28119488467314774,-1.0126993678664666,-1.3304403920327197,1.8442579949357725,-0.39710424864036176,0.6343189182884552,-2.0979594338386964,0.01789357291438535,-0.7770346594988877,1.9782143052420071,-0.3453125993311694,0.21199353558996378,0.18530440912760068,-0.10059135548647534,0.3770399875703535,-0.7488595339444324,0.6793931868611066,-1.36724040513623,0.38494076392275794,0.8961892962773144,0.06597073664574539,-0.1005889037222649,0.7708986895114293,-0.27861464605466524,-1.6308276122387457,-0.03400700778543494,-0.2806808812599486,0.8094004148482097,1.0403603459652901,-0.16271683081132848,1.0577124910812992,-0.10148250617216299,0.5367953791923283,1.1687946154325235,0.5880200802153089,-1.0132310132695581,1.2976690562453264,-0.7641598665061043,0.6459706916868867,-0.037459641242289635,1.0383353082133395,-0.25029375974761037,1.856871330577062,0.19858600697848597,-0.9417219083214503,1.0029617344321697,-0.3616722053418412,0.2664469626572551,-0.5302199840505558,-1.1880521028999191,0.1842240272848408,0.4226174274239603,-0.7888152175412237,-1.1075073467480996,0.9179832097476177,-1.3434241730858103,0.6239052728815966,-1.1671726320233773,0.6389586682372529,-2.1292024940263703,0.9562313167079878,1.72363976251525,1.4207605537537291,-1.874754092191746,2.820103962586268,-0.06933534354409858,-1.2405115169925582,0.7896846842148303,1.1937794033150564,-0.4573468982129057,0.7100689414653629,-1.0444023989262623,1.2774920652869253,-1.8788216212910966,1.4072385888123473,-0.7187392273550517,0.35842858849920045,-1.0531668035428925,0.8108681560758071,0.22196616230895103,0.604690450964055,0.2692400213930794,-1.2173043339264398,-0.943301509302547,0.33511634247831196,1.182082508693581,-0.4788699368952233,-0.6495337216194587,1.5354646402497503,-2.7697492074524366,-0.4740764430548884,-0.07397529061183376,-1.2815770275870078,-0.4959541818145396,0.5397204898301595,0.03647382016519601,-1.1140231842666033,-1.450859753542705,0.23704850030782504,0.45398600848786386,0.4689979349249819,-1.4387227404151144,1.41426275910533,0.42236951737406325,0.12147818648715082,0.8036013156569072,-0.0631774468778752,1.7861318715632986,-0.7404972620069883,0.74368938603316,0.40724182219815613,-1.082874070765257,0.092693590686346,0.6496348669557176,-1.7194254024082198,-0.06423947963684676,-0.6630211299588599,-0.3128587025921906,-0.26317990759268456,0.5024629061637331,-1.1435353363281908,-0.11407881522292344,-0.17296817298801287,1.3899300664708967,-2.024684879861605,-0.5271854507093354,-1.033265672262579,1.675186408997827,0.3697528697649941,0.9417422773140113,0.8787295662007628,1.0852153234387614,0.5423366749098507,-0.7478778258813157,-0.10247032782071666,0.8898864859213933,-0.5822904638232801,-0.9877245954691295,1.4265592476433968,-1.0726958074659292,1.1964167803869692,0.1337127839195699,-0.8148014873623168,-0.03922980225459404,0.6795791978536992,-0.03669986391839961,0.4774442591948968,-0.5229609823408761,-0.5832811375513016,0.39950991634131,1.3302893292992073,-1.2698764362116208,0.6152544078483654,0.1999123142780006,-0.973690288151567,-0.43838600388028914,-0.7333019034344038,0.6006519353302938,-0.5728301262325907,-1.291403866594674,2.703132652112632,0.001702219135383342,0.8934332738665001,-0.2878863805044612,-0.24934000735177614,0.39985379173047997,-0.19815037109701092,1.062729135757179,-1.61059758940841,-0.9889140697124496,-1.0598502820180986,0.7065909156000205,1.8616953909840486,-1.26471458026396,-0.8448847684236861,0.63149822074636,-1.1530262043819024,-0.4677446131771141,-1.2005193753904837,-0.6231818722955768,-0.2621099065706063,1.4713678042214096,0.31457725377601653,0.03268204189103007,-1.3178594814658042,-0.8073115667051365,-0.9728914117284594,0.6087365487987751,0.6069397465623887,-1.7305528546250255,0.6760519482149036,0.2748605398962205,0.2515217271855189,-0.17790401440689116,2.480105697467359,0.4716748299146736,-0.24930260106848132,0.753546962595991,-1.4058428214440586,-0.5398049647480198,0.3798039878203465,1.3614863198815863,0.799059764773787,-1.0626177346993886,0.5942270607218579,-0.3903761499768614,-0.02795229791158072,-0.9160765869214944,-0.44552487094418797,-0.7033829138861032,1.1262944535671782,-0.9769044415060016,2.2634773964855865,0.5865531453078004,0.1736797392048741,0.8075237567508818,-0.7496133410810523,-0.41387194059916915,-1.805813824166002,1.7719456009850176,-0.6558049570665496,1.0009718963954952,-0.049435249148725983,-0.23442212290381742,0.08246392139069847,1.166119369375911,0.006433835623118877,-0.8449958849965105,-2.133188584731905,-0.42247931559296614,-0.6394553200296198,0.380161366233871,-0.9722500529307726,-0.639269022477005,0.584189296550661,0.48628193672073444,0.8343339455477232,0.29337162613720774,0.3250633079589405,-0.17061223746408782,1.121338865920683,0.3644659863999369,-0.2679677249492558,-1.3917281148409149,-0.6398158939591913,-1.4218707707173535,-0.33723071396902815,0.7556295687483954,-0.26515535288331565,-1.165756713114603,1.65997169935007,-0.9377231905927791,1.4796586197002608,1.465071800781465,2.50984695375849,0.25949386950145836,-0.7797365514304039,0.5549025108003612,-2.5015558358456245,0.3851943716506542,1.0517140069945448,0.4456926329488187,1.2965990123649591,-1.6077253683157018,-0.293073899372187,-1.3777207302523546,-1.163222702717811,-0.5461770024946153,-0.27833146655467655,-1.1363791343055487,0.23741634415172352,-0.11696131470615756,0.9409456802694234,0.7004878283329693,0.6971897702446145,-0.4033291440827647,0.5943618830008348,-0.8272087721990896,-0.4584883000372239,2.2128244844884857,0.06724410982928344,0.89590388349804,-0.3597926249095208,-1.132890306067291,0.9122081827554926,1.026203432292692,-0.1922147016383443,-1.527891361893077,-1.0838154489089658,-2.5944808784382762,1.2034917687108486,-0.2134844973508365,0.7378089201514687,-0.17890184694860634,0.748752722766902,-1.8414941187491203,-0.6447087210826606,0.22282442671395294,-1.05029156735592,-0.06438540513411738,0.4252242684516051,0.011488091748175387,-1.0746679474240775,-1.6518721799215688,-1.2094858806021076,0.9530336789605622,-0.4192544147921777,0.4738028446149215,0.0526892476969104,-0.2308675651207302,1.1880709745421638,-0.4165475843599012,0.1606525337050307,-0.3618350870417872,0.42747904955028015,0.97033807013457,0.21275029292886793,0.6232280419570311,-0.2512504882633545,1.01187750036714,-1.6487691071786128,-0.2442226232769282,0.7337341504477782,0.6124291826262127,0.2011880036155852,-0.6336160144983894,-1.7405494754971023,-0.39741067354893256,-1.4425385685190215,-2.460694543571465,-0.17810450575305797,-1.3045237264605118,-0.28611204950337477,1.1398270532260755,-2.3291747053283194,0.14143539393735252,0.006853290973570216,-0.8802064412070144,-0.2496737522958441,0.6130406633765801,0.6401050502572331,0.16050718173879325,1.5323089466859925,0.7162512984018108,1.1877558181964991,-0.5589706479603288,-0.002763473043740558,0.9949452395237738,-0.6674785098202359,0.6131407749540861,0.5886297241751233,-1.5825309398617937,0.6727204425078146,-1.6500682211661775,-0.2964060170968738,1.1263800213135862,-1.72790471543436,0.19287625810627967,1.537793725181782,0.11527308199654662,0.5562292697834033,-0.9196730875599266,-0.23507856367374197,1.0954719423796955,-0.8572161453959042,-0.6977009022078824,-0.2665567559815625,-2.0265621825211175,-0.19788629094040208,0.058320761954873096,-0.6812778205360825,-0.8252895504143956,0.8205046622450427,0.4034255997818885,-0.7685446560944792,-0.8572165176003016,-0.2515778596920341,0.3332318028117865,-0.6687202956980333,-0.003248799236482606,0.49082669169403453,-0.055861735809431184,1.5377043084228001,-0.8873472111888013,1.3301984566551195,0.6333703079122398,0.45697134824672364,-0.9144142987391373,1.0178970629668687,1.9431736644323179,-0.4313939403205306,-1.0416907715798853,0.5508283507752807,-0.6907744377428604,0.20191052762924477,1.253940117372922,-2.672681047398033,1.5678775348194869,-0.6034273562022548,-0.29095727779850844,-0.12371008860312031,0.7524925557478298,0.43693413118952673,0.3936836769953584,-0.31469938672178344,0.18753150364709423,0.09565870201308169,0.1120381553322189,0.37129548741289287,-0.45803818206580516,-0.5486301986973597,1.0156639375350318,0.04265454643155669,-0.3961986021856834,-0.13348023034257422,-0.09032283287009302,-0.9850625164144263,-0.13166991804139036,-0.4910889112925817,-0.20990291271597453,0.522429568994008,-0.07361176291130991,-2.011769873468853,1.6116229336253898,-1.8430844924636307,-0.06815386176651621,-0.32277777446319267,0.4567596539229625,1.3450132727871815,1.8990091094406958,0.6908701100919501,-1.3450256509485596,-0.07017924678162003,1.1707738268296322,-0.33396140445549005,0.8069670870024602,-0.3968846536080873,-1.3861741216609231,0.3688535820100323,0.5519163933674067,1.280679176790301,0.3218839999721607,-0.8406058993749567,-0.5313740640336065,0.17794616864562868,0.5003256703461996,0.6978052980443117,0.9215495514682087,-0.3300495914424512,0.8464134064430163,0.7050851959546898,0.4322352624433425,-0.779938721705737,0.035089351813289364,0.9175695473103617,0.9677766122039708,-1.1366949767431247,-0.5869116155276517,-0.31121292778167603,-1.2581313643224088,1.0487889836463464,-1.3369969524587262,-0.5223085827533019,0.07167128340426636,0.48208918367015985,0.7406028916508552,0.29783995073956787,-0.5361557844731001,-1.3032951010057554,0.21938723694695741,-0.16256265491400487,1.536945017594676,0.28271955123428016,-0.5900455313465643,2.1222534202334424,-0.32979540492834186,1.0507930818823064,0.8750212407729734,-1.4629929217183453,0.381752159981306,0.44884636178410686,-0.5824101464010876,1.4817978853766653,0.533725112032455,1.5831227848246145,-0.3132330883582389,1.474421536320293,0.15056336788472888,0.9829150416706377,0.08606703137439409,0.20283536070659536,-1.4963240336357722,-0.5356413262466523,0.11325201327220165,0.07737384398792252,-0.2321558204037333,-1.1018003800805212,0.4015729617766771,-0.0022164640819618865,0.5919703603339931,-1.0364021443394407,-0.13174552663209785,-0.26509379890974977,-0.7465561580970059,-0.32923353883657286,-1.5457949093035246,0.9833631616162283,0.31223834816902385,1.5851631316353123,-0.1990662600951817,-0.5654575537938217,-0.0467446289868988,1.6781401702325525,-0.08932053863689798,2.436875550293108,0.8464838896056315,-0.468011090141134,-0.8662060972243529,1.3997318293612233,0.8190141269226144,-1.9675253249306266,0.9060430596283132,-0.07963986160131996,-0.5906527376867686,1.5447424875816338,0.335428260046518,-0.028542916018987657,-0.40611041090551725,0.32514064848376123,1.1981577916338877,-1.0445133285075612,0.6355668880043325,-2.241043733040169,0.5803406536836291,1.937508095388466,0.5234827903013753,0.9904712802427224,0.12692498112117018,-1.7546452660429248,1.2313778836229905,-0.7815960079700877,0.6044529789665014,0.007807701582608457,0.02413881187647431,-0.7338144838221865,1.407490436073811,1.5760395998252998,-1.8177371079355242,-0.9508701619299695,1.2612717660443795,-0.23024667720325265,-0.6087301657336456,0.1783272959729407,1.1951924570655512,0.6354610362324887,1.9272493678912879,0.06526745836679891,1.0498237501312524,-0.896172830649798,-0.1711714180364734,0.7036974094301575,0.6526654163272902,-0.03860546437877993,-0.1972187383543485,0.5341919185871,1.267430295985424,1.9793127637007017,0.7983895095512086,1.1953333300504858,-0.896675863089806,-0.5217172211905019,0.010233678466120206,-0.23984337829815547,0.40628249969616526,-0.5061651255724904,-0.9512789490488366,-0.8906329674830189,-0.09090789464782684,-0.2812991989281089,1.5496654443424598,0.5348102889528868,-0.3353597959181907,0.6949153772342289,1.3909063828973678,-1.2404616974102087,0.3714324102425271,0.6239030426091193,0.5578992270946124,-0.6064352478811461,-1.3214516800703844,-1.8787866140075862,-1.417814713379767,0.5262545569029983,1.4779647747328986,0.5215665053237699,-1.0103743709044795,1.4023923049221652,-2.1892810203685187,-0.3970871259197564,-1.7121225811961736,0.3093712310870664,0.0018980731999263245,-1.3287157712256676,-1.2270789212701745,-0.5575292110763507,0.6618753355868268,0.4897816579931043,-0.4904337557751626,-0.10749850585671578,0.11559112945559692,0.6116692634707961,0.24319683448867174,-1.0541252327891772,0.2254191207612617,-1.7172053309082644,0.34661561189647977,-0.27153897912922254,0.06403018533428902,0.5410912116573382,-0.7344927811016204,0.5631977784564515,0.5149260123181328,-0.7806853494089591,-1.9132086604177727,-0.6150838927458816,1.2123108863641354,-0.019342506616652735,1.2044002131244789,-2.3107204877048018,0.9124318978223236,-0.2945591030871263,1.2550860292717454,1.563795889797857,0.3560940461530443,-0.8387397668063447,-0.002128943046071604,-0.21004931645902408,-2.4984721648868353,0.0030413269145811344,-0.2558471772843259,-1.353706245079443,0.48292803891036995,-0.3415609470331311,0.8527549634438406,-2.744079981177475,0.34065592739460115,0.5701642808113169,0.08304903433198868,-0.44874139289229004,0.5903171750864425,-1.0065369239598327,0.05003453380485188,-0.5647334293735208,0.6180959680229436,2.031163459011664,-0.7738174266014785,-1.4141541667288713,0.018002149788137217,-1.47704000921193,-0.9202601569614036,2.350848827921143,1.1148428221674591,-0.2185732903781135,2.0979315452916554,-2.2372337749011915,-0.3086182150169245,-0.635158035353203,-0.6730454426239038,0.3118263588630559,-0.10592047286619528,-0.9691537071865067,-1.223312158192826,-0.8396099032797382,-1.6068527150181549,0.1607136019597772,-0.4406895496929825,0.5617349116293041,-0.2311942454508235,2.2329065918942046,0.015905412312231568,0.8912651230778271,1.338985952287178,-0.49796197659123737,-2.490232227676653,-0.3202105022887722,-2.240010105277768,0.7799330123741258,-0.4614458525762952,1.0267291959645188,0.37703756208103184,0.9190595377697504,0.8735924713181206,-0.712331827603107,1.113905339043522,-1.36792563371069,-0.4775211619192953,1.4280405263013334,0.26910988393521673,0.4596832710080849,-2.1055558932523977,0.7386561492771949,0.5217338847852152,-0.889953366103584,-1.6620016292208701,-0.24538142382964678,-0.06616136703034824,0.14701709849160166,0.029049629317621395,0.4630254803845959,-0.5753918748246288,-1.0229094161548358,-0.5359345661563567,-0.43871381496725936,0.6997217776333933,-0.7786459646487224,0.8153752965088152,0.31634135798908625,-0.0242978284954086,-1.5095911970535685,-0.7584360408500589,1.48935323177094,-0.9889947302806997,-2.4837544965330154,-0.38909569953495204,-0.6975449529405818,-0.8430335463054225,0.5259651394247375,-0.6924739977462598,-0.8447688145926873,0.11845638626890936,-0.4008052554559368,-1.46799522337494,0.3691637047389117,0.4196589934339519,-1.2935816144914671,0.6608442253894323,-0.10951234921996557,-0.8471091364958044,0.7354633779344067,2.744869779830709,1.8027098085743996,-0.42413831757102977,-1.23232544603394,1.4569803115651498,-0.8888480750916151,-2.3442310763354217,-1.5074266808750483,1.712596918725816,2.49024980540967,-0.7923809408296602,-0.987818786169122,0.7824633248183935,-1.7314124321561066,1.4120416630945576,1.2228497911445566,-1.5187566951450662,0.6236255517775088,-0.940628560920619,0.9375717146356733,-0.7547623369226905,0.14941202880362456,-1.3411309720026974,1.4721131574864552,1.142449562883164,-0.5458035177739794,0.2883438312206349,0.6490576269105528,0.8176103034811567,1.6969444016558153,-0.6085632002400392,-0.044169646097696566,1.2575370968665351,-0.03614562739995859,-0.9455215950594436,2.433083171243178,0.694742019760051,0.07517530000581206,-0.47481649821097194,-0.17306532899942895,0.11560438553122032,0.3384777672356235,-0.1041434114054821,-1.1199787445541205,0.2966848037818426,-0.15580716379770093,-1.2025420640781164,-0.9760856040872139,-0.998170138128721],\"y\":[-0.759818307047349,1.4374249279573044,-0.41706677645668816,1.5591929864768792,-0.7885632695409655,0.5633731996644085,1.3788050944434647,0.8811539226207558,0.7339871491584075,1.7133493715250767,0.16252962062326026,1.435011973263608,0.7288184062060827,-1.2520655210092293,-0.5065378964191294,0.373370851986755,1.1015850100489937,-0.1779434620750627,0.9771545882459637,-1.1297663088229772,-0.48911201600202897,0.8199306577803467,-0.48859042033224365,0.18391030463623562,-0.3846292994600383,0.2694301386067557,-1.8184136555666766,-0.03606722342399783,-1.0567385352973793,-0.5796409469464547,-1.9788536393476592,1.0611218833846086,1.9161028800050208,-1.7284562036698465,0.5149068228831492,-0.7040726129780893,0.6861143924719928,-0.9967811764568082,0.205782072204947,0.43396708559735514,1.4340623526149296,-2.2757377751143255,-1.6450626778712358,-1.1180851746072695,0.4683869781471883,-0.6701107049736319,-1.0859892614675044,1.931448553135087,-2.0322528970576137,0.19319308155331918,-0.13736897926166602,-0.400731211915623,-0.12024685572417843,-0.5568564062200785,-0.5135694711932868,-1.8956687292928802,0.24935419488644603,0.9239752143322207,1.673362913628982,-0.5685510899668547,-1.3717744666936933,-0.5782250598828113,0.2827145748028786,-0.7413951194021259,0.3680073297594897,-0.9695908743285923,2.062621030092164,0.926159736561443,0.9614010475935707,-0.9443284790564624,0.48546700277390253,0.5206571468173616,0.7070164502293691,1.1291090710684468,1.098077814629416,-0.3152501793846475,0.33270840568141075,-0.1725342130117432,-0.42565486647747114,0.2201308519077676,0.3828884776077636,1.5905128654206966,0.2832472820831177,1.218359054371807,1.2577751578645384,-0.6138443564422228,-0.634421915397216,0.6236050194581132,-0.32613550840337974,0.4315466151704414,-0.18952567958569708,-1.5146763444610092,0.28419209036658155,0.22992657382567613,0.0020193531231334425,2.476864918464888,-0.5909386010790506,-0.02292673091027242,-0.24728302668052973,0.976861012790382,-0.2157708216805838,1.081154642813767,-1.1970478318825422,-0.7688049977021904,1.2721965681770768,1.2704475512729556,0.9240387368171341,0.8188700208744364,-1.17963445597928,-0.31503763350253317,-0.6775545605179004,-0.7031720021440475,-1.4554113838015896,-1.0476102799195772,0.189417874203938,-1.9564305459983242,-0.2173848264490382,-1.8571971072181068,1.2235752000966174,0.6215753935276347,0.04969006014263159,0.5973872437713151,-0.47161255616203496,-0.3418593280512278,-0.7680503432862579,-0.637390251993462,1.4285033142226853,0.6994138099039,-0.357840983621131,0.5812296547678127,0.8799115807754652,-0.07437738780294832,1.1858449119884271,0.3284965197348188,0.010812143565626682,2.369397695514954,1.0543761400417175,-1.2410127374366586,1.830114565219964,-0.5391512493143225,0.3806375578171185,-0.2730688642285559,1.725482851876256,0.6527630808260791,-0.8627510062601268,1.1352759743542749,-0.47076864586887274,0.7703969559722197,-0.6698565516589778,-1.789152455546952,1.2635691206667732,0.5741582907063157,1.294495139195556,0.10726526765722141,-1.0723320816143935,-0.01594835809448021,0.4329486963631078,0.7317229831742119,-1.5359753614788676,0.7635109381671368,0.4337012203228394,-1.2666734076725326,0.479083175038329,-0.42202305622190134,0.2734514412862332,-0.7964997960967048,-1.5648964133669188,0.8442775362186142,-0.7923342999623648,0.7964604804023624,0.021871524937962218,0.5348971627031663,0.747060527761634,0.7427990920338691,1.2620091388240071,0.799457139638618,-0.6661984019370926,-0.08410340779486938,-0.4630699020225934,-0.7131185780996673,-0.11023610334635028,-1.589220163242974,0.61913183374397,0.017286853730497934,0.09344965399191504,1.3180773750313286,1.121124250284895,0.5932163179053549,-0.6907870697551591,-0.05248424722752432,-0.06863939476293868,0.2579774597533589,2.6624326757494763,0.521923053995028,-0.9113372401405514,-0.4205384574932869,2.159752960842165,-0.5795723842220603,0.5687857594251777,0.8468731024919018,0.4784481561483238,-0.6515368862113059,-0.6813636536573334,-2.1182590486459336,1.3384647536629921,-0.11568140846561968,-0.3673838298855644,-1.300913372767348,1.4323579979220444,0.11967826406157042,0.564318523839027,1.0270986772259438,0.5966217139769976,0.13094532688164687,-2.360909562036711,0.4881320459243462,1.5913224239228412,0.03274593174010776,0.5025069467815333,0.1960878047316905,-1.4832966617089611,0.8893298524473872,-0.6485223634344258,-1.112007159129999,-0.8243504241781727,-1.2479842400526169,0.1769841753584655,0.7396052420882918,0.9231720119246002,0.1461865360343453,-2.1771430031367682,-0.376940062724,-2.034079500213226,1.5915611319845526,0.8208056723176439,0.7254553834184659,-1.1495077450291225,-1.2864720144213322,0.7558758828985285,-1.0280368588440056,0.3347249808836613,-0.474452073925464,-0.5138995610548946,-0.7446594121308588,1.3950919662884866,-0.3971952304821858,-0.3888324247417307,-0.5322550495369995,1.718494289772405,0.10411260063303256,1.1174019449409862,-0.5666378299876991,-0.3026102138914376,-0.4476523059802308,0.824423066428248,1.0697800300547655,-0.06374466469878037,0.6464892767775536,-1.3442587246212716,1.072404059270151,1.2820699709646457,-0.49741012185669403,0.20193125393611625,0.5175404758247514,0.5561983607437231,2.360477064485515,-1.2879534427387138,0.9236472053789939,-0.31384359972983245,2.7557040197483835,-0.36375398701899536,-0.05229086187487616,-2.1297569116868242,-1.6920711616638604,-1.6760928706571834,-0.9403443399672191,0.3199585533304085,1.9549314061168968,-0.15271855130561263,-0.5878052726539267,0.571645601966202,-0.5766317318324735,-1.628306035179881,0.1588083820101326,-1.3170265980243032,0.4063898374422282,-0.6565513847341421,-0.8512613603247805,0.7304486212820315,0.07191272663946259,1.5785033408198033,1.3321785753563982,-0.7005852897174282,0.9041733697044867,0.27346989527120885,0.3393835202793622,-0.2747365468197883,0.6044663648943625,-0.4119532816961106,0.592708657895395,-0.868478851769742,2.4775785466025178,-0.17889224974728313,1.7966337903709737,-0.29897272937149383,1.156231660158363,-0.6902073186711809,0.9563343915740063,0.6390852316244641,0.44969470449342963,1.469903730412056,1.0748959050710154,-1.425673310730328,0.10486956183289499,-0.6295541155030355,-0.009181314739944513,0.03427398204806415,1.2815425560390576,-0.013013139506726605,-1.8471536419996346,0.5281072880235079,0.5833818973699794,-1.0766894793844588,-1.852126350066504,-2.3716818790030976,1.8238472598597903,0.037004751563386354,-0.02193936611297271,-0.38211093742190944,-2.00262435016561,0.7914047684225711,1.985533282722763,-0.48642259042339914,0.35349222050037254,1.33618116101008,-0.8103783277727168,-0.5782536288945831,0.6579225023913307,1.4045750672588735,-1.2001311062314044,-1.8075253898557986,0.7069561441163962,0.13925895473903824,0.02834924730193551,-1.1169043455839902,0.926035075853108,0.31354627861295215,-1.4854897160831255,0.40245866763252464,-0.2287282112295559,0.42939014377772783,0.7300805155754905,-1.9735270575885135,-1.5843910126864116,-1.751701218976965,-0.6400882339725645,-0.7705728613850923,-0.13237355122046282,0.11125869802055421,1.4417703657404948,0.8138215562575553,0.8403386085157358,0.9204419456286703,-0.8755827955804247,-0.21359805864351175,-0.31054654927947883,0.2462533728243433,0.3319883519359217,1.0984276162693085,0.21891737866424768,-0.9213778564939864,0.4915986565589869,-0.6137202795549631,0.45934495091952404,0.28415838816523226,-0.23631842616710697,2.0281015529656274,0.6031946770087672,1.71822379506653,-0.3033587743932926,0.35254782623118297,-0.8830823769951596,-1.9222683442596786,0.13066562277568,2.751141760424604,-0.37005040926318405,-0.47251569774192814,-1.248337797033314,-0.2124980458582091,-1.6932644144803375,1.0382162539481472,1.3819194795155472,-1.805971155364923,0.9249268146967645,-0.569810958808784,-0.7590375342255629,0.11254917241000488,0.9598785713594529,0.9907947229859307,0.9994532365456793,0.4263185546857854,-1.1331716922689299,1.719987509445613,2.098540200620265,0.24453923133354394,-1.2261116691957208,1.4001986088891027,0.5899430882126369,-0.29168709507694024,1.4558136011938452,0.18474123216564545,-0.8317832730366848,-0.3087793189911042,0.61772169717342,0.013652602799958839,-0.9033570334001086,-1.4641890118943028,0.07112522813803789,-0.5341844619296096,0.2044972248462778,0.10545657456532177,-0.5091028801973532,0.047744005636630754,-0.51542302097385,-0.5022735346777847,1.0371288802907563,0.8336807575557302,1.715271170379866,0.9368470191234352,1.6704119239633077,-0.30368996984151836,-1.3582207036872094,-0.6426704896473315,1.127502147596631,-0.6183608413959013,-3.1355113673828807,1.2083958397958232,-1.9416614306028162,1.2611593330424253,-1.7612120279517194,0.08040254953024059,1.0135152711359916,-1.49807916896268,-2.9556906657037283,-2.1062102380387584,-0.13654491094814367,0.33657154703163394,-0.7584305898041105,-1.013444388426797,-0.23581757600465972,-0.3856000266598487,-0.4012875424311606,-1.8809908792965813,1.7508570223399842,-0.974555887744128,1.2751099015859382,-0.8056574823105074,0.9659634012516608,0.6799069675259855,0.6153034776366738,0.5152906380990202,0.11069510407108128,0.6392822589015121,0.31683025882312355,0.08756964180717623,1.0726646545761813,0.04652754501330147,-0.8538765045765484,-0.12014306387975374,0.29442868703131675,1.1072101584747829,0.38482301961407245,0.7802643828697386,-0.1270465570069108,-0.3105381433306245,-0.5863495337674876,0.36030477554758716,1.0036314429983444,0.20022617511202961,-0.5423337644442578,-0.612988368285511,0.42045058815039504,1.1994940876267177,-0.3991822917376142,0.7410320814816798,-0.2172801820396073,1.4176479092476657,1.1747618550671513,0.05731167571982972,1.8650936904790045,-0.1733421629130882,0.9394075298122783,-0.5436270679558565,0.9120992909702622,0.029782555111780896,0.8983672400740423,-1.184577777337643,-1.126304511578981,0.8597270341874156,0.2360793796486807,-1.2833119697824855,1.402528792207704,0.5519638122423571,-0.22485527514911274,0.5063878516866305,-0.07281601852210713,0.3002520962737463,-0.5559233000198035,0.5295783298367519,-0.8132842862775831,1.3057866409418664,-0.06315763366401306,-0.5126904834122524,-1.8032906664840456,-1.6240853999544997,-1.743947075587579,0.7530445194279669,1.5178261942994722,-1.13798366184664,-0.3275816263432765,-1.2144839515712582,0.5699625422662039,0.8395615651166487,-0.20011505361839818,0.1870506157123515,-0.1812495411296037,0.31266842788147337,-0.6187898882228634,0.6440951390280222,0.7376937108825078,0.6146026732741064,1.5042854063598237,-0.384037582543044,-0.3377129561954246,0.2062912691770027,-0.1706780422117355,2.153940120402105,0.5618354612953748,2.081508864805272,1.2403780026950433,0.22736416466870216,0.2532952892526155,-0.8437418997309148,-0.42166904463060106,0.6844574699691398,0.8977194462051898,1.8986327143281827,0.01632815052385262,1.340883906217287,-1.65204898810456,-0.7718381236773065,0.115736576906635,0.44413397425759554,-0.9162019638696938,0.46550451607982174,1.7610731446715637,1.6095166563119812,-0.6553497210536969,1.3117143861644471,-0.21662141344570074,0.8703261946033213,-0.25318689822491247,0.2580447071057384,-1.7392497248153125,0.6986388987277845,-0.2585689734527693,0.12767403551855827,-0.3417736919582261,0.771277842376339,0.19313586639887004,0.7859665501127902,0.011333398986198975,0.11364768986683968,0.17247746941857076,1.1661030208391978,1.1529680430477922,0.9012865266890452,0.775915118382971,0.2847227904227293,0.15757072691031804,-1.3173018263752458,-0.22712796526977375,0.036616070767930574,-0.5623345210491271,1.1129981555936237,1.0530912671441248,2.068218885436936,0.3759943162178747,-0.9989672337486256,0.7533676624030866,-0.760737589873153,-1.3465885665210109,1.5894706899686781,-0.148511807292496,-0.09113602168473366,0.03476836494608501,-1.311387021958782,1.817812755757104,0.5681182112385633,1.2006696698636032,0.8192703326297399,0.3649566422419812,0.09631333634597726,-2.024145036143923,-1.5112705582890882,1.902263114719304,-0.4313992653700959,-0.30168184107498747,-0.4602443626977485,1.4677947390072543,-1.4568009219164848,-0.7189050591603838,-0.8017973847175132,-1.5038588714363126,-1.3942066062462577,1.508978170168214,-1.205652490010557,0.4707816878677555,-0.18691016101707833,-0.4506707764365255,1.5537451931385131,0.4904974510093109,-1.7057722734863723,0.7677639905111396,-0.5830059403386254,-0.2477067164901754,-1.278823013971505,-1.2782610279957716,-0.610236178968892,-0.07610622933953769,0.6721233878392626,1.303262946678157,-1.35833375696769,-0.41036136831843084,1.0929396415439372,0.33930197308876836,-1.8908228440708326,0.8817236513957295,-0.5885409781667249,-0.06479489354752414,-0.5323144734188925,0.05696861573672721,-0.6864368854316525,-0.898379395285207,-0.010120274404840427,0.8876912943261324,-0.5639575242906258,-0.4532998652340787,-0.9348282120506438,0.11851198430582861,-0.12725857566040907,1.2391770611448307,0.840266282622403,0.549864394975643,1.3137256576813419,0.08968082746915075,0.23323314765020273,-0.3534420807180598,0.2250658527162557,0.3464823388191246,0.43679974277163786,0.8889379014694816,0.5321773693722366,-0.29537568548525744,1.0749275535981873,0.6573972775024219,0.5104888146965272,-0.8015507511212818,-0.09150412012587691,1.288231654152717,0.6624288809524532,-0.1598780734406331,0.1730128786170645,0.5497109440549869,-0.36111021113814007,-0.8512183444829057,1.4048682292750112,1.0951791190712594,0.8381351815257511,0.46081595865117525,1.1102758053589747,-0.7973780150137222,0.1381409290268839,-0.20719333563531342,-1.0193986739939538,-0.9619457278665189,0.7075137668288349,-0.644708141083709,0.4212709359136249,0.9651364666057345,0.56702042870687,0.5058592513006932,1.0000609240484062,-1.981413218933746,-1.651208106852985,-0.7665722763702154,-0.5024192612198953,-0.08314093628617836,-0.4222657919416722,-0.8488309617945287,0.04685248280184037,-1.4134018401733044,0.38507465995062024,0.23856824779005073,1.092033335230094,-0.2862313322253216,0.12381146842776374,0.41225722548668053,0.5451193406619341,-0.9203643775534543,-0.14677360746183968,1.1817770161315941,-0.7436559911839807,0.4168212778048504,0.6487949199716702,0.17061054713244883,-1.070914752573432,-2.262276862673458,-1.7183276171748403,-0.9069670859565577,0.9310754858093898,-0.459761784839931,-0.015185612113299104,-0.6429975070742463,-1.3606122891063406,-0.13726701415339224,-0.37445754333180226,-1.1175592121955293,0.30367978918881383,-0.35966750787555224,-0.018647512390249168,0.6938500111552409,0.5879750398054918,0.3898246335302461,0.012316182817012621,-0.6116612345880911,-1.1759457136226927,1.3460226815697656,1.451712067483087,-0.49929290528334475,-1.7921599671899469,-0.17250207675189075,1.5183273786251539,-0.1183758267004081,-0.7782482179758452,-0.5499128977116438,-0.17891799755619858,0.10349848680613088,1.3782111695675765,0.856594599100626,0.49538650872258994,1.7877091572594526,-0.22384245105286416,-0.057304209254204236,-1.5646799987844608,2.3491536294128994,-0.3696593511909061,0.30432152308103283,-1.674528061328159,1.4024565180285495,0.2680357665639297,0.5358865968464447,0.3502895001470814,0.0975383057198018,-1.6262891692975094,-1.6783390694002183,1.6291716166236319,1.4300087385072489,-0.4637094668144574,1.5537460345602314,0.5681189986687141,1.1972875226998776,-1.2323222947067067,-0.6427121109198151,-0.05183243773476863,-1.333732182087471,0.05903253868647911,1.5898405184004987,-0.16134662950281972,0.4120618639680336,-0.2701399581764597,0.1634522609141994,-0.9897448359350396,0.0420474322656899,-0.18710441317849041,-0.2997069475836394,0.5921127723668181,-1.3997340434758492,-0.35720438790842146,-0.12294877324995378,1.2056991177767014,-1.4997484942659687,1.044884024865683,1.7534313117143108,1.7714884989487305,-0.35158973333683297,-0.08400963695811688,-0.004516238597116827,-0.7976102415534467,1.324899000589582,-2.2510736044530697,-0.3053447388318029,-0.825374047789901,-0.2278413397715862,-0.8750261451245239,0.6141689367708553,-0.7225244568558682,-1.1464983669260356,-0.16192136606189625,-0.36085431891552583,-0.8649608737983515,0.7911383819185194,0.30266489786028977,0.6185164010722101,-0.622627102811539,0.11076042747472899,0.9093374049020444,-0.7582239694564803,-0.13396505667613004,-0.9810178120312938,-0.342879982274318,1.522047175455646,-0.338558294886696,0.6826605849476268,-0.5789663836678531,-0.3553130516011517,0.7641104112128079,-0.642076677481162,-0.32491491424792535,1.4613097236233519,-0.7721150421972834,-1.057076856798526,0.22691265919709416,0.30927007043564486,0.7226246667669874,-0.19824774242377552,0.32931913073225316,-0.2670791957680864,1.973130494498542,-0.9776216650285968,0.4537786075363717,0.975692987308968,0.21646184482367348,-0.5950517127760191,1.2490541221392177,0.1437602963602982,-0.10133686393204594,0.4256852222540733,1.646696120649996,-0.78425711377023,0.5312207382428962,-0.6780131733403015,-0.124307845343269,-0.6333935688328216,1.233587323809238,-1.3114019949543,0.4497130361316657,0.7123763342890153,0.07602460191466978,-0.152535169547723,-0.6613257005920498,0.7991910392102467,0.9745909744960014,1.265563000954231,-2.367549197558637,-0.9958341268379427,0.3922387458303278,-1.069091095985306,-0.8254338837040947,1.3692449360057208,-0.15084881790827143,-1.2839880340042231,0.5112819237867886,-0.6754016542734586,-0.03654949138622182,-0.4110720489761271,-0.08485768746989776,-0.2642362480300884,-1.1456947441389418,-0.38980914841539027,0.5521195026489626,1.098588322868557,0.33000899964831815,0.1732660312856288,-0.4082293793025426,-0.1642423353453065,0.1976259679968832,0.021151222112567276,-0.16055338538940137,1.5019112588278647,0.149657457900275,-0.3297951752488342,-1.4144527751880467,-0.10722828000108683,0.0968313539171947,-1.8952203631619795,0.933781716153249,0.4263644789054305,-1.7793895051680513,-1.2609597959694991,0.8334138203094114,1.0158218649184192,0.19904311572640063,-2.418437545012118,0.035113235264092296,1.062223163127301,0.5699378723817654,0.2898782775788874,0.7226625583124905,0.76304141951797,-0.5722154093439732,-1.2302925699187406,0.10258682527502938,1.318070088535489,-1.6140888228238106,-0.9699694254625786,1.0112894268175026,-0.5599777979001898,0.4247156114775834,-0.962345384201382,1.4367144484765697,0.20116454402120648,-0.6393630496355055,1.3379604060278234,1.533356402876582,-0.3463303548780561,0.9069999166482351,-0.4042298764863386,1.420396857397777,0.3880803655675133,-0.8414395492450064,-0.9163879783014787,-0.8745690551396478,0.07286933666543847,-0.5588719607516923,-1.402619606542614,0.9787266531840939,-0.21677432719876685,0.9455338758139137,-0.31247918399853575,-1.3321635866743609,-1.2621754679786508,1.945982510010357,0.2182492556006418,-0.20000788027770297,0.00901024663866395,0.987433285818863,0.5460500137872034,0.7335059205509138,1.36643007390773,-0.3103695541629125,0.039897009447241644,1.496216985606802,3.139917544032983,-0.6450286007122806,0.7741301668534573,0.4029773397083111,-0.4356092562074837,-2.9516900987184806,0.20177040702432178,1.3306078638975973,0.4714046285944042,0.28580471273382957,1.5339188537600306,-0.13076800799766508,0.858338634459272,0.4662157544720696,2.155188793389193,-0.2746480800449962,-2.3777898589244404,1.0681747410476639,0.7425058674375626,1.3268130957112507,-0.5074575203148827,0.484562527931493,0.5987394520079474,0.9544898510026372,0.14243165562790802,1.2324326509208137,-1.4282648450471311,0.3820493491665542,0.04529392534558091,1.165489928503596,0.07508736815516555,0.43183679095102034,0.934720559656539,-1.643413059380622,-0.6107938883243482,-1.5616157688340597,0.169756252992071,0.7898842721206191,-0.6883472785586648,-0.313883708605591,-1.0058012021836835,0.9904238226637868,0.7971540350832514,1.8477529786586953,0.9619017842695118,0.7086577365171388,-0.40615219443416256],\"type\":\"scatter\"},{\"mode\":\"markers\",\"x\":[0.5574143420101729,0.02229348527102842,1.1117818197674565,0.668655421158473,0.9538348676349568,1.0942164250784907,0.3989990737043631,0.09315349076624811,0.055381267726876265,0.26451355269813587,0.4049263424042075,0.8717811966670255,0.5446634103667071,2.8785938195030463,0.4155002913437546,1.3220702476032637,0.4479012619742435,0.1675483491724326,0.035152612781713534,0.6490675688472141,0.00022648000297558098,2.1606247752739804,0.04396337732433864,1.18357446899072,0.6583033695222287,0.7216549411125082,0.7209692323147902,0.013294542480884216,0.14471676038700293,0.11831605951635922,0.6577422459488547,1.8310232634341248,0.03625064453780956,1.3147538797991893,3.3866667773722288,2.6664514578952274,2.7582715962205033,0.40037473883331537,5.694556831920171,0.12246590349466614,5.590407412116234,1.2409831500870359,0.21642616535662976,0.06764692416280471,0.3929082075696833,0.8286703467689499,0.3429293940304668,0.17851172141262095,0.5239585875599595,0.009494506107468464,0.2960594949854355,4.16271740927169,0.007920944669595194,3.9427563994394546,0.6584030933752516,0.002199929375877978,1.6534188840184398,12.214042540757749,0.6470877059675415,2.7482007060137463,4.804736364005545,0.42331746208770754,1.233491737171015,0.017589092258313798,0.497453197527783,0.7328697114437983,0.5498555588113854,0.005297498581479545,0.24530847841699957,0.20033918768228942,3.572217917623728,0.12979810802818897,0.2169587505402007,0.5721725453729586,0.0021427178850235242,2.5377816828529602,4.7425885842811155,0.8199676923059259,1.1585178221012735,1.8949447972078373,0.015177025169011444,0.817803544620256,0.018026362951752826,3.2553086447766657,1.4001113153846994,0.22534143590052164,0.43076531944508156,0.07751320352491418,1.735089145519364,0.15400044455184328,0.0009069164545213593,0.008121872106813248,1.0899297257229514,0.4776816597538917,0.6028383404597932,3.425176593783949,1.5894847520976096,1.1148819532756062,0.01711677299436643,0.056521368296225734,0.8117109746305834,0.6603549146033513,5.238496743202537,5.824670117989399,0.8961642886333133,7.633447401405408,1.0111377113240299,0.0685653745329855,0.0008776732086933265,0.065765753352615,2.8914010709903675,9.319587858338991,1.5048722797062764,0.7820642850150801,0.8623971964818751,0.8022997861875542,0.19081503321585316,0.09454346552222673,5.786324285271297,0.5889817406664204,0.3241634385222793,0.21497382567549828,0.25631712954683256,0.09200214591917567,0.010388578972926853,3.211173411516889,0.8502149794717397,0.033281549589245965,1.2510988777556578,0.11419799565182207,0.25874805776994986,0.05361164670676979,0.47574667216305855,0.11993218228491923,0.0024422061185064253,0.02526497005535156,0.04534066966692547,0.8930212823703241,0.12475066754010437,0.1015437215532361,0.17563215049492564,0.36855316193063525,1.808267108209802,0.03834335127927308,0.42626637929449035,0.41266469508201664,0.0017255441714752876,1.0167685786195315,0.060986342154344106,1.9449154348377538,2.3647764806722322,0.21659595827634495,2.029521373978332,0.030514818948526094,0.1373467415745298,0.26717080653437275,2.4739617497789337,1.2491289244618053,0.7597187281888409,0.3581942588150298,0.9356348286461489,1.9975363522425766,0.47427650984779846,2.3574280649987167,0.04374339470547551,3.323183559036069,0.03403499097856004,0.3474723466300134,1.365068823281063,2.7692262761373003,0.6934920002742502,2.3602864130177554,0.3366190992412888,3.0137581104252895,0.5395514494791128,1.6715098270948747,1.2431005950849232,0.045430861153451955,0.5445059460511874,0.8226244574319174,0.10382815826392493,0.011162518888350513,0.013010991720249408,0.1681824313712676,1.0613662337424663,0.05873728989137238,0.00020061499327348473,2.620409762331717,1.3649322327896745,0.17219654869840792,0.7527207566047504,2.8221513236695963,0.3098389481936398,2.8281872479479397,1.3546141902559863,0.1215023615050273,2.566155385873138,0.05655779496166725,1.6608064311400108,0.1421840458669161,0.02390821077601246,1.1263805392823325,0.481806361184431,2.425488706723544,0.2992025857151091,1.0975967629507009,2.207001786207351,2.2295917668394973,0.12269156930234516,0.23911802825878672,0.26426042342812683,0.043808698507900486,0.07907056316634485,1.0255600096771411,1.770071636752177,3.401287551884516,0.15769178428822625,0.40236049009863595,4.401433786032784,0.000320179951642425,0.6037828620625524,3.913331837464117,0.11924079125684875,0.04494125913193324,0.03433772404212922,0.010118620798606452,0.14215915222705233,0.5607906015794725,0.4615751023532905,1.8693463254370821,0.14817939172943648,0.803155254762028,0.004352138093582294,0.010118127552047076,0.5942847894904391,0.07762612099616639,2.659598700840329,0.0011564765785186326,0.07878175710486138,0.655129031556454,1.0823496494570182,0.0264767670292825,1.1187557137894073,0.0102986990589831,0.2881492791222356,1.3660808530640605,0.34576761473641837,1.0266370862512555,1.683944979536636,0.5839403015786272,0.4172781345184348,0.0014032247220010466,1.0781402122824908,0.0626469661685945,3.447971138319029,0.03943640216765928,0.8868401526125941,1.0059322407351863,0.13080678411683094,0.07099398390927669,0.28113323148657166,1.41146779920492,0.03393849222904577,0.17860548996244635,0.6222294474246082,1.2265725231010154,0.8426931733785387,1.8047885088312932,0.3892577895294595,1.362291952944378,0.4082681797155238,4.533503260568115,0.9143783310530921,2.9709340309236274,2.018560551102603,3.5147029061896977,7.952986359794771,0.004807389864378173,1.538868823791178,0.6236019004834762,1.425109263779252,0.20916618530496592,0.504197901633741,1.0907763708829314,1.6319859768710538,3.529970684630905,1.9803204458425667,0.5165860769389367,0.12847105305352918,1.1091603160847534,0.6575071665377794,0.04926897721016359,0.3656505414871123,0.07249018911974585,1.481829841396093,0.8898177374524631,0.11230296299604127,1.3973190573593097,0.22931641646203513,0.42189405552082443,2.357651661457295,7.671510672183401,0.22474847385957483,0.00547234362110526,1.64243967763875,0.2459705504593294,0.2912982071425073,0.0013303395574430588,1.2410476550835023,2.104994024449999,0.056191991498188924,0.2061032959027428,0.21995906296389753,2.069923123787577,2.000139151792221,0.17839600920679913,0.014756949792206993,0.6457750745255122,0.003991389794006743,3.1902670626142116,0.5483361950398462,0.5530739028983785,0.16584590174727462,1.1726162531357192,0.00859210175432785,0.4220254603645729,2.9564237144466685,0.004126710744012849,0.43959701877192336,0.09788056778766878,0.06926366376049399,0.2524689720705045,1.3076730654312285,0.013013976082665909,0.029917988866811143,1.9319055896797912,4.099348862740202,0.2779244994396051,1.0676379494762394,2.806249504891035,0.13671718469944869,0.8868785168805802,0.7721656505153808,1.1776922982262954,0.2941290689522731,0.5593212424449635,0.01050016808368514,0.7918979578255261,0.33906218425953066,0.9755998764946555,2.0350712870368945,1.1506762953549818,1.4314131123915212,0.01787910858352159,0.6639014638078438,0.0015389773849345516,0.4618278861554773,0.0013468800116290497,0.2279530206381638,0.2734881890509341,0.34021688542314044,0.1596081732550405,1.7696696996473347,1.6125861632455267,0.3785379863768427,0.03996493339998608,0.9480727772406816,0.1921822883981289,0.5377316815805198,0.36078274741602745,0.32813435351964576,1.6677239466556748,7.306926134917472,2.8975499848652122e-06,0.7982230148518125,0.08287856807995941,0.06217043926618378,0.15988305476124204,0.03926356956588314,1.1293932159872009,2.594024595008181,0.9779510372752396,1.123282620293843,0.49927072200847533,3.4659097288112495,1.5995029695322447,0.7138302719143457,0.3987900028058184,1.3294694279913366,0.21878502315620807,1.441246770687957,0.3883556459578205,0.06870160312245195,2.164923215299332,0.0989588485932603,0.0010681158621670445,1.7367536128893184,0.651751965735902,0.9465176990149947,0.3705601858434436,0.3683758559572166,2.994813182650825,0.45704623668516664,0.07554831639204182,0.0632631792463866,0.03164983834208734,6.150924270610055,0.22247714517503625,0.06215178689951034,0.5678330248376439,1.9763940386057912,0.29138939996661084,0.14425106916423794,1.853644999224705,0.6384965076803398,1.12915645009766,0.35310579969413863,0.15239353847075696,0.00078133095853776,0.8391963131057343,0.19849241062983533,0.49474752354690527,1.2685391961361885,0.954342287834153,5.123329924401169,0.3440445922704737,0.03016465181027308,0.6520946177170573,0.561920161126698,0.1712899832153222,3.2609635675490405,3.1397912128501555,0.43008014171305897,1.001944737373594,0.002443843858396613,0.05495373170673248,0.006800298331131297,1.3598343836336726,4.139424082531347e-05,0.7140180456610359,4.5504935380305085,0.17848877210390107,0.4089031063141835,0.1445226643768034,0.9452701654238901,0.4086648830987055,0.3412771342043561,0.23647012198086836,0.6961131326932312,0.08606691102238959,0.10566615418120899,0.029108535572502293,1.2574008522242837,0.13283545524247897,0.07180670161448001,1.9369071456386466,0.4093643781627991,2.0217164886203607,0.11372455444406047,0.5709760451668859,0.07030736116267565,1.3589887141717627,2.755506042643159,0.8793247821755015,2.189389630853281,2.1464353814450443,6.2993317312907715,0.0673370683088399,0.6079890896365788,0.307916796492545,6.257781599853301,0.1483747039513423,1.1061023525085214,0.19864192306485046,1.6811689988657874,2.584780859925859,0.08589231049321877,1.8981144105670813,1.353087056118129,0.298309318054003,0.07746840527447703,1.2913575368850283,0.05636652047036962,0.01367994913779283,0.8853787732176879,0.49068319764263946,0.48607357573373833,0.16267439846653559,0.35326604796429806,0.6842743528031253,0.21021152127102344,4.8965921991517325,0.004521770306732734,0.8026437684668696,0.12945073293928314,1.2834404455812403,0.8321237686860783,1.0530934844493018,0.036946491525917724,2.3344520137474816,1.174655927293743,6.73133102858185,1.4483924373547667,0.045575630609139314,0.5443620026550763,0.03200587084162257,0.5606306398508492,3.391100589387599,0.4156493350400399,0.04965072514040179,1.1031123764589552,0.004145480394284428,0.18081567848020272,0.0001319762520144954,1.1549111972206798,2.7286816987988356,1.4628560953758556,0.908273193233104,0.17577426432273138,0.22448913556519146,0.0027761568228663776,0.0532998326247746,1.4115126405495668,0.173511890036069,0.02580923658584602,0.1309246302145377,0.18273833780441087,0.9415559703524816,0.04526268714131911,0.3884131922815949,0.06312680785257403,1.0238960757492517,2.71843956878656,0.05964468972026439,0.5383658035333229,0.375069503732211,0.040476612798824724,0.40146925382882326,3.0295124766532378,0.15793524345061624,2.0809175216649076,6.05501763676238,0.03172121496954106,1.7017821528984203,0.08186010487102158,1.2992057112660387,5.4250548079412635,0.020003970658214094,4.6967597168419e-05,0.7747633791423173,0.06233698258548651,0.37581885495319745,0.4097344753648149,0.025762555389730005,2.3479707080939356,0.5130159224622798,1.410763883659635,0.31244818528118984,7.636783263480702e-06,0.9899160296510195,0.44552756107184277,0.3759416099112973,0.3464849521824817,2.504404175619852,0.4525527937679099,2.722725134502513,0.08785652697123225,1.2687319524143947,2.985654705620297,0.03720125094108022,2.3648095412084618,0.013287883432982562,0.309391000563778,0.8457985879820085,0.055261931098909554,1.2000587765411428,0.7348195199274119,0.48678654894169304,0.07105250415941425,4.106954279624755,0.03915898414214946,0.0034013112749969733,0.4641394687543947,0.6811028420231952,0.6732279007658516,0.1627522145593765,0.5906608884113813,0.7348201580467881,0.0632914194872248,0.11104343440519336,0.44718683387846503,1.0554696478969965e-05,0.24091084127931084,0.0031205335276426865,2.364534540142042,0.7873850732045432,1.7694279340876617,0.40115794694484547,0.20882281311842837,0.8361535097385882,1.0361144307965773,3.7759238901433223,0.1861007317452735,1.085119663594697,0.30341187201781566,0.47716932383896493,0.040767861167520014,1.5723658179572177,7.143223981120646,2.4582399641916313,0.36412457421324296,0.08465613750391841,0.015304186022191878,0.5662450464559008,0.19091143499834656,0.1549868375325857,0.0990357040030666,0.03516806486014012,0.009150587270827558,0.012552548250246412,0.13786033897317768,0.20979897623014768,0.30099509492270443,1.031573234009165,0.0018194103312818254,0.15697333237388944,0.017816971892306674,0.008158214137678756,0.9703481612447219,0.017336967317026455,0.24116831879453318,0.04405923276665002,0.272932654559265,0.005418691638910901,4.0472180237968844,2.5973284801873073,3.3969604463599192,0.0046449488736894,0.10418549168741167,0.2086293814518245,1.8090607039736852,3.6062355977387446,0.47730150901846324,1.8090940017095967,0.004925126678835526,1.3707113535893014,0.1115302196658834,0.6511958795052362,0.15751742826961143,1.9214786955624317,0.13605296496163163,0.30461170526768605,1.6401391538642829,0.10360930943807796,0.7066182780639798,0.2823583959275914,0.031664838935658524,0.25032577640737397,0.48693223397871066,0.8492535758112567,0.10893273281132897,0.7164156546064707,0.49714513355446327,0.18682732209946515,0.608304409615979,0.0012312626106767935,0.841933874151342,0.9365915711289949,1.2920754701530528,0.344465244441278,0.0968534864184427,1.5828945298917658,1.0999583322179363,1.7875608508839214,0.27280625561776284,0.0051367728648146664,0.2324099810117611,0.5484926431216084,0.08870863625654822,0.28746302522396533,1.6985781203056023,0.048130759735220435,0.026426616772689832,2.362199987109099,0.07993034465011277,0.34815372906204944,4.503959579692545,0.10876500911184897,1.1041661009317154,0.7656621718038739,2.14034828899798,0.14573471165039267,0.20146305648682936,0.33920157863093625,2.195724973106757,0.2848624952140566,2.506277751830843,0.09811496764244028,2.173918866765093,0.02266932774879221,0.9661219791423914,0.007407533889600936,0.04114218355297465,2.2389856136360273,0.2869116303832726,0.012826018510206939,0.005986711733467374,0.05389632494733047,1.2139640775455809,0.16126084363009258,4.912713026627148e-06,0.3504289075139576,1.0741294047913907,0.017356883787568802,0.07027472222040285,0.5573460971925617,0.10839472309485312,2.3894819016286917,0.9670031076238643,0.09749278606732056,2.5127421538958705,0.039627375908282525,0.3197422451424927,0.0021850603391228196,2.8161544309481403,0.007978158622385585,5.938362447616338,0.7165349753618789,0.21903438049509266,0.7503130028686452,1.9592491941269168,0.6707841400988124,3.8711559042433676,0.8209140259006351,0.006342507555877397,0.3488706565368747,2.386229352939894,0.1125121176378345,0.0008146980548669821,0.16492566584584806,0.10571644129644078,1.4355820936529946,1.0910080934299444,0.4039452691275117,5.022277013398615,0.33679527431794193,3.753937619695841,0.2740342317417137,0.9810333569856574,0.016109950832609406,3.0787800096468465,1.516291492275835,0.6108923196747773,0.3653634037814778,6.096020400306661e-05,0.0005826822388078172,0.5384836966672221,1.9810293276392466,2.4839008202174915,3.3041681935658036,0.9041540648487265,1.5908064678207081,0.05301353236313882,0.3705524146741116,0.03180062448902079,1.4284850094263895,0.4038107285696684,3.7142901260373686,0.004259841121661829,1.1021299063396464,0.8031257423948716,0.02929965435261713,0.49519004403871464,0.4259721456696751,0.001490381879901246,0.03889523075808097,0.2853610058837669,1.6063795551816995,3.91767901654851,0.6374258089614193,1.4288217699295835,0.8040276034478484,0.2721888588867391,0.00010472817494793242,0.05752484611347211,0.16506546955936452,0.25620313434581493,0.9049316389034591,0.7932270827676082,0.008264245309300384,0.07912923931759579,2.4014629893891133,0.28602204516987034,0.11246619271829052,0.4829073815165907,1.9346205659846392,1.5387452227418164,0.13796203537857296,0.3892550065769166,0.31125154759276585,0.36776370987266715,1.7462345427608414,3.5298391409740906,2.010198561476151,0.27694385866117105,2.1843798753512678,0.27203161947565013,1.0208563693806225,1.966704176904903,4.792951386145822,0.1576781855712125,2.931363733041848,0.09571055862432702,3.602681872278557e-06,1.7654856007038207,1.505722679025575,0.310838821203418,0.4380789598581745,0.2398860725064742,0.24052526880373187,0.011555928761426356,0.013361309208820567,0.37413928787490613,0.059144700305310396,1.1111800064028372,0.05081378000478028,2.948794148499762,0.12014238241037109,0.07373341718654035,0.0040998646339434,0.29277969933280634,0.5394796454903928,0.3171917376582822,0.2651487981618539,0.6094696147817885,3.6603673782975683,0.3783281951154272,1.4696976851969956,0.0003741325622152548,1.45057987337429,5.339429172298717,0.8325319681636472,0.0867650652114923,1.5752409408731165,2.4454575849486715,0.12680296970564645,0.7034843964223614,4.532398493416639e-06,0.04412071534490324,6.242363158714309,9.249669401355602e-06,0.06545777812435727,1.832520597967085,0.2332194907658158,0.1166638805381694,0.727191027678106,7.5299749430989715,0.11604646086907577,0.3250873071130862,0.006897142103475835,0.20136883769491262,0.34847436720203767,1.013116579294522,0.0025034545730688654,0.3189238462519774,0.3820426256862198,4.125624997224228,0.5987934097121345,1.9998320072766282,0.00032407739699452887,2.181647188812778,0.8468787564906273,5.526490211738211,1.242874518138305,0.047774283266715116,4.401316768729833,5.005214963558635,0.09524520264023263,0.4034257298737407,0.4529901678368065,0.0972356780817913,0.011219146572198411,0.9392589081533492,1.4964926363823896,0.7049447896854113,2.5819756477612157,0.025828861854885705,0.1942072792086037,0.3155461109431821,0.053450779129575625,4.985871848124592,0.00025298214082208756,0.7943535196149344,1.7928833804224011,0.24796613013065202,6.201256547759425,0.10253476577602777,5.017645271746518,0.6082955037909783,0.212932274859864,1.0541728418459473,0.14215732322000793,0.8446704339655472,0.7631638059437013,0.5074166326163825,1.2407851043496638,1.8712205393627928,0.2280264600807538,2.0392997447589893,0.07242012963162582,0.21130870964469245,4.433365619609902,0.5456129068650136,0.27220624653307224,0.7920169938390998,2.7622494155328265,0.060212043160664745,0.004377326487324451,0.021614027248889302,0.0008438809634912085,0.2143925954853858,0.33107580961420136,1.046343673658227,0.2872258592012023,0.1924698114431267,0.4896105660944359,0.6062895382637394,0.6648368741568383,0.10007185477437922,0.0005903844695922902,2.2788655822216257,0.5752252280603122,2.218173048986543,0.978110576522994,6.169036399047973,0.15139546339659368,0.48656896137287853,0.7107055601962969,0.2766393278900836,0.4795202375546871,0.713634350108334,0.014031915447889058,0.16064485280109878,2.15500997585164,0.13628184089655837,0.1761136707699977,1.6733533933503506,0.4367150902305588,0.011992954631675693,0.7175938891346675,0.540906380282688,7.534310108227884,3.249762653930348,0.1798933124319837,1.518626004942749,2.122791628288481,0.7900509005940695,5.495419339256729,2.272335198213965,2.9329882060291594,6.201344093342899,0.6278675553900974,0.9757859543086376,0.6122488546858549,2.9977890102247247,1.993861658314844,1.4953616117022857,2.3066218990479634,0.38890882882980227,0.8847820896195946,0.8790407200848765,0.5696661852370009,0.022323954351215133,1.7986322840648998,2.1671171484447407,1.3051910037319323,0.29790148001445066,0.08314216500299398,0.42127580305075835,0.6684866083585492,2.8796203023110127,0.370349168686398,0.0019509576363957615,1.5813995499955134,0.001306506380136637,0.8940110867237544,5.919893718186761,0.4826664740202751,0.005651325730963846,0.22545070697332992,0.02995160810168058,0.013364373954051023,0.11456719891281293,0.010845850139171498,1.2543523882530239,0.08802187279507044,0.024275872290683606,1.4461074158772564,0.9527431065063012,0.99634362465191],\"y\":[0.5773238597242994,2.0661904235130617,0.17394469602397308,2.4310827690786896,0.6218320300691373,0.3173893621001134,1.9011034884632516,0.7764322353499449,0.5387371351296862,2.9355660689053753,0.02641587757994091,2.059259363409914,0.5311762692247746,1.5676680689001128,0.25658064050871665,0.13940579311331533,1.2134895343646415,0.03166387569525928,0.9548310893301388,1.2763719125514947,0.23923056419756905,0.672286283568112,0.23872059884043853,0.03382300015139299,0.14793969800311985,0.07259259958965558,3.306628222751364,0.0013008446055165779,1.1166963319824506,0.33598362737698273,3.9158617259594757,1.1259796513976987,3.671450246763535,2.987560848004778,0.2651290362516187,0.49571824434579437,0.47075295955721175,0.9935727137386186,0.04234626124096202,0.18832743138186217,2.056534831187467,5.1789824210823,2.7062312141248817,1.2501144576765684,0.2193863612978547,0.4490483569202579,1.1793726760227357,3.7304935134076205,4.130051837599064,0.037323566760067435,0.01887023646339203,0.16058550420336395,0.014459306311551382,0.31008905714834106,0.2637536017417522,3.5935599312188833,0.06217751450746771,0.8537301967002733,2.800143440708876,0.32325034190249846,1.8817651874727666,0.33434421987648066,0.07992753080597244,0.5496667230732925,0.1354293947567098,0.940106463581284,4.254405513778459,0.8577718576275615,0.9242919743140152,0.8917562763570916,0.2356782107822763,0.2710838645319957,0.49987226089493797,1.2748872943690508,1.2057748869813139,0.09938267560205243,0.11069488321106619,0.02976805465958158,0.18118206535595377,0.04845759196163951,0.1466035862847909,2.529731175068755,0.08022902280747327,1.4843987853697638,1.5819983477411645,0.37680489393596667,0.40249116673627233,0.38888322029335376,0.10636436984153097,0.18623248106506504,0.035919983222420314,2.294244428469766,0.08076514422692725,0.0528662293512141,4.077787035908788e-06,6.134859824322077,0.3492084302452653,0.0005256349902320408,0.06114889528428358,0.9542574383098508,0.046557047488714295,1.1688953616777642,1.432923511814695,0.5910611244918649,1.6184841080815318,1.614036980535449,0.8538475871386049,0.6705481110868999,1.3915374497335318,0.09924871052287641,0.45908018247860516,0.49445086459926835,2.118222296099258,1.097487298593175,0.03587913106793888,3.827620481315301,0.047256162770278456,3.4491810950593043,1.4971362702914772,0.3863559698390339,0.002469102076978344,0.3568715190206887,0.22241840312968858,0.116867800175637,0.5899013298221386,0.406266333336289,2.040621718745196,0.48917967748428876,0.12805016955893853,0.33782791158151076,0.774244389982778,0.005531995816390166,1.4062281552888405,0.1079099634778882,0.00011690244848372246,5.614045439511574,1.1117090446892715,1.540112614480029,3.349319321830258,0.2906840696371947,0.14488495042098024,0.0745666046110735,2.9772910721190176,0.42609963968955433,0.7443392988028613,1.2888515379460481,0.2216231179332121,0.5935114697712622,0.44870779980045683,3.201066509189688,1.5966069227026025,0.32965774278679816,1.6757176654009216,0.01150583764557535,1.1498960932594584,0.0002543501259097725,0.1874445736825145,0.535418524105368,2.359220311070138,0.5829489527008613,0.1880967485095201,1.6044615217047458,0.22952068860480615,0.1781034599828741,0.07477569074151826,0.6344119251820924,2.448900784568646,0.7128045581633735,0.6277936428968507,0.6343492968427619,0.00047836360311190323,0.2861149746678976,0.5580994321394911,0.5517504911263403,1.592667066475312,0.6391317181191607,0.44382031074353595,0.007073383202710096,0.21443373415921427,0.5085381064308913,0.01215199848098722,2.5256207272580253,0.38332422755517087,0.00029883531189963037,0.008732837831208644,1.7373279665694776,1.256919584576868,0.35190559982918707,0.4771867757409191,0.002754596207039894,0.0047113665134225335,0.06655236974079591,7.088547752898516,0.2724036742914969,0.830535565266997,0.17685259423083305,4.664532851866499,0.33590414855284345,0.32351724012487615,0.7171940517242593,0.22891263812173085,0.4245003140939242,0.4642564285252706,4.487021397170376,1.7914878967981342,0.013382188264589544,0.1349708784613853,1.692375603444917,2.0516494342112472,0.014322886888790978,0.3184553963478585,1.0549316927592836,0.35595746958885033,0.017146678632141348,5.573893960116374,0.23827289425828804,2.5323070568796666,0.0010722960455277967,0.25251323156369876,0.03845042716449358,2.2001689866369483,0.7909075864540914,0.4205812558745735,1.2365599219563708,0.6795536218427333,1.5574646634197076,0.031323398327316065,0.5470159141244807,0.8522465636009141,0.02137050331772094,4.739951656107386,0.14208381088637304,4.1374794131876875,2.5330668368439504,0.6737219517088194,0.5262855133308334,1.321368055881938,1.6550102438892804,0.5713483503476299,1.05685978314185,0.11204081282756743,0.22510477045217397,0.2640927588524134,0.5545176400750763,1.946281594402676,0.1577640511177967,0.15119065453053365,0.28329543775763383,2.9532226239803623,0.01083943361057333,1.2485871065578988,0.3210784303731686,0.09157294155142162,0.2003925870494182,0.6796733924589554,1.144429312703975,0.004063382277559937,0.41794838498836434,1.8070315187204078,1.1500504663390974,1.6437034104492874,0.2474168293254912,0.04077623131621226,0.26784814411691005,0.3093566164940047,5.571851971962155,1.6588240706625055,0.8531241600044254,0.09849780509137929,7.5939046444574,0.13231696307221544,0.002734334235617377,4.535864502877799,2.863104816134486,2.8092873110678376,0.884247477708385,0.10237347584928787,3.821756802622187,0.023322955912885038,0.34551503855975707,0.3267786942473014,0.33250415415611767,2.651380544203224,0.025220102196676204,1.7345590599034695,0.16515269997632065,0.4310597207963195,0.7246459035819958,0.5335551883328207,0.005171440252722073,2.49167279697928,1.7746997566386027,0.49081974816845275,0.8175294824827664,0.07478578361964594,0.11518117383721226,0.07548017015846174,0.3653795862886045,0.16970550630019507,0.35130355314416034,0.7542555159712896,6.138395454585044,0.03200243701964432,3.2278929767027718,0.08938469290784049,1.3368716519525645,0.47638614274726104,0.9145754685072249,0.4084299332804949,0.202225327249433,2.160616976679278,1.1554012067384374,2.0325443889287746,0.010997624999023386,0.3963383843468094,8.429654035392238e-05,0.0011747058454310236,1.6423513229391211,0.00016934179982152874,3.4119765771525143,0.27889730766354437,0.3403344381789971,1.159260235017177,3.43037201661067,5.624874935191664,3.3264188272980655,0.0013693516382679448,0.00048133578543905527,0.1460087684974504,4.010504287876231,0.6263215074819835,3.9423424167998316,0.2366069364742099,0.124956749954284,1.7853800950382452,0.6567130341237049,0.3343772593297542,0.4328620191528705,1.972831119565269,1.4403146721442144,3.267148034973357,0.4997869897039227,0.0193930564750095,0.0008036798225862978,1.2474753171844015,0.8575409617102714,0.098311268832031,2.2066796965887248,0.16197297915254694,0.05231659461227234,0.18437589557345777,0.533017559222974,3.8948090470339762,2.5102948810814727,3.068457160565385,0.40971294727011653,0.5937825347032086,0.017522757062716495,0.012378497885228875,2.0787017875274802,0.6623055254294692,0.7061689769621631,0.8472133752726921,0.7666452319164319,0.04562413065627709,0.09643915926939177,0.060640723627365015,0.1102162658211294,1.2065432281830752,0.047924818681225605,0.848937154437453,0.24166923913060073,0.3766525815370221,0.21099778393525995,0.0807459895646628,0.05584639854609839,4.11319590914159,0.3638438183717109,2.952293009932829,0.0920265460014006,0.12428996978033238,0.7798344845594212,3.6951155873428463,0.017073504975356306,7.568780985952188,0.13693730539585003,0.2232710846125412,1.5583472555019875,0.045155419493557544,2.8671443773454404,1.0778929899621237,1.909701447864521,3.2615318140101146,0.855489612545103,0.32468452877858567,0.5761379783632226,0.012667316210177004,0.9213668717550643,0.9816741830967672,0.9989067720416336,0.18174751006937698,1.2840780841596304,2.9583570326489226,4.403870973619343,0.059799435661200516,1.5033498253379167,1.9605561443349786,0.348032847329863,0.08508136143442398,2.119393241420992,0.03412932286208091,0.6918634133036201,0.0953446678366101,0.38158009515881036,0.00018639356321344393,0.816053929793445,2.143849462552015,0.005058798077687937,0.2853530393670265,0.041819114969829096,0.011121089119051271,0.2591857426252405,0.0022794900742306294,0.2656608905498098,0.25227870363771576,1.075636314333158,0.6950236055186962,2.942155187936315,0.8776823372404661,2.7902759957187993,0.09222759778234232,1.8447634799245782,0.41302535826354086,1.271261092835015,0.382370130171847,9.831431534987262,1.4602205056358528,3.7700491110905747,1.590522863320015,3.101867807401808,0.006464569970962792,1.0272132048258626,2.244241196479914,8.736107311328148,4.436121566819283,0.018644512705836485,0.11328040627126738,0.5752169595506109,1.0270695284337645,0.05560992915271346,0.14868738056007605,0.16103169171044052,3.5381266879969258,3.0655003126772358,0.9497591783367455,1.6259052611225009,0.6490839788029055,0.933085292557677,0.4622734844903814,0.3785983695917848,0.2655244417124954,0.012253406065307516,0.40868180654622,0.10038141290592746,0.0076684421662371475,1.1506094611770383,0.002164812444964794,0.7291050850678643,0.014434355798414587,0.08668825174698506,1.2259143350297539,0.14808875642489278,0.608812507175094,0.016140827647310237,0.09643393846323149,0.34380577574935,0.12981953128239718,1.007276073374939,0.040090521199993144,0.29412591205627975,0.3757547396533332,0.17677869707601312,1.438786066251452,0.15934650203689374,0.5491285457850709,0.047210677507164886,2.009725594594278,1.3800654161208146,0.00328462817381492,3.4785744742645925,0.030047505443387613,0.8824865070680065,0.2955303890142814,0.831925116588455,0.0008870005889862663,0.8070636980382521,1.4032245105621903,1.2685618528031668,0.7391305733126896,0.05573347349530591,1.646889611787003,1.9670870129716012,0.3046640500251161,0.0505598947623832,0.25642865633580086,0.005302172553411848,0.09015132131677904,0.3090507155049085,0.2804532074326836,0.6614313303060377,1.7050787516622425,0.003988886690037675,0.26285153178148907,3.251857227828473,2.6376533863453675,3.041351402450469,0.5670760482404976,2.303796356101619,1.2950068146298876,0.107309721917706,1.4749712686241383,0.3248572995865543,0.7048636216211167,0.04004603468469438,0.03498793283836979,0.032851396159691904,0.09776154579387211,0.3829009257668638,0.4148585481195272,0.544192011075605,0.377736445995678,2.26287458378714,0.14748486480550532,0.11405004078225275,0.04255608773865858,0.02913099409323096,4.639458042277835,0.31565908556898653,4.332679154262933,1.5385375895697448,0.05169446337549671,0.06415850355756617,0.7119003933615332,0.17780478319968382,0.46848202819655593,0.8059002040949528,3.6048061839172028,0.0002666084995295886,1.7979696499525302,2.7292658590973002,0.5957340891617051,0.013394955234065437,0.19725498708984654,0.8394260385986837,0.216694454490709,3.1013786208833904,2.5905438669457,0.42948325688515837,1.7205946308707722,0.04692483676321322,0.7574676850126982,0.06410360543275219,0.06658707086528631,3.0249896052701404,0.48809631081557153,0.06685791403241892,0.01630065934559408,0.11680925651475642,0.5948695101407009,0.03730146288964217,0.617743417896201,0.00012844593258037594,0.012915797412069375,0.02974847745703401,1.3597962552103027,1.3293353082894557,0.8123174031912029,0.6020442709352599,0.08106706738610543,0.024828533979046025,1.7352841017715583,0.05158711260758755,0.0013407366384820998,0.3162201135635511,1.2387648943548082,1.1090012169352184,4.277529358078002,0.14137172582814717,0.9979355341033812,0.567562834754691,0.5787216806460135,1.813300767485111,2.5264170742695056,0.022055756905283466,0.008305774448520244,0.001208839201024153,1.719735921361923,3.3044432149932366,0.3227583019409049,1.441607656130374,0.6712038779272447,0.13319335071654145,0.009276258758093344,4.097163127346082,2.2839387003514124,3.618604957621588,0.1861053261618584,0.091011933234394,0.21182487339505665,2.1544213958573737,2.1222689260967202,0.5168244840863949,0.6428790461398438,2.2615915051977,1.9438120609007075,2.2770151180442113,1.453597926668656,0.22163539763161275,0.034935408291430145,0.20310414873390073,2.4141241252010355,0.24058774944663136,2.9096590489948673,0.5894615451255893,0.33989592647012484,0.06135861739434413,1.6353883010631642,1.6339512556928066,0.37238819412255364,0.005792158144282307,0.45174984848052785,1.6984943081842325,1.8450705953179598,0.16839645260817485,1.1945170600581898,0.11512582894193128,3.575211027660112,0.7774365974306179,0.34638048298144536,0.004198378229834986,0.2833586986112328,0.0032454231789588828,0.4711955976811076,0.8070855378730143,0.00010241995402926826,0.7879958340224041,0.31804808920401184,0.20548076782123392,0.8739037860458034,0.014045090424104968,0.01619474507911606,1.5355597888675396,0.706047425712072,0.3023508528619299,1.7258751036502742,0.008042650815551583,0.05439770116282126,0.12492130442231152,0.05065463805889531,0.12005001111357066,0.190794015285369,0.7902105926689658,0.28321275247195393,0.08724679557588573,1.1554692454845836,0.43217118046759634,0.2605988299302653,0.6424836066230911,0.008373004000010913,1.6595407947610454,0.43881202231991945,0.02556099836708847,0.029933456167363093,0.30218212201382494,0.1304005845882321,0.7245726699842187,1.9736547416263055,1.1994173028496997,0.7024705825112036,0.21235134774760167,1.23271236396552,0.6358116988272238,0.01908291627241058,0.04292907833168764,1.0391736565406313,0.9253395833606468,0.500575730252327,0.4156485871796116,0.17746920144554146,0.931488399172202,0.32151216657092263,0.2558935821264979,1.000121851808552,3.9259983441653885,2.7264882121370184,0.5876330548994139,0.25242511404474544,0.006912415286542369,0.1783083990441276,0.7205140017010245,0.002195155144696748,1.997704761805283,0.14828249373608582,0.056914808853615044,1.1925368052537628,0.08192837554748243,0.015329279714239136,0.16995601996597576,0.2971550955637018,0.8470705874693575,0.0215424918473622,1.396596915856894,0.5530242332238289,0.17373997763086826,0.4209348481810459,0.029107958792833545,1.146858407279415,5.117896603387663,2.9526497999457644,0.82258929500853,0.8669015602751913,0.21138089879919902,0.00023060281525557648,0.4134457941036954,1.851265801267196,0.018842233174587584,0.14021845175808856,1.2489385927630923,0.09222141436176241,0.12936071622141043,0.0003477297183444962,0.48142783798012795,0.34571464743426966,0.15196324490699067,0.00015168835918207693,0.3741294658978278,1.3828483213875842,1.8117770593002624,2.107467926876019,0.24929340526628307,3.2118373479982716,0.029756966483715206,2.3053180286827315,0.01401283634700505,0.6056702887825787,0.30240419506961674,0.03201164984951988,0.010711936771158849,1.899466027920827,0.7337543072083621,0.24540779302435667,3.1959040309493023,0.050105442893353884,0.0032837723982496263,2.4482234985961404,5.518522774583798,0.13664803592288163,0.0926115894103596,2.8040442281754427,1.9668842849607633,0.0718431721575134,0.28717444467966396,0.12270273391329213,0.00951372108268952,2.6448164621743833,2.8168220318751906,2.6542001564120583,2.0449249922070933,0.21502646961334837,2.414126739911644,0.32275919664834235,1.43349741201281,1.5186182380312034,0.41307885752300466,0.002686601601528667,1.778841533535807,0.003484840623770653,2.5275928739479663,0.026032734851920175,0.16979497973681024,0.07297559700357939,0.026716641597963515,0.9795948402600785,0.0017679865601377804,0.03500806143086726,0.08982425442990238,0.3505975351999194,1.9592553924652505,0.12759497474103004,0.01511640084366855,1.453710362607516,2.2492455460530403,1.0917826254195093,3.0745213649001686,3.1381715019076264,0.12361534058786532,0.0070576191018345965,2.0396411066087767e-05,0.6361820974309477,1.7553573617632732,5.067332372665335,0.09323540953226192,0.6812423187650858,0.051911676108911384,0.7656707546514844,0.3772034828942428,0.5220415907548673,1.3144585053640665,0.026218528787350606,0.13021583947998802,0.7481573132020077,0.625899939344653,0.09160604039677964,0.382562538395319,0.3876645091554907,0.0122678722943847,0.8268945159539847,0.5749035878583416,0.017946636410238734,0.9623959475226669,0.11756668224443662,2.31662760431251,0.114621719036587,0.466025474241036,0.3352020734174317,0.12624736463812267,0.5838647205238063,0.41226245976524817,0.10556970150073668,2.135426108356157,0.5961616383873128,1.1174114811790514,0.051489354903896604,0.09564797646726873,0.5221864090200996,0.039302167376123645,0.10845108986624685,0.07133129681212783,3.8932439483200607,0.955744119933286,0.20591502465764847,0.9519768054838981,0.0468557302644681,0.35408654087767394,1.560136200032972,0.020667022809600765,0.010269159991581994,0.18120790844549978,2.711608113763746,0.6150592204992115,0.2821954727393276,0.4597018632229858,0.015452440413886083,0.4011874130387783,1.521737685462838,1.719775192370118,0.20224181486676085,0.5074800416550548,0.005779740096284012,0.0232669779489526,0.43735168226356547,0.6387063171539541,0.9498275675690656,1.6016497093842788,5.605289202860545,0.9916856081750878,0.1538512337305485,1.1429557715150627,0.6813410963668248,1.8748316947773105,0.02275536586432283,1.64862527146603,0.2614092055911195,0.4561673945953244,0.001335865320591503,0.16898022944943142,0.007200827122738843,0.06982079477301839,1.3126164467475954,0.15195117218833176,0.3048359452053378,1.2068963031431486,0.10890593984888365,0.030021117597472502,0.1666512261257392,0.026975544719680115,0.0390560232267051,0.0004473741968551549,0.02577738955999764,2.255737429393901,0.02239735470517258,0.10876485761740928,2.000676653237167,0.011497904031991479,0.009376311101437019,3.5918602249438254,0.8719482934221069,0.1817866688722993,3.1662270111022024,1.590019607051441,0.6945785958827279,1.031894061246335,0.03961816191807331,5.848840159124241,0.0012329392907114948,1.1283180482841686,0.32482917837505354,0.08402941581210249,0.5222411731867537,0.5822322078999986,0.3274304746906908,1.5136198075972591,0.010524056720009407,1.7373087582919517,2.6052827279647546,0.9408406863322047,1.0227063047928728,0.31357513414114574,0.18038335063277758,0.9261086384937056,2.064148406461334,0.04046717377125992,0.40878510923921385,1.7901380480981381,2.351181858242611,0.11994471470996027,0.8226488487999054,0.16340179304416058,2.017527232505481,0.15060637013901476,0.7080205150336396,0.8397669267754714,0.7648710322078562,0.005309940226061016,0.3123378685144411,1.9673417606577572,0.9579058616529377,0.04699110893247803,0.8940343103116816,0.09764324043239075,1.7746598216610974,1.593086911967126,3.7868479292662087,0.04763273757023427,0.040003152173179964,8.118454448955499e-05,0.9750244939430365,0.298170617557005,0.5380309354832434,1.8671311468794844,0.09632926015128508,0.0015917713628332889,2.238665268018305,9.859082183326121,0.41606189573684277,0.5992775152325616,0.16239073631838757,0.1897554240936372,8.712474438872714,0.04071129715076048,1.7705172874661268,0.22222232386022814,0.08168433382086684,2.352907049920486,0.0171002719156774,0.7367452114054078,0.21735712971796106,4.6448387351503655,0.07543156787240264,5.6538846132039104,1.1409972774122437,0.5513149631792074,1.7604329909508725,0.2575131349241296,0.23480084347535896,0.3584889313907772,0.9110508756670365,0.020286776524906982,1.5188902390557042,2.0399404675975057,0.14596170519858764,0.0020515396732110566,1.3583667734433174,0.005638112856469369,0.18648301401887524,0.8737025246446335,2.7008064837427757,0.3730691740143764,2.4386438094711913,0.028817185429908018,0.6239171633435202,0.4738219758991201,0.09852298252799957,1.011636058314143,0.9809393484999482,0.6354545556495097,3.414191070142081,0.9252550425808704,0.5021957875255946,0.1649596050436858],\"type\":\"scatter\"}],                        {\"template\":{\"data\":{\"bar\":[{\"error_x\":{\"color\":\"#2a3f5f\"},\"error_y\":{\"color\":\"#2a3f5f\"},\"marker\":{\"line\":{\"color\":\"#E5ECF6\",\"width\":0.5},\"pattern\":{\"fillmode\":\"overlay\",\"size\":10,\"solidity\":0.2}},\"type\":\"bar\"}],\"barpolar\":[{\"marker\":{\"line\":{\"color\":\"#E5ECF6\",\"width\":0.5},\"pattern\":{\"fillmode\":\"overlay\",\"size\":10,\"solidity\":0.2}},\"type\":\"barpolar\"}],\"carpet\":[{\"aaxis\":{\"endlinecolor\":\"#2a3f5f\",\"gridcolor\":\"white\",\"linecolor\":\"white\",\"minorgridcolor\":\"white\",\"startlinecolor\":\"#2a3f5f\"},\"baxis\":{\"endlinecolor\":\"#2a3f5f\",\"gridcolor\":\"white\",\"linecolor\":\"white\",\"minorgridcolor\":\"white\",\"startlinecolor\":\"#2a3f5f\"},\"type\":\"carpet\"}],\"choropleth\":[{\"colorbar\":{\"outlinewidth\":0,\"ticks\":\"\"},\"type\":\"choropleth\"}],\"contour\":[{\"colorbar\":{\"outlinewidth\":0,\"ticks\":\"\"},\"colorscale\":[[0.0,\"#0d0887\"],[0.1111111111111111,\"#46039f\"],[0.2222222222222222,\"#7201a8\"],[0.3333333333333333,\"#9c179e\"],[0.4444444444444444,\"#bd3786\"],[0.5555555555555556,\"#d8576b\"],[0.6666666666666666,\"#ed7953\"],[0.7777777777777778,\"#fb9f3a\"],[0.8888888888888888,\"#fdca26\"],[1.0,\"#f0f921\"]],\"type\":\"contour\"}],\"contourcarpet\":[{\"colorbar\":{\"outlinewidth\":0,\"ticks\":\"\"},\"type\":\"contourcarpet\"}],\"heatmap\":[{\"colorbar\":{\"outlinewidth\":0,\"ticks\":\"\"},\"colorscale\":[[0.0,\"#0d0887\"],[0.1111111111111111,\"#46039f\"],[0.2222222222222222,\"#7201a8\"],[0.3333333333333333,\"#9c179e\"],[0.4444444444444444,\"#bd3786\"],[0.5555555555555556,\"#d8576b\"],[0.6666666666666666,\"#ed7953\"],[0.7777777777777778,\"#fb9f3a\"],[0.8888888888888888,\"#fdca26\"],[1.0,\"#f0f921\"]],\"type\":\"heatmap\"}],\"heatmapgl\":[{\"colorbar\":{\"outlinewidth\":0,\"ticks\":\"\"},\"colorscale\":[[0.0,\"#0d0887\"],[0.1111111111111111,\"#46039f\"],[0.2222222222222222,\"#7201a8\"],[0.3333333333333333,\"#9c179e\"],[0.4444444444444444,\"#bd3786\"],[0.5555555555555556,\"#d8576b\"],[0.6666666666666666,\"#ed7953\"],[0.7777777777777778,\"#fb9f3a\"],[0.8888888888888888,\"#fdca26\"],[1.0,\"#f0f921\"]],\"type\":\"heatmapgl\"}],\"histogram\":[{\"marker\":{\"pattern\":{\"fillmode\":\"overlay\",\"size\":10,\"solidity\":0.2}},\"type\":\"histogram\"}],\"histogram2d\":[{\"colorbar\":{\"outlinewidth\":0,\"ticks\":\"\"},\"colorscale\":[[0.0,\"#0d0887\"],[0.1111111111111111,\"#46039f\"],[0.2222222222222222,\"#7201a8\"],[0.3333333333333333,\"#9c179e\"],[0.4444444444444444,\"#bd3786\"],[0.5555555555555556,\"#d8576b\"],[0.6666666666666666,\"#ed7953\"],[0.7777777777777778,\"#fb9f3a\"],[0.8888888888888888,\"#fdca26\"],[1.0,\"#f0f921\"]],\"type\":\"histogram2d\"}],\"histogram2dcontour\":[{\"colorbar\":{\"outlinewidth\":0,\"ticks\":\"\"},\"colorscale\":[[0.0,\"#0d0887\"],[0.1111111111111111,\"#46039f\"],[0.2222222222222222,\"#7201a8\"],[0.3333333333333333,\"#9c179e\"],[0.4444444444444444,\"#bd3786\"],[0.5555555555555556,\"#d8576b\"],[0.6666666666666666,\"#ed7953\"],[0.7777777777777778,\"#fb9f3a\"],[0.8888888888888888,\"#fdca26\"],[1.0,\"#f0f921\"]],\"type\":\"histogram2dcontour\"}],\"mesh3d\":[{\"colorbar\":{\"outlinewidth\":0,\"ticks\":\"\"},\"type\":\"mesh3d\"}],\"parcoords\":[{\"line\":{\"colorbar\":{\"outlinewidth\":0,\"ticks\":\"\"}},\"type\":\"parcoords\"}],\"pie\":[{\"automargin\":true,\"type\":\"pie\"}],\"scatter\":[{\"marker\":{\"colorbar\":{\"outlinewidth\":0,\"ticks\":\"\"}},\"type\":\"scatter\"}],\"scatter3d\":[{\"line\":{\"colorbar\":{\"outlinewidth\":0,\"ticks\":\"\"}},\"marker\":{\"colorbar\":{\"outlinewidth\":0,\"ticks\":\"\"}},\"type\":\"scatter3d\"}],\"scattercarpet\":[{\"marker\":{\"colorbar\":{\"outlinewidth\":0,\"ticks\":\"\"}},\"type\":\"scattercarpet\"}],\"scattergeo\":[{\"marker\":{\"colorbar\":{\"outlinewidth\":0,\"ticks\":\"\"}},\"type\":\"scattergeo\"}],\"scattergl\":[{\"marker\":{\"colorbar\":{\"outlinewidth\":0,\"ticks\":\"\"}},\"type\":\"scattergl\"}],\"scattermapbox\":[{\"marker\":{\"colorbar\":{\"outlinewidth\":0,\"ticks\":\"\"}},\"type\":\"scattermapbox\"}],\"scatterpolar\":[{\"marker\":{\"colorbar\":{\"outlinewidth\":0,\"ticks\":\"\"}},\"type\":\"scatterpolar\"}],\"scatterpolargl\":[{\"marker\":{\"colorbar\":{\"outlinewidth\":0,\"ticks\":\"\"}},\"type\":\"scatterpolargl\"}],\"scatterternary\":[{\"marker\":{\"colorbar\":{\"outlinewidth\":0,\"ticks\":\"\"}},\"type\":\"scatterternary\"}],\"surface\":[{\"colorbar\":{\"outlinewidth\":0,\"ticks\":\"\"},\"colorscale\":[[0.0,\"#0d0887\"],[0.1111111111111111,\"#46039f\"],[0.2222222222222222,\"#7201a8\"],[0.3333333333333333,\"#9c179e\"],[0.4444444444444444,\"#bd3786\"],[0.5555555555555556,\"#d8576b\"],[0.6666666666666666,\"#ed7953\"],[0.7777777777777778,\"#fb9f3a\"],[0.8888888888888888,\"#fdca26\"],[1.0,\"#f0f921\"]],\"type\":\"surface\"}],\"table\":[{\"cells\":{\"fill\":{\"color\":\"#EBF0F8\"},\"line\":{\"color\":\"white\"}},\"header\":{\"fill\":{\"color\":\"#C8D4E3\"},\"line\":{\"color\":\"white\"}},\"type\":\"table\"}]},\"layout\":{\"annotationdefaults\":{\"arrowcolor\":\"#2a3f5f\",\"arrowhead\":0,\"arrowwidth\":1},\"autotypenumbers\":\"strict\",\"coloraxis\":{\"colorbar\":{\"outlinewidth\":0,\"ticks\":\"\"}},\"colorscale\":{\"diverging\":[[0,\"#8e0152\"],[0.1,\"#c51b7d\"],[0.2,\"#de77ae\"],[0.3,\"#f1b6da\"],[0.4,\"#fde0ef\"],[0.5,\"#f7f7f7\"],[0.6,\"#e6f5d0\"],[0.7,\"#b8e186\"],[0.8,\"#7fbc41\"],[0.9,\"#4d9221\"],[1,\"#276419\"]],\"sequential\":[[0.0,\"#0d0887\"],[0.1111111111111111,\"#46039f\"],[0.2222222222222222,\"#7201a8\"],[0.3333333333333333,\"#9c179e\"],[0.4444444444444444,\"#bd3786\"],[0.5555555555555556,\"#d8576b\"],[0.6666666666666666,\"#ed7953\"],[0.7777777777777778,\"#fb9f3a\"],[0.8888888888888888,\"#fdca26\"],[1.0,\"#f0f921\"]],\"sequentialminus\":[[0.0,\"#0d0887\"],[0.1111111111111111,\"#46039f\"],[0.2222222222222222,\"#7201a8\"],[0.3333333333333333,\"#9c179e\"],[0.4444444444444444,\"#bd3786\"],[0.5555555555555556,\"#d8576b\"],[0.6666666666666666,\"#ed7953\"],[0.7777777777777778,\"#fb9f3a\"],[0.8888888888888888,\"#fdca26\"],[1.0,\"#f0f921\"]]},\"colorway\":[\"#636efa\",\"#EF553B\",\"#00cc96\",\"#ab63fa\",\"#FFA15A\",\"#19d3f3\",\"#FF6692\",\"#B6E880\",\"#FF97FF\",\"#FECB52\"],\"font\":{\"color\":\"#2a3f5f\"},\"geo\":{\"bgcolor\":\"white\",\"lakecolor\":\"white\",\"landcolor\":\"#E5ECF6\",\"showlakes\":true,\"showland\":true,\"subunitcolor\":\"white\"},\"hoverlabel\":{\"align\":\"left\"},\"hovermode\":\"closest\",\"mapbox\":{\"style\":\"light\"},\"paper_bgcolor\":\"white\",\"plot_bgcolor\":\"#E5ECF6\",\"polar\":{\"angularaxis\":{\"gridcolor\":\"white\",\"linecolor\":\"white\",\"ticks\":\"\"},\"bgcolor\":\"#E5ECF6\",\"radialaxis\":{\"gridcolor\":\"white\",\"linecolor\":\"white\",\"ticks\":\"\"}},\"scene\":{\"xaxis\":{\"backgroundcolor\":\"#E5ECF6\",\"gridcolor\":\"white\",\"gridwidth\":2,\"linecolor\":\"white\",\"showbackground\":true,\"ticks\":\"\",\"zerolinecolor\":\"white\"},\"yaxis\":{\"backgroundcolor\":\"#E5ECF6\",\"gridcolor\":\"white\",\"gridwidth\":2,\"linecolor\":\"white\",\"showbackground\":true,\"ticks\":\"\",\"zerolinecolor\":\"white\"},\"zaxis\":{\"backgroundcolor\":\"#E5ECF6\",\"gridcolor\":\"white\",\"gridwidth\":2,\"linecolor\":\"white\",\"showbackground\":true,\"ticks\":\"\",\"zerolinecolor\":\"white\"}},\"shapedefaults\":{\"line\":{\"color\":\"#2a3f5f\"}},\"ternary\":{\"aaxis\":{\"gridcolor\":\"white\",\"linecolor\":\"white\",\"ticks\":\"\"},\"baxis\":{\"gridcolor\":\"white\",\"linecolor\":\"white\",\"ticks\":\"\"},\"bgcolor\":\"#E5ECF6\",\"caxis\":{\"gridcolor\":\"white\",\"linecolor\":\"white\",\"ticks\":\"\"}},\"title\":{\"x\":0.05},\"xaxis\":{\"automargin\":true,\"gridcolor\":\"white\",\"linecolor\":\"white\",\"ticks\":\"\",\"title\":{\"standoff\":15},\"zerolinecolor\":\"white\",\"zerolinewidth\":2},\"yaxis\":{\"automargin\":true,\"gridcolor\":\"white\",\"linecolor\":\"white\",\"ticks\":\"\",\"title\":{\"standoff\":15},\"zerolinecolor\":\"white\",\"zerolinewidth\":2}}}},                        {\"responsive\": true}                    ).then(function(){\n",
       "                            \n",
       "var gd = document.getElementById('be18fdaf-5905-4f8d-bcd9-f4d342574521');\n",
       "var x = new MutationObserver(function (mutations, observer) {{\n",
       "        var display = window.getComputedStyle(gd).display;\n",
       "        if (!display || display === 'none') {{\n",
       "            console.log([gd, 'removed!']);\n",
       "            Plotly.purge(gd);\n",
       "            observer.disconnect();\n",
       "        }}\n",
       "}});\n",
       "\n",
       "// Listen for the removal of the full notebook cells\n",
       "var notebookContainer = gd.closest('#notebook-container');\n",
       "if (notebookContainer) {{\n",
       "    x.observe(notebookContainer, {childList: true});\n",
       "}}\n",
       "\n",
       "// Listen for the clearing of the current output cell\n",
       "var outputEl = gd.closest('.output');\n",
       "if (outputEl) {{\n",
       "    x.observe(outputEl, {childList: true});\n",
       "}}\n",
       "\n",
       "                        })                };                });            </script>        </div>"
      ]
     },
     "metadata": {},
     "output_type": "display_data"
    }
   ],
   "source": [
    "\n",
    "random_x = np.random.randn(1000)\n",
    "random_y = np.random.randn(1000)\n",
    "\n",
    "# Create a trace\n",
    "trace1 = go.Scatter(\n",
    "    x = random_x,\n",
    "    y = random_y,\n",
    "    mode = 'markers'\n",
    ")\n",
    "trace2 = go.Scatter(\n",
    "    x = random_x**2,\n",
    "    y = random_y**2,\n",
    "    mode = 'markers'\n",
    ")\n",
    "data = [trace1, trace2]\n",
    "fig = go.Figure(data)\n",
    "fig \n"
   ]
  },
  {
   "cell_type": "markdown",
   "id": "2567b56b",
   "metadata": {},
   "source": [
    "## Pandas ❤ Matplotlib"
   ]
  },
  {
   "cell_type": "code",
   "execution_count": 2,
   "id": "8c212288",
   "metadata": {},
   "outputs": [],
   "source": [
    "import pandas as pd\n",
    "import matplotlib.pyplot as plt"
   ]
  },
  {
   "cell_type": "code",
   "execution_count": 13,
   "id": "c567cc1b",
   "metadata": {},
   "outputs": [
    {
     "data": {
      "text/plain": [
       "Index(['Unnamed: 0', 'City', 'Colors Reported', 'Shape Reported', 'State',\n",
       "       'Time', 'Year', 'Month', 'Day', 'Hour', 'Weekday', 'weekday_name',\n",
       "       'weekday_cats', 'sightings'],\n",
       "      dtype='object')"
      ]
     },
     "execution_count": 13,
     "metadata": {},
     "output_type": "execute_result"
    }
   ],
   "source": [
    "file_address = 'data/ufo2.csv'\n",
    "df = pd.read_csv(file_address) \n",
    "df.set_index('Date',inplace=True)\n",
    "df=df[df['Year']==1991]\n",
    "df.columns"
   ]
  },
  {
   "cell_type": "code",
   "execution_count": 14,
   "id": "5504962f",
   "metadata": {},
   "outputs": [
    {
     "data": {
      "text/html": [
       "<div>\n",
       "<style scoped>\n",
       "    .dataframe tbody tr th:only-of-type {\n",
       "        vertical-align: middle;\n",
       "    }\n",
       "\n",
       "    .dataframe tbody tr th {\n",
       "        vertical-align: top;\n",
       "    }\n",
       "\n",
       "    .dataframe thead th {\n",
       "        text-align: right;\n",
       "    }\n",
       "</style>\n",
       "<table border=\"1\" class=\"dataframe\">\n",
       "  <thead>\n",
       "    <tr style=\"text-align: right;\">\n",
       "      <th></th>\n",
       "      <th>Unnamed: 0</th>\n",
       "      <th>City</th>\n",
       "      <th>Colors Reported</th>\n",
       "      <th>Shape Reported</th>\n",
       "      <th>State</th>\n",
       "      <th>Time</th>\n",
       "      <th>Year</th>\n",
       "      <th>Month</th>\n",
       "      <th>Day</th>\n",
       "      <th>Hour</th>\n",
       "      <th>Weekday</th>\n",
       "      <th>weekday_name</th>\n",
       "      <th>weekday_cats</th>\n",
       "      <th>sightings</th>\n",
       "    </tr>\n",
       "    <tr>\n",
       "      <th>Date</th>\n",
       "      <th></th>\n",
       "      <th></th>\n",
       "      <th></th>\n",
       "      <th></th>\n",
       "      <th></th>\n",
       "      <th></th>\n",
       "      <th></th>\n",
       "      <th></th>\n",
       "      <th></th>\n",
       "      <th></th>\n",
       "      <th></th>\n",
       "      <th></th>\n",
       "      <th></th>\n",
       "      <th></th>\n",
       "    </tr>\n",
       "  </thead>\n",
       "  <tbody>\n",
       "    <tr>\n",
       "      <th>1991-01-01</th>\n",
       "      <td>6494</td>\n",
       "      <td>Milford</td>\n",
       "      <td>NaN</td>\n",
       "      <td>NaN</td>\n",
       "      <td>NH</td>\n",
       "      <td>1991-01-01 00:54:00</td>\n",
       "      <td>1991</td>\n",
       "      <td>1</td>\n",
       "      <td>1</td>\n",
       "      <td>0</td>\n",
       "      <td>1</td>\n",
       "      <td>Monday</td>\n",
       "      <td>Monday</td>\n",
       "      <td>2</td>\n",
       "    </tr>\n",
       "    <tr>\n",
       "      <th>1991-01-01</th>\n",
       "      <td>6495</td>\n",
       "      <td>Helena</td>\n",
       "      <td>NaN</td>\n",
       "      <td>TRIANGLE</td>\n",
       "      <td>AR</td>\n",
       "      <td>1991-01-01 21:00:00</td>\n",
       "      <td>1991</td>\n",
       "      <td>1</td>\n",
       "      <td>1</td>\n",
       "      <td>21</td>\n",
       "      <td>1</td>\n",
       "      <td>Monday</td>\n",
       "      <td>Monday</td>\n",
       "      <td>2</td>\n",
       "    </tr>\n",
       "    <tr>\n",
       "      <th>1991-01-10</th>\n",
       "      <td>6496</td>\n",
       "      <td>Canton</td>\n",
       "      <td>NaN</td>\n",
       "      <td>LIGHT</td>\n",
       "      <td>MS</td>\n",
       "      <td>1991-01-10 02:15:00</td>\n",
       "      <td>1991</td>\n",
       "      <td>1</td>\n",
       "      <td>10</td>\n",
       "      <td>2</td>\n",
       "      <td>3</td>\n",
       "      <td>Wednesday</td>\n",
       "      <td>Wednesday</td>\n",
       "      <td>1</td>\n",
       "    </tr>\n",
       "    <tr>\n",
       "      <th>1991-01-14</th>\n",
       "      <td>6497</td>\n",
       "      <td>Derry</td>\n",
       "      <td>NaN</td>\n",
       "      <td>DISK</td>\n",
       "      <td>NH</td>\n",
       "      <td>1991-01-14 20:30:00</td>\n",
       "      <td>1991</td>\n",
       "      <td>1</td>\n",
       "      <td>14</td>\n",
       "      <td>20</td>\n",
       "      <td>0</td>\n",
       "      <td>Sunday</td>\n",
       "      <td>Sunday</td>\n",
       "      <td>1</td>\n",
       "    </tr>\n",
       "    <tr>\n",
       "      <th>1991-01-15</th>\n",
       "      <td>6498</td>\n",
       "      <td>Buena Park</td>\n",
       "      <td>GREEN</td>\n",
       "      <td>SPHERE</td>\n",
       "      <td>CA</td>\n",
       "      <td>1991-01-15 22:00:00</td>\n",
       "      <td>1991</td>\n",
       "      <td>1</td>\n",
       "      <td>15</td>\n",
       "      <td>22</td>\n",
       "      <td>1</td>\n",
       "      <td>Monday</td>\n",
       "      <td>Monday</td>\n",
       "      <td>2</td>\n",
       "    </tr>\n",
       "  </tbody>\n",
       "</table>\n",
       "</div>"
      ],
      "text/plain": [
       "            Unnamed: 0        City Colors Reported Shape Reported State  \\\n",
       "Date                                                                      \n",
       "1991-01-01        6494     Milford             NaN            NaN    NH   \n",
       "1991-01-01        6495      Helena             NaN       TRIANGLE    AR   \n",
       "1991-01-10        6496      Canton             NaN          LIGHT    MS   \n",
       "1991-01-14        6497       Derry             NaN           DISK    NH   \n",
       "1991-01-15        6498  Buena Park           GREEN         SPHERE    CA   \n",
       "\n",
       "                           Time  Year  Month  Day  Hour  Weekday weekday_name  \\\n",
       "Date                                                                            \n",
       "1991-01-01  1991-01-01 00:54:00  1991      1    1     0        1       Monday   \n",
       "1991-01-01  1991-01-01 21:00:00  1991      1    1    21        1       Monday   \n",
       "1991-01-10  1991-01-10 02:15:00  1991      1   10     2        3    Wednesday   \n",
       "1991-01-14  1991-01-14 20:30:00  1991      1   14    20        0       Sunday   \n",
       "1991-01-15  1991-01-15 22:00:00  1991      1   15    22        1       Monday   \n",
       "\n",
       "           weekday_cats  sightings  \n",
       "Date                                \n",
       "1991-01-01       Monday          2  \n",
       "1991-01-01       Monday          2  \n",
       "1991-01-10    Wednesday          1  \n",
       "1991-01-14       Sunday          1  \n",
       "1991-01-15       Monday          2  "
      ]
     },
     "execution_count": 14,
     "metadata": {},
     "output_type": "execute_result"
    }
   ],
   "source": [
    "df.head()"
   ]
  },
  {
   "cell_type": "code",
   "execution_count": 15,
   "id": "2028cbfe",
   "metadata": {},
   "outputs": [
    {
     "data": {
      "image/png": "[encoded data removed]",
      "text/plain": [
       "<Figure size 432x288 with 1 Axes>"
      ]
     },
     "metadata": {
      "needs_background": "light"
     },
     "output_type": "display_data"
    }
   ],
   "source": [
    "df['sightings'].plot();"
   ]
  },
  {
   "cell_type": "code",
   "execution_count": 20,
   "id": "5e7aa78a",
   "metadata": {},
   "outputs": [
    {
     "data": {
      "image/png": "[encoded data removed]",
      "text/plain": [
       "<Figure size 1152x648 with 1 Axes>"
      ]
     },
     "metadata": {
      "needs_background": "light"
     },
     "output_type": "display_data"
    }
   ],
   "source": [
    "df[['sightings', 'Weekday']].plot(style={'sightings': 'red', 'Weekday': 'lightblue'}, figsize=(16,9));"
   ]
  }
 ],
 "metadata": {
  "kernelspec": {
   "display_name": "Python 3 (ipykernel)",
   "language": "python",
   "name": "python3"
  },
  "language_info": {
   "codemirror_mode": {
    "name": "ipython",
    "version": 3
   },
   "file_extension": ".py",
   "mimetype": "text/x-python",
   "name": "python",
   "nbconvert_exporter": "python",
   "pygments_lexer": "ipython3",
   "version": "3.9.7"
  }
 },
 "nbformat": 4,
 "nbformat_minor": 5
}
